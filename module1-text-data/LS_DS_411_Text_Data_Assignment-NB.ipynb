{
 "cells": [
  {
   "cell_type": "markdown",
   "metadata": {},
   "source": [
    "<img align=\"left\" src=\"https://lever-client-logos.s3.amazonaws.com/864372b1-534c-480e-acd5-9711f850815c-1524247202159.png\" width=200>\n",
    "<br></br>\n",
    "<br></br>\n",
    "\n",
    "# Natural Language Processing (NLP)\n",
    "## *Data Science Unit 4 Sprint 1 Assignment 1*\n",
    "\n",
    "Your goal in this assignment: find the attributes of the best & worst coffee shops in the dataset. The text is fairly raw: dates in the review, extra words in the `star_rating` column, etc. You'll probably want to clean that stuff up for a better analysis. \n",
    "\n",
    "Analyze the corpus of text using text visualizations of token frequency. Try cleaning the data as much as possible. Try the following techniques: \n",
    "- Lemmatization\n",
    "- Custom stopword removal\n",
    "\n",
    "Keep in mind the attributes of good tokens. Once you have a solid baseline, layer in the star rating in your visualization(s). Key part of this assignment - produce a write-up of the attributes of the best and worst coffee shops. Based on your analysis, what makes the best the best and the worst the worst. Use graphs and numbesr from your analysis to support your conclusions. There should be plenty of markdown cells! :coffee:"
   ]
  },
  {
   "cell_type": "code",
   "execution_count": 1,
   "metadata": {},
   "outputs": [
    {
     "data": {
      "image/jpeg": "[encoded data removed]",
      "text/html": [
       "\n",
       "        <iframe\n",
       "            width=\"400\"\n",
       "            height=\"300\"\n",
       "            src=\"https://www.youtube.com/embed/Jml7NVYm8cs\"\n",
       "            frameborder=\"0\"\n",
       "            allowfullscreen\n",
       "        ></iframe>\n",
       "        "
      ],
      "text/plain": [
       "<IPython.lib.display.YouTubeVideo at 0x15e8444db38>"
      ]
     },
     "execution_count": 1,
     "metadata": {},
     "output_type": "execute_result"
    }
   ],
   "source": [
    "from IPython.display import YouTubeVideo\n",
    "\n",
    "YouTubeVideo('Jml7NVYm8cs')"
   ]
  },
  {
   "cell_type": "code",
   "execution_count": 2,
   "metadata": {},
   "outputs": [
    {
     "data": {
      "text/plain": [
       "'C:\\\\Users\\\\test.NIDHNEMI\\\\lambda\\\\DS-Unit-4-Sprint-1-NLP\\\\module1-text-data'"
      ]
     },
     "execution_count": 2,
     "metadata": {},
     "output_type": "execute_result"
    }
   ],
   "source": [
    "%pwd"
   ]
  },
  {
   "cell_type": "code",
   "execution_count": 4,
   "metadata": {},
   "outputs": [
    {
     "data": {
      "text/html": [
       "<div>\n",
       "<style scoped>\n",
       "    .dataframe tbody tr th:only-of-type {\n",
       "        vertical-align: middle;\n",
       "    }\n",
       "\n",
       "    .dataframe tbody tr th {\n",
       "        vertical-align: top;\n",
       "    }\n",
       "\n",
       "    .dataframe thead th {\n",
       "        text-align: right;\n",
       "    }\n",
       "</style>\n",
       "<table border=\"1\" class=\"dataframe\">\n",
       "  <thead>\n",
       "    <tr style=\"text-align: right;\">\n",
       "      <th></th>\n",
       "      <th>coffee_shop_name</th>\n",
       "      <th>full_review_text</th>\n",
       "      <th>star_rating</th>\n",
       "    </tr>\n",
       "  </thead>\n",
       "  <tbody>\n",
       "    <tr>\n",
       "      <th>0</th>\n",
       "      <td>The Factory - Cafe With a Soul</td>\n",
       "      <td>11/25/2016 1 check-in Love love loved the atm...</td>\n",
       "      <td>5.0 star rating</td>\n",
       "    </tr>\n",
       "    <tr>\n",
       "      <th>1</th>\n",
       "      <td>The Factory - Cafe With a Soul</td>\n",
       "      <td>12/2/2016 Listed in Date Night: Austin, Ambia...</td>\n",
       "      <td>4.0 star rating</td>\n",
       "    </tr>\n",
       "    <tr>\n",
       "      <th>2</th>\n",
       "      <td>The Factory - Cafe With a Soul</td>\n",
       "      <td>11/30/2016 1 check-in Listed in Brunch Spots ...</td>\n",
       "      <td>4.0 star rating</td>\n",
       "    </tr>\n",
       "    <tr>\n",
       "      <th>3</th>\n",
       "      <td>The Factory - Cafe With a Soul</td>\n",
       "      <td>11/25/2016 Very cool decor! Good drinks Nice ...</td>\n",
       "      <td>2.0 star rating</td>\n",
       "    </tr>\n",
       "    <tr>\n",
       "      <th>4</th>\n",
       "      <td>The Factory - Cafe With a Soul</td>\n",
       "      <td>12/3/2016 1 check-in They are located within ...</td>\n",
       "      <td>4.0 star rating</td>\n",
       "    </tr>\n",
       "  </tbody>\n",
       "</table>\n",
       "</div>"
      ],
      "text/plain": [
       "                  coffee_shop_name  \\\n",
       "0  The Factory - Cafe With a Soul    \n",
       "1  The Factory - Cafe With a Soul    \n",
       "2  The Factory - Cafe With a Soul    \n",
       "3  The Factory - Cafe With a Soul    \n",
       "4  The Factory - Cafe With a Soul    \n",
       "\n",
       "                                    full_review_text        star_rating  \n",
       "0   11/25/2016 1 check-in Love love loved the atm...   5.0 star rating   \n",
       "1   12/2/2016 Listed in Date Night: Austin, Ambia...   4.0 star rating   \n",
       "2   11/30/2016 1 check-in Listed in Brunch Spots ...   4.0 star rating   \n",
       "3   11/25/2016 Very cool decor! Good drinks Nice ...   2.0 star rating   \n",
       "4   12/3/2016 1 check-in They are located within ...   4.0 star rating   "
      ]
     },
     "execution_count": 4,
     "metadata": {},
     "output_type": "execute_result"
    }
   ],
   "source": [
    "import pandas as pd\n",
    "\n",
    "url = \"https://raw.githubusercontent.com/LambdaSchool/DS-Unit-4-Sprint-1-NLP/master/module1-text-data/data/yelp_coffeeshop_review_data.csv\"\n",
    "\n",
    "shops = pd.read_csv(url)\n",
    "shops.head()"
   ]
  },
  {
   "cell_type": "code",
   "execution_count": 2,
   "metadata": {},
   "outputs": [],
   "source": [
    "# Start here"
   ]
  },
  {
   "cell_type": "markdown",
   "metadata": {},
   "source": [
    "## How do we want to analyze these coffee shop tokens? \n",
    "\n",
    "- Overall Word / Token Count\n",
    "- View Counts by Rating \n",
    "- *Hint:* a 'bad' coffee shops has a rating betweeen 1 & 3 based on the distribution of ratings. A 'good' coffee shop is a 4 or 5. "
   ]
  },
  {
   "cell_type": "code",
   "execution_count": 11,
   "metadata": {},
   "outputs": [],
   "source": [
    "\"\"\"\n",
    "Import Statements\n",
    "\"\"\"\n",
    "\n",
    "# Base\n",
    "from collections import Counter\n",
    "import re\n",
    " \n",
    "import pandas as pd\n",
    "\n",
    "# Plotting\n",
    "import squarify\n",
    "import matplotlib.pyplot as plt\n",
    "import seaborn as sns\n",
    "\n",
    "# NLP Libraries\n",
    "import spacy\n",
    "from spacy.tokenizer import Tokenizer\n",
    "from nltk.stem import PorterStemmer\n",
    "\n",
    "nlp = spacy.load(\"en_core_web_lg\")"
   ]
  },
  {
   "cell_type": "code",
   "execution_count": 12,
   "metadata": {},
   "outputs": [],
   "source": [
    "def tokenize(text):\n",
    "    \"\"\"Parses a string into a list of semantic units (words)\n",
    "\n",
    "    Args:\n",
    "        text (str): The string that the function will tokenize.\n",
    "\n",
    "    Returns:\n",
    "        list: tokens parsed out by the mechanics of your choice\n",
    "    \"\"\"\n",
    "    \n",
    "    tokens = re.sub(r'[^a-zA-Z ^0-9]', '', text)\n",
    "    tokens = tokens.lower().split()\n",
    "    \n",
    "    return tokens"
   ]
  },
  {
   "cell_type": "code",
   "execution_count": 15,
   "metadata": {},
   "outputs": [],
   "source": [
    "shops['tokens'] = shops['full_review_text'].apply(tokenize)"
   ]
  },
  {
   "cell_type": "code",
   "execution_count": 16,
   "metadata": {},
   "outputs": [
    {
     "data": {
      "text/plain": [
       "0    [11252016, 1, checkin, love, love, loved, the,...\n",
       "1    [1222016, listed, in, date, night, austin, amb...\n",
       "2    [11302016, 1, checkin, listed, in, brunch, spo...\n",
       "3    [11252016, very, cool, decor, good, drinks, ni...\n",
       "4    [1232016, 1, checkin, they, are, located, with...\n",
       "Name: tokens, dtype: object"
      ]
     },
     "execution_count": 16,
     "metadata": {},
     "output_type": "execute_result"
    }
   ],
   "source": [
    "shops['tokens'].head()"
   ]
  },
  {
   "cell_type": "code",
   "execution_count": 18,
   "metadata": {},
   "outputs": [],
   "source": [
    "import spacy\n",
    "from spacy.tokenizer import Tokenizer\n",
    "\n",
    "nlp = spacy.load(\"en_core_web_lg\")\n",
    "\n",
    "# Tokenizer\n",
    "tokenizer = Tokenizer(nlp.vocab)"
   ]
  },
  {
   "cell_type": "code",
   "execution_count": 19,
   "metadata": {},
   "outputs": [],
   "source": [
    "# Tokenizer Pipe\n",
    "\n",
    "tokens = []\n",
    "\n",
    "\"\"\" Make them tokens \"\"\"\n",
    "for doc in tokenizer.pipe(shops['full_review_text'], batch_size=500):\n",
    "    doc_tokens = [token.text for token in doc]\n",
    "    tokens.append(doc_tokens)\n",
    "\n",
    "shops['tokens_spacy'] = tokens"
   ]
  },
  {
   "cell_type": "code",
   "execution_count": 20,
   "metadata": {},
   "outputs": [
    {
     "data": {
      "text/html": [
       "<div>\n",
       "<style scoped>\n",
       "    .dataframe tbody tr th:only-of-type {\n",
       "        vertical-align: middle;\n",
       "    }\n",
       "\n",
       "    .dataframe tbody tr th {\n",
       "        vertical-align: top;\n",
       "    }\n",
       "\n",
       "    .dataframe thead th {\n",
       "        text-align: right;\n",
       "    }\n",
       "</style>\n",
       "<table border=\"1\" class=\"dataframe\">\n",
       "  <thead>\n",
       "    <tr style=\"text-align: right;\">\n",
       "      <th></th>\n",
       "      <th>coffee_shop_name</th>\n",
       "      <th>full_review_text</th>\n",
       "      <th>star_rating</th>\n",
       "      <th>tokens</th>\n",
       "      <th>tokens_spacy</th>\n",
       "    </tr>\n",
       "  </thead>\n",
       "  <tbody>\n",
       "    <tr>\n",
       "      <th>0</th>\n",
       "      <td>The Factory - Cafe With a Soul</td>\n",
       "      <td>11/25/2016 1 check-in Love love loved the atm...</td>\n",
       "      <td>5.0 star rating</td>\n",
       "      <td>[11252016, 1, checkin, love, love, loved, the,...</td>\n",
       "      <td>[ , 11/25/2016, 1, check-in, Love, love, loved...</td>\n",
       "    </tr>\n",
       "    <tr>\n",
       "      <th>1</th>\n",
       "      <td>The Factory - Cafe With a Soul</td>\n",
       "      <td>12/2/2016 Listed in Date Night: Austin, Ambia...</td>\n",
       "      <td>4.0 star rating</td>\n",
       "      <td>[1222016, listed, in, date, night, austin, amb...</td>\n",
       "      <td>[ , 12/2/2016, Listed, in, Date, Night:, Austi...</td>\n",
       "    </tr>\n",
       "    <tr>\n",
       "      <th>2</th>\n",
       "      <td>The Factory - Cafe With a Soul</td>\n",
       "      <td>11/30/2016 1 check-in Listed in Brunch Spots ...</td>\n",
       "      <td>4.0 star rating</td>\n",
       "      <td>[11302016, 1, checkin, listed, in, brunch, spo...</td>\n",
       "      <td>[ , 11/30/2016, 1, check-in, Listed, in, Brunc...</td>\n",
       "    </tr>\n",
       "    <tr>\n",
       "      <th>3</th>\n",
       "      <td>The Factory - Cafe With a Soul</td>\n",
       "      <td>11/25/2016 Very cool decor! Good drinks Nice ...</td>\n",
       "      <td>2.0 star rating</td>\n",
       "      <td>[11252016, very, cool, decor, good, drinks, ni...</td>\n",
       "      <td>[ , 11/25/2016, Very, cool, decor!, Good, drin...</td>\n",
       "    </tr>\n",
       "    <tr>\n",
       "      <th>4</th>\n",
       "      <td>The Factory - Cafe With a Soul</td>\n",
       "      <td>12/3/2016 1 check-in They are located within ...</td>\n",
       "      <td>4.0 star rating</td>\n",
       "      <td>[1232016, 1, checkin, they, are, located, with...</td>\n",
       "      <td>[ , 12/3/2016, 1, check-in, They, are, located...</td>\n",
       "    </tr>\n",
       "  </tbody>\n",
       "</table>\n",
       "</div>"
      ],
      "text/plain": [
       "                  coffee_shop_name  \\\n",
       "0  The Factory - Cafe With a Soul    \n",
       "1  The Factory - Cafe With a Soul    \n",
       "2  The Factory - Cafe With a Soul    \n",
       "3  The Factory - Cafe With a Soul    \n",
       "4  The Factory - Cafe With a Soul    \n",
       "\n",
       "                                    full_review_text        star_rating  \\\n",
       "0   11/25/2016 1 check-in Love love loved the atm...   5.0 star rating    \n",
       "1   12/2/2016 Listed in Date Night: Austin, Ambia...   4.0 star rating    \n",
       "2   11/30/2016 1 check-in Listed in Brunch Spots ...   4.0 star rating    \n",
       "3   11/25/2016 Very cool decor! Good drinks Nice ...   2.0 star rating    \n",
       "4   12/3/2016 1 check-in They are located within ...   4.0 star rating    \n",
       "\n",
       "                                              tokens  \\\n",
       "0  [11252016, 1, checkin, love, love, loved, the,...   \n",
       "1  [1222016, listed, in, date, night, austin, amb...   \n",
       "2  [11302016, 1, checkin, listed, in, brunch, spo...   \n",
       "3  [11252016, very, cool, decor, good, drinks, ni...   \n",
       "4  [1232016, 1, checkin, they, are, located, with...   \n",
       "\n",
       "                                        tokens_spacy  \n",
       "0  [ , 11/25/2016, 1, check-in, Love, love, loved...  \n",
       "1  [ , 12/2/2016, Listed, in, Date, Night:, Austi...  \n",
       "2  [ , 11/30/2016, 1, check-in, Listed, in, Brunc...  \n",
       "3  [ , 11/25/2016, Very, cool, decor!, Good, drin...  \n",
       "4  [ , 12/3/2016, 1, check-in, They, are, located...  "
      ]
     },
     "execution_count": 20,
     "metadata": {},
     "output_type": "execute_result"
    }
   ],
   "source": [
    "shops.head()"
   ]
  },
  {
   "cell_type": "code",
   "execution_count": 44,
   "metadata": {},
   "outputs": [],
   "source": [
    "def count(docs):\n",
    "\n",
    "        word_counts = Counter()\n",
    "        appears_in = Counter()\n",
    "        \n",
    "        total_docs = len(docs)\n",
    "\n",
    "        for doc in docs:\n",
    "            word_counts.update(doc)\n",
    "            appears_in.update(set(doc))\n",
    "\n",
    "        temp = zip(word_counts.keys(), word_counts.values())\n",
    "        \n",
    "        wc = pd.DataFrame(temp, columns = ['word', 'count'])\n",
    "\n",
    "        wc['rank'] = wc['count'].rank(method='first', ascending=False)\n",
    "        total = wc['count'].sum()\n",
    "\n",
    "        wc['pct_total'] = wc['count'].apply(lambda x: x / total)\n",
    "        \n",
    "        wc = wc.sort_values(by='rank')\n",
    "        wc['cul_pct_total'] = wc['pct_total'].cumsum()\n",
    "\n",
    "        t2 = zip(appears_in.keys(), appears_in.values())\n",
    "        ac = pd.DataFrame(t2, columns=['word', 'appears_in'])\n",
    "        wc = ac.merge(wc, on='word')\n",
    "\n",
    "        wc['appears_in_pct'] = wc['appears_in'].apply(lambda x: x / total_docs)\n",
    "        \n",
    "        return wc.sort_values(by='rank')"
   ]
  },
  {
   "cell_type": "code",
   "execution_count": 46,
   "metadata": {},
   "outputs": [
    {
     "data": {
      "text/html": [
       "<div>\n",
       "<style scoped>\n",
       "    .dataframe tbody tr th:only-of-type {\n",
       "        vertical-align: middle;\n",
       "    }\n",
       "\n",
       "    .dataframe tbody tr th {\n",
       "        vertical-align: top;\n",
       "    }\n",
       "\n",
       "    .dataframe thead th {\n",
       "        text-align: right;\n",
       "    }\n",
       "</style>\n",
       "<table border=\"1\" class=\"dataframe\">\n",
       "  <thead>\n",
       "    <tr style=\"text-align: right;\">\n",
       "      <th></th>\n",
       "      <th>word</th>\n",
       "      <th>appears_in</th>\n",
       "      <th>count</th>\n",
       "      <th>rank</th>\n",
       "      <th>pct_total</th>\n",
       "      <th>cul_pct_total</th>\n",
       "      <th>appears_in_pct</th>\n",
       "    </tr>\n",
       "  </thead>\n",
       "  <tbody>\n",
       "    <tr>\n",
       "      <th>72</th>\n",
       "      <td>the</td>\n",
       "      <td>6847</td>\n",
       "      <td>34809</td>\n",
       "      <td>1.0</td>\n",
       "      <td>0.044537</td>\n",
       "      <td>0.044537</td>\n",
       "      <td>0.899028</td>\n",
       "    </tr>\n",
       "    <tr>\n",
       "      <th>69</th>\n",
       "      <td>and</td>\n",
       "      <td>6864</td>\n",
       "      <td>26650</td>\n",
       "      <td>2.0</td>\n",
       "      <td>0.034098</td>\n",
       "      <td>0.078634</td>\n",
       "      <td>0.901261</td>\n",
       "    </tr>\n",
       "    <tr>\n",
       "      <th>9</th>\n",
       "      <td>a</td>\n",
       "      <td>6246</td>\n",
       "      <td>22755</td>\n",
       "      <td>3.0</td>\n",
       "      <td>0.029114</td>\n",
       "      <td>0.107748</td>\n",
       "      <td>0.820116</td>\n",
       "    </tr>\n",
       "    <tr>\n",
       "      <th>23</th>\n",
       "      <td>i</td>\n",
       "      <td>5528</td>\n",
       "      <td>20237</td>\n",
       "      <td>4.0</td>\n",
       "      <td>0.025892</td>\n",
       "      <td>0.133641</td>\n",
       "      <td>0.725840</td>\n",
       "    </tr>\n",
       "    <tr>\n",
       "      <th>53</th>\n",
       "      <td>to</td>\n",
       "      <td>5653</td>\n",
       "      <td>17164</td>\n",
       "      <td>5.0</td>\n",
       "      <td>0.021961</td>\n",
       "      <td>0.155601</td>\n",
       "      <td>0.742253</td>\n",
       "    </tr>\n",
       "  </tbody>\n",
       "</table>\n",
       "</div>"
      ],
      "text/plain": [
       "   word  appears_in  count  rank  pct_total  cul_pct_total  appears_in_pct\n",
       "72  the        6847  34809   1.0   0.044537       0.044537        0.899028\n",
       "69  and        6864  26650   2.0   0.034098       0.078634        0.901261\n",
       "9     a        6246  22755   3.0   0.029114       0.107748        0.820116\n",
       "23    i        5528  20237   4.0   0.025892       0.133641        0.725840\n",
       "53   to        5653  17164   5.0   0.021961       0.155601        0.742253"
      ]
     },
     "execution_count": 46,
     "metadata": {},
     "output_type": "execute_result"
    }
   ],
   "source": [
    "wc = count(shops['tokens'])\n",
    "wc.head()"
   ]
  },
  {
   "cell_type": "code",
   "execution_count": 47,
   "metadata": {},
   "outputs": [
    {
     "data": {
      "text/html": [
       "<div>\n",
       "<style scoped>\n",
       "    .dataframe tbody tr th:only-of-type {\n",
       "        vertical-align: middle;\n",
       "    }\n",
       "\n",
       "    .dataframe tbody tr th {\n",
       "        vertical-align: top;\n",
       "    }\n",
       "\n",
       "    .dataframe thead th {\n",
       "        text-align: right;\n",
       "    }\n",
       "</style>\n",
       "<table border=\"1\" class=\"dataframe\">\n",
       "  <thead>\n",
       "    <tr style=\"text-align: right;\">\n",
       "      <th></th>\n",
       "      <th>word</th>\n",
       "      <th>appears_in</th>\n",
       "      <th>count</th>\n",
       "      <th>rank</th>\n",
       "      <th>pct_total</th>\n",
       "      <th>cul_pct_total</th>\n",
       "      <th>appears_in_pct</th>\n",
       "    </tr>\n",
       "  </thead>\n",
       "  <tbody>\n",
       "    <tr>\n",
       "      <th>33</th>\n",
       "      <td>the</td>\n",
       "      <td>6520</td>\n",
       "      <td>27779</td>\n",
       "      <td>1.0</td>\n",
       "      <td>0.034334</td>\n",
       "      <td>0.034334</td>\n",
       "      <td>0.856092</td>\n",
       "    </tr>\n",
       "    <tr>\n",
       "      <th>32</th>\n",
       "      <td>and</td>\n",
       "      <td>6804</td>\n",
       "      <td>25748</td>\n",
       "      <td>2.0</td>\n",
       "      <td>0.031824</td>\n",
       "      <td>0.066157</td>\n",
       "      <td>0.893382</td>\n",
       "    </tr>\n",
       "    <tr>\n",
       "      <th>67</th>\n",
       "      <td></td>\n",
       "      <td>7616</td>\n",
       "      <td>22606</td>\n",
       "      <td>3.0</td>\n",
       "      <td>0.027940</td>\n",
       "      <td>0.094097</td>\n",
       "      <td>1.000000</td>\n",
       "    </tr>\n",
       "    <tr>\n",
       "      <th>24</th>\n",
       "      <td>a</td>\n",
       "      <td>6181</td>\n",
       "      <td>22085</td>\n",
       "      <td>4.0</td>\n",
       "      <td>0.027296</td>\n",
       "      <td>0.121394</td>\n",
       "      <td>0.811581</td>\n",
       "    </tr>\n",
       "    <tr>\n",
       "      <th>3</th>\n",
       "      <td>I</td>\n",
       "      <td>5469</td>\n",
       "      <td>19780</td>\n",
       "      <td>5.0</td>\n",
       "      <td>0.024447</td>\n",
       "      <td>0.145841</td>\n",
       "      <td>0.718093</td>\n",
       "    </tr>\n",
       "  </tbody>\n",
       "</table>\n",
       "</div>"
      ],
      "text/plain": [
       "   word  appears_in  count  rank  pct_total  cul_pct_total  appears_in_pct\n",
       "33  the        6520  27779   1.0   0.034334       0.034334        0.856092\n",
       "32  and        6804  25748   2.0   0.031824       0.066157        0.893382\n",
       "67             7616  22606   3.0   0.027940       0.094097        1.000000\n",
       "24    a        6181  22085   4.0   0.027296       0.121394        0.811581\n",
       "3     I        5469  19780   5.0   0.024447       0.145841        0.718093"
      ]
     },
     "execution_count": 47,
     "metadata": {},
     "output_type": "execute_result"
    }
   ],
   "source": [
    "wc_spacy = count(shops['tokens_spacy'])\n",
    "wc_spacy.head()"
   ]
  },
  {
   "cell_type": "code",
   "execution_count": 32,
   "metadata": {},
   "outputs": [],
   "source": [
    "shops['rating'] = shops['star_rating'].str.replace(' star rating','')"
   ]
  },
  {
   "cell_type": "code",
   "execution_count": 37,
   "metadata": {},
   "outputs": [],
   "source": [
    "shops['rating'] = shops['rating'].astype(int)"
   ]
  },
  {
   "cell_type": "code",
   "execution_count": 38,
   "metadata": {},
   "outputs": [
    {
     "data": {
      "text/html": [
       "<div>\n",
       "<style scoped>\n",
       "    .dataframe tbody tr th:only-of-type {\n",
       "        vertical-align: middle;\n",
       "    }\n",
       "\n",
       "    .dataframe tbody tr th {\n",
       "        vertical-align: top;\n",
       "    }\n",
       "\n",
       "    .dataframe thead th {\n",
       "        text-align: right;\n",
       "    }\n",
       "</style>\n",
       "<table border=\"1\" class=\"dataframe\">\n",
       "  <thead>\n",
       "    <tr style=\"text-align: right;\">\n",
       "      <th></th>\n",
       "      <th>coffee_shop_name</th>\n",
       "      <th>full_review_text</th>\n",
       "      <th>star_rating</th>\n",
       "      <th>tokens</th>\n",
       "      <th>tokens_spacy</th>\n",
       "      <th>rating</th>\n",
       "    </tr>\n",
       "  </thead>\n",
       "  <tbody>\n",
       "    <tr>\n",
       "      <th>0</th>\n",
       "      <td>The Factory - Cafe With a Soul</td>\n",
       "      <td>11/25/2016 1 check-in Love love loved the atm...</td>\n",
       "      <td>5.0 star rating</td>\n",
       "      <td>[11252016, 1, checkin, love, love, loved, the,...</td>\n",
       "      <td>[ , 11/25/2016, 1, check-in, Love, love, loved...</td>\n",
       "      <td>5</td>\n",
       "    </tr>\n",
       "    <tr>\n",
       "      <th>1</th>\n",
       "      <td>The Factory - Cafe With a Soul</td>\n",
       "      <td>12/2/2016 Listed in Date Night: Austin, Ambia...</td>\n",
       "      <td>4.0 star rating</td>\n",
       "      <td>[1222016, listed, in, date, night, austin, amb...</td>\n",
       "      <td>[ , 12/2/2016, Listed, in, Date, Night:, Austi...</td>\n",
       "      <td>4</td>\n",
       "    </tr>\n",
       "    <tr>\n",
       "      <th>2</th>\n",
       "      <td>The Factory - Cafe With a Soul</td>\n",
       "      <td>11/30/2016 1 check-in Listed in Brunch Spots ...</td>\n",
       "      <td>4.0 star rating</td>\n",
       "      <td>[11302016, 1, checkin, listed, in, brunch, spo...</td>\n",
       "      <td>[ , 11/30/2016, 1, check-in, Listed, in, Brunc...</td>\n",
       "      <td>4</td>\n",
       "    </tr>\n",
       "    <tr>\n",
       "      <th>3</th>\n",
       "      <td>The Factory - Cafe With a Soul</td>\n",
       "      <td>11/25/2016 Very cool decor! Good drinks Nice ...</td>\n",
       "      <td>2.0 star rating</td>\n",
       "      <td>[11252016, very, cool, decor, good, drinks, ni...</td>\n",
       "      <td>[ , 11/25/2016, Very, cool, decor!, Good, drin...</td>\n",
       "      <td>2</td>\n",
       "    </tr>\n",
       "    <tr>\n",
       "      <th>4</th>\n",
       "      <td>The Factory - Cafe With a Soul</td>\n",
       "      <td>12/3/2016 1 check-in They are located within ...</td>\n",
       "      <td>4.0 star rating</td>\n",
       "      <td>[1232016, 1, checkin, they, are, located, with...</td>\n",
       "      <td>[ , 12/3/2016, 1, check-in, They, are, located...</td>\n",
       "      <td>4</td>\n",
       "    </tr>\n",
       "  </tbody>\n",
       "</table>\n",
       "</div>"
      ],
      "text/plain": [
       "                  coffee_shop_name  \\\n",
       "0  The Factory - Cafe With a Soul    \n",
       "1  The Factory - Cafe With a Soul    \n",
       "2  The Factory - Cafe With a Soul    \n",
       "3  The Factory - Cafe With a Soul    \n",
       "4  The Factory - Cafe With a Soul    \n",
       "\n",
       "                                    full_review_text        star_rating  \\\n",
       "0   11/25/2016 1 check-in Love love loved the atm...   5.0 star rating    \n",
       "1   12/2/2016 Listed in Date Night: Austin, Ambia...   4.0 star rating    \n",
       "2   11/30/2016 1 check-in Listed in Brunch Spots ...   4.0 star rating    \n",
       "3   11/25/2016 Very cool decor! Good drinks Nice ...   2.0 star rating    \n",
       "4   12/3/2016 1 check-in They are located within ...   4.0 star rating    \n",
       "\n",
       "                                              tokens  \\\n",
       "0  [11252016, 1, checkin, love, love, loved, the,...   \n",
       "1  [1222016, listed, in, date, night, austin, amb...   \n",
       "2  [11302016, 1, checkin, listed, in, brunch, spo...   \n",
       "3  [11252016, very, cool, decor, good, drinks, ni...   \n",
       "4  [1232016, 1, checkin, they, are, located, with...   \n",
       "\n",
       "                                        tokens_spacy  rating  \n",
       "0  [ , 11/25/2016, 1, check-in, Love, love, loved...       5  \n",
       "1  [ , 12/2/2016, Listed, in, Date, Night:, Austi...       4  \n",
       "2  [ , 11/30/2016, 1, check-in, Listed, in, Brunc...       4  \n",
       "3  [ , 11/25/2016, Very, cool, decor!, Good, drin...       2  \n",
       "4  [ , 12/3/2016, 1, check-in, They, are, located...       4  "
      ]
     },
     "execution_count": 38,
     "metadata": {},
     "output_type": "execute_result"
    }
   ],
   "source": [
    "shops.head()"
   ]
  },
  {
   "cell_type": "code",
   "execution_count": 76,
   "metadata": {},
   "outputs": [
    {
     "data": {
      "image/png": "[encoded data removed]",
      "text/plain": [
       "<Figure size 432x288 with 1 Axes>"
      ]
     },
     "metadata": {
      "needs_background": "light"
     },
     "output_type": "display_data"
    }
   ],
   "source": [
    "## Display of tokens using spacy's tokenizer\n",
    "\n",
    "tokens = []\n",
    "\n",
    "\"\"\" Update those tokens w/o stopwords\"\"\"\n",
    "for doc in tokenizer.pipe(shops['full_review_text'], batch_size=500):\n",
    "    \n",
    "    doc_tokens = []\n",
    "    \n",
    "    for token in doc:\n",
    "        if (token.is_stop == False) & (token.is_punct == False):\n",
    "            doc_tokens.append(token.text.lower())\n",
    "\n",
    "    tokens.append(doc_tokens)\n",
    "\n",
    "shops['tokens'] = tokens\n",
    "\n",
    "wc = count(shops['tokens'])\n",
    "\n",
    "wc_top20 = wc[wc['rank'] <= 20]\n",
    "\n",
    "squarify.plot(sizes=wc_top20['pct_total'], label=wc_top20['word'], alpha=.8 )\n",
    "plt.axis('off')\n",
    "plt.show()"
   ]
  },
  {
   "cell_type": "code",
   "execution_count": 77,
   "metadata": {},
   "outputs": [
    {
     "name": "stderr",
     "output_type": "stream",
     "text": [
      "C:\\Users\\test.NIDHNEMI\\Anaconda3\\envs\\U4-S1-NLP\\lib\\site-packages\\ipykernel_launcher.py:18: SettingWithCopyWarning: \n",
      "A value is trying to be set on a copy of a slice from a DataFrame.\n",
      "Try using .loc[row_indexer,col_indexer] = value instead\n",
      "\n",
      "See the caveats in the documentation: http://pandas.pydata.org/pandas-docs/stable/indexing.html#indexing-view-versus-copy\n"
     ]
    },
    {
     "data": {
      "image/png": "[encoded data removed]",
      "text/plain": [
       "<Figure size 432x288 with 1 Axes>"
      ]
     },
     "metadata": {
      "needs_background": "light"
     },
     "output_type": "display_data"
    }
   ],
   "source": [
    "## Display of tokens for restaurants with rating > 3 (good ones) \n",
    "\n",
    "good_shops = shops.loc[shops['rating'] >3 ]\n",
    "\n",
    "tokens = []\n",
    "\n",
    "\"\"\" Update those tokens w/o stopwords\"\"\"\n",
    "for doc in tokenizer.pipe(good_shops['full_review_text'], batch_size=500):\n",
    "    \n",
    "    doc_tokens = []\n",
    "    \n",
    "    for token in doc:\n",
    "        if (token.is_stop == False) & (token.is_punct == False):\n",
    "            doc_tokens.append(token.text.lower())\n",
    "\n",
    "    tokens.append(doc_tokens)\n",
    "\n",
    "good_shops['tokens'] = tokens\n",
    "\n",
    "good_wc = count(good_shops['tokens'])\n",
    "\n",
    "good_wc_top20 = good_wc[good_wc['rank'] <= 20]\n",
    "\n",
    "squarify.plot(sizes=good_wc_top20['pct_total'], label=good_wc_top20['word'], alpha=.8 )\n",
    "plt.axis('off')\n",
    "plt.show()"
   ]
  },
  {
   "cell_type": "code",
   "execution_count": 78,
   "metadata": {},
   "outputs": [
    {
     "name": "stderr",
     "output_type": "stream",
     "text": [
      "C:\\Users\\test.NIDHNEMI\\Anaconda3\\envs\\U4-S1-NLP\\lib\\site-packages\\ipykernel_launcher.py:18: SettingWithCopyWarning: \n",
      "A value is trying to be set on a copy of a slice from a DataFrame.\n",
      "Try using .loc[row_indexer,col_indexer] = value instead\n",
      "\n",
      "See the caveats in the documentation: http://pandas.pydata.org/pandas-docs/stable/indexing.html#indexing-view-versus-copy\n",
      "C:\\Users\\test.NIDHNEMI\\Anaconda3\\envs\\U4-S1-NLP\\lib\\site-packages\\ipykernel_launcher.py:22: UserWarning: Boolean Series key will be reindexed to match DataFrame index.\n"
     ]
    },
    {
     "data": {
      "image/png": "[encoded data removed]",
      "text/plain": [
       "<Figure size 432x288 with 1 Axes>"
      ]
     },
     "metadata": {
      "needs_background": "light"
     },
     "output_type": "display_data"
    }
   ],
   "source": [
    "## Display of tokens for restaurants with rating <= 3 (not so good ones) \n",
    "\n",
    "not_good_shops = shops.loc[shops['rating'] <= 3 ]\n",
    "\n",
    "tokens = []\n",
    "\n",
    "\"\"\" Update those tokens w/o stopwords\"\"\"\n",
    "for doc in tokenizer.pipe(not_good_shops['full_review_text'], batch_size=500):\n",
    "    \n",
    "    doc_tokens = []\n",
    "    \n",
    "    for token in doc:\n",
    "        if (token.is_stop == False) & (token.is_punct == False):\n",
    "            doc_tokens.append(token.text.lower())\n",
    "\n",
    "    tokens.append(doc_tokens)\n",
    "\n",
    "not_good_shops['tokens'] = tokens\n",
    "\n",
    "not_good_wc = count(not_good_shops['tokens'])\n",
    "\n",
    "not_good_wc_top20 = not_good_wc[good_wc['rank'] <= 20]\n",
    "\n",
    "squarify.plot(sizes=not_good_wc_top20['pct_total'], label=not_good_wc_top20['word'], alpha=.8 )\n",
    "plt.axis('off')\n",
    "plt.show()"
   ]
  },
  {
   "cell_type": "code",
   "execution_count": 92,
   "metadata": {},
   "outputs": [],
   "source": [
    "## Extending STOP words\n",
    "\n",
    "STOP_WORDS = nlp.Defaults.stop_words.union([\"I'm\", \"it's\", \"I've\" 'it.', 'the', 'this', '1', '-', ' ', 'it!', \"i've\", \"i'm\"])"
   ]
  },
  {
   "cell_type": "code",
   "execution_count": 93,
   "metadata": {},
   "outputs": [
    {
     "name": "stderr",
     "output_type": "stream",
     "text": [
      "C:\\Users\\test.NIDHNEMI\\Anaconda3\\envs\\U4-S1-NLP\\lib\\site-packages\\ipykernel_launcher.py:15: SettingWithCopyWarning: \n",
      "A value is trying to be set on a copy of a slice from a DataFrame.\n",
      "Try using .loc[row_indexer,col_indexer] = value instead\n",
      "\n",
      "See the caveats in the documentation: http://pandas.pydata.org/pandas-docs/stable/indexing.html#indexing-view-versus-copy\n",
      "  from ipykernel import kernelapp as app\n"
     ]
    },
    {
     "data": {
      "image/png": "[encoded data removed]",
      "text/plain": [
       "<Figure size 1152x324 with 1 Axes>"
      ]
     },
     "metadata": {
      "needs_background": "light"
     },
     "output_type": "display_data"
    }
   ],
   "source": [
    "# Display of tokens for good shops after adding more STOP WORDS\n",
    "\n",
    "tokens = []\n",
    "\n",
    "for doc in tokenizer.pipe(good_shops['full_review_text'], batch_size=500):\n",
    "    \n",
    "    doc_tokens = []\n",
    "    \n",
    "    for token in doc: \n",
    "        if token.text.lower() not in STOP_WORDS:\n",
    "            doc_tokens.append(token.text.lower())\n",
    "   \n",
    "    tokens.append(doc_tokens)\n",
    "    \n",
    "good_shops['tokens'] = tokens\n",
    "                                     \n",
    "good_wc = count(good_shops['tokens'])\n",
    "\n",
    "good_wc_top20 = good_wc[good_wc['rank'] <= 20]\n",
    "\n",
    "fig = plt.gcf()\n",
    "fig.set_size_inches(16, 4.5)\n",
    "plt.title(\"Good shop tokens\",fontsize=23,fontweight=\"bold\")\n",
    "\n",
    "squarify.plot(sizes=good_wc_top20['pct_total'], label=good_wc_top20['word'], alpha=.8 )\n",
    "plt.axis('off')\n",
    "plt.show()"
   ]
  },
  {
   "cell_type": "code",
   "execution_count": 94,
   "metadata": {},
   "outputs": [
    {
     "name": "stderr",
     "output_type": "stream",
     "text": [
      "C:\\Users\\test.NIDHNEMI\\Anaconda3\\envs\\U4-S1-NLP\\lib\\site-packages\\ipykernel_launcher.py:15: SettingWithCopyWarning: \n",
      "A value is trying to be set on a copy of a slice from a DataFrame.\n",
      "Try using .loc[row_indexer,col_indexer] = value instead\n",
      "\n",
      "See the caveats in the documentation: http://pandas.pydata.org/pandas-docs/stable/indexing.html#indexing-view-versus-copy\n",
      "  from ipykernel import kernelapp as app\n",
      "C:\\Users\\test.NIDHNEMI\\Anaconda3\\envs\\U4-S1-NLP\\lib\\site-packages\\ipykernel_launcher.py:19: UserWarning: Boolean Series key will be reindexed to match DataFrame index.\n"
     ]
    },
    {
     "data": {
      "image/png": "[encoded data removed]",
      "text/plain": [
       "<Figure size 1152x324 with 1 Axes>"
      ]
     },
     "metadata": {
      "needs_background": "light"
     },
     "output_type": "display_data"
    }
   ],
   "source": [
    "# Display of tokens for not good shops after adding more STOP WORDS\n",
    "\n",
    "tokens = []\n",
    "\n",
    "for doc in tokenizer.pipe(not_good_shops['full_review_text'], batch_size=500):\n",
    "    \n",
    "    doc_tokens = []\n",
    "    \n",
    "    for token in doc: \n",
    "        if token.text.lower() not in STOP_WORDS:\n",
    "            doc_tokens.append(token.text.lower())\n",
    "   \n",
    "    tokens.append(doc_tokens)\n",
    "    \n",
    "not_good_shops['tokens'] = tokens\n",
    "                                     \n",
    "not_good_wc = count(not_good_shops['tokens'])\n",
    "\n",
    "not_good_wc_top20 = not_good_wc[good_wc['rank'] <= 20]\n",
    "\n",
    "fig = plt.gcf()\n",
    "fig.set_size_inches(16, 4.5)\n",
    "plt.title(\"Not-Good shop tokens\",fontsize=23,fontweight=\"bold\")\n",
    "\n",
    "squarify.plot(sizes=not_good_wc_top20['pct_total'], label=not_good_wc_top20['word'], alpha=.8 )\n",
    "plt.axis('off')\n",
    "plt.show()"
   ]
  },
  {
   "cell_type": "markdown",
   "metadata": {},
   "source": [
    "## Can visualize the words with the greatest difference in counts between 'good' & 'bad'?\n",
    "\n",
    "Couple Notes: \n",
    "- Rel. freq. instead of absolute counts b/c of different numbers of reviews\n",
    "- Only look at the top 5-10 words with the greatest differences\n"
   ]
  },
  {
   "cell_type": "code",
   "execution_count": 46,
   "metadata": {},
   "outputs": [],
   "source": []
  },
  {
   "cell_type": "markdown",
   "metadata": {
    "colab_type": "text",
    "id": "1dCb1q8XphcP",
    "toc-hr-collapsed": true
   },
   "source": [
    "## Stretch Goals\n",
    "\n",
    "* Analyze another corpus of documents - such as Indeed.com job listings ;).\n",
    "* Play with the Spacy API to\n",
    " - Extract Named Entities\n",
    " - Extracting 'noun chunks'\n",
    " - Attempt Document Classification with just Spacy\n",
    " - *Note:* This [course](https://course.spacy.io/) will be of interesting in helping you with these stretch goals. \n",
    "* Try to build a plotly dash app with your text data \n",
    "\n"
   ]
  }
 ],
 "metadata": {
  "colab": {
   "collapsed_sections": [],
   "name": "LS_DS_421_Text_Data_Assignment.ipynb",
   "provenance": [],
   "version": "0.3.2"
  },
  "kernelspec": {
   "display_name": "U4-S1-NLP(Python3)",
   "language": "python",
   "name": "u4-s1-nlp"
  },
  "language_info": {
   "codemirror_mode": {
    "name": "ipython",
    "version": 3
   },
   "file_extension": ".py",
   "mimetype": "text/x-python",
   "name": "python",
   "nbconvert_exporter": "python",
   "pygments_lexer": "ipython3",
   "version": "3.7.0"
  },
  "toc-autonumbering": false
 },
 "nbformat": 4,
 "nbformat_minor": 4
}
