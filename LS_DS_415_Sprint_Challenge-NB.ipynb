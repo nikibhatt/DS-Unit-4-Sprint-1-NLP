{
 "cells": [
  {
   "cell_type": "markdown",
   "metadata": {},
   "source": [
    "<img align=\"left\" src=\"https://lever-client-logos.s3.amazonaws.com/864372b1-534c-480e-acd5-9711f850815c-1524247202159.png\" width=200>\n",
    "<br></br>\n",
    "<br></br>\n",
    "\n",
    "# Sprint Challenge\n",
    "## *Data Science Unit 4 Sprint 1*\n",
    "\n",
    "After a week of Natural Language Processing, you've learned some cool new stuff: how to process text, how turn text into vectors, and how to model topics from documents. Apply your newly acquired skills to one of the most famous NLP datasets out there: [Yelp](https://www.yelp.com/dataset/challenge). As part of the job selection process, some of my friends have been asked to create analysis of this dataset, so I want to empower you to have a head start.  \n",
    "\n",
    "The real dataset is massive (almost 8 gigs uncompressed). I've sampled the data for you to something more managable for the Sprint Challenge. You can analyze the full dataset as a stretch goal or after the sprint challenge. As you work on the challenge, I suggest adding notes about your findings and things you want to analyze in the future.\n",
    "\n",
    "## Challenge Objectives\n",
    "*Successfully complete these all these objectives to earn a 2. There are more details on each objective further down in the notebook.*\n",
    "* <a href=\"#p1\">Part 1</a>: Write a function to tokenize the yelp reviews\n",
    "* <a href=\"#p2\">Part 2</a>: Create a vector representation of those tokens\n",
    "* <a href=\"#p3\">Part 3</a>: Use your tokens in a classification model on yelp rating\n",
    "* <a href=\"#p4\">Part 4</a>: Estimate & Interpret a topic model of the Yelp reviews"
   ]
  },
  {
   "cell_type": "code",
   "execution_count": 1,
   "metadata": {},
   "outputs": [],
   "source": [
    "import pandas as pd\n",
    "\n",
    "yelp = pd.read_json('./data/review_sample.json', lines=True)"
   ]
  },
  {
   "cell_type": "code",
   "execution_count": 2,
   "metadata": {},
   "outputs": [
    {
     "data": {
      "text/html": [
       "<div>\n",
       "<style scoped>\n",
       "    .dataframe tbody tr th:only-of-type {\n",
       "        vertical-align: middle;\n",
       "    }\n",
       "\n",
       "    .dataframe tbody tr th {\n",
       "        vertical-align: top;\n",
       "    }\n",
       "\n",
       "    .dataframe thead th {\n",
       "        text-align: right;\n",
       "    }\n",
       "</style>\n",
       "<table border=\"1\" class=\"dataframe\">\n",
       "  <thead>\n",
       "    <tr style=\"text-align: right;\">\n",
       "      <th></th>\n",
       "      <th>business_id</th>\n",
       "      <th>cool</th>\n",
       "      <th>date</th>\n",
       "      <th>funny</th>\n",
       "      <th>review_id</th>\n",
       "      <th>stars</th>\n",
       "      <th>text</th>\n",
       "      <th>useful</th>\n",
       "      <th>user_id</th>\n",
       "    </tr>\n",
       "  </thead>\n",
       "  <tbody>\n",
       "    <tr>\n",
       "      <th>0</th>\n",
       "      <td>nDuEqIyRc8YKS1q1fX0CZg</td>\n",
       "      <td>1</td>\n",
       "      <td>2015-03-31 16:50:30</td>\n",
       "      <td>0</td>\n",
       "      <td>eZs2tpEJtXPwawvHnHZIgQ</td>\n",
       "      <td>1</td>\n",
       "      <td>BEWARE!!! FAKE, FAKE, FAKE....We also own a sm...</td>\n",
       "      <td>10</td>\n",
       "      <td>n1LM36qNg4rqGXIcvVXv8w</td>\n",
       "    </tr>\n",
       "    <tr>\n",
       "      <th>1</th>\n",
       "      <td>eMYeEapscbKNqUDCx705hg</td>\n",
       "      <td>0</td>\n",
       "      <td>2015-12-16 05:31:03</td>\n",
       "      <td>0</td>\n",
       "      <td>DoQDWJsNbU0KL1O29l_Xug</td>\n",
       "      <td>4</td>\n",
       "      <td>Came here for lunch Togo. Service was quick. S...</td>\n",
       "      <td>0</td>\n",
       "      <td>5CgjjDAic2-FAvCtiHpytA</td>\n",
       "    </tr>\n",
       "    <tr>\n",
       "      <th>2</th>\n",
       "      <td>6Q7-wkCPc1KF75jZLOTcMw</td>\n",
       "      <td>1</td>\n",
       "      <td>2010-06-20 19:14:48</td>\n",
       "      <td>1</td>\n",
       "      <td>DDOdGU7zh56yQHmUnL1idQ</td>\n",
       "      <td>3</td>\n",
       "      <td>I've been to Vegas dozens of times and had nev...</td>\n",
       "      <td>2</td>\n",
       "      <td>BdV-cf3LScmb8kZ7iiBcMA</td>\n",
       "    </tr>\n",
       "    <tr>\n",
       "      <th>3</th>\n",
       "      <td>k3zrItO4l9hwfLRwHBDc9w</td>\n",
       "      <td>3</td>\n",
       "      <td>2010-07-13 00:33:45</td>\n",
       "      <td>4</td>\n",
       "      <td>LfTMUWnfGFMOfOIyJcwLVA</td>\n",
       "      <td>1</td>\n",
       "      <td>We went here on a night where they closed off ...</td>\n",
       "      <td>5</td>\n",
       "      <td>cZZnBqh4gAEy4CdNvJailQ</td>\n",
       "    </tr>\n",
       "    <tr>\n",
       "      <th>4</th>\n",
       "      <td>6hpfRwGlOzbNv7k5eP9rsQ</td>\n",
       "      <td>1</td>\n",
       "      <td>2018-06-30 02:30:01</td>\n",
       "      <td>0</td>\n",
       "      <td>zJSUdI7bJ8PNJAg4lnl_Gg</td>\n",
       "      <td>4</td>\n",
       "      <td>3.5 to 4 stars\\n\\nNot bad for the price, $12.9...</td>\n",
       "      <td>5</td>\n",
       "      <td>n9QO4ClYAS7h9fpQwa5bhA</td>\n",
       "    </tr>\n",
       "  </tbody>\n",
       "</table>\n",
       "</div>"
      ],
      "text/plain": [
       "              business_id  cool                date  funny  \\\n",
       "0  nDuEqIyRc8YKS1q1fX0CZg     1 2015-03-31 16:50:30      0   \n",
       "1  eMYeEapscbKNqUDCx705hg     0 2015-12-16 05:31:03      0   \n",
       "2  6Q7-wkCPc1KF75jZLOTcMw     1 2010-06-20 19:14:48      1   \n",
       "3  k3zrItO4l9hwfLRwHBDc9w     3 2010-07-13 00:33:45      4   \n",
       "4  6hpfRwGlOzbNv7k5eP9rsQ     1 2018-06-30 02:30:01      0   \n",
       "\n",
       "                review_id  stars  \\\n",
       "0  eZs2tpEJtXPwawvHnHZIgQ      1   \n",
       "1  DoQDWJsNbU0KL1O29l_Xug      4   \n",
       "2  DDOdGU7zh56yQHmUnL1idQ      3   \n",
       "3  LfTMUWnfGFMOfOIyJcwLVA      1   \n",
       "4  zJSUdI7bJ8PNJAg4lnl_Gg      4   \n",
       "\n",
       "                                                text  useful  \\\n",
       "0  BEWARE!!! FAKE, FAKE, FAKE....We also own a sm...      10   \n",
       "1  Came here for lunch Togo. Service was quick. S...       0   \n",
       "2  I've been to Vegas dozens of times and had nev...       2   \n",
       "3  We went here on a night where they closed off ...       5   \n",
       "4  3.5 to 4 stars\\n\\nNot bad for the price, $12.9...       5   \n",
       "\n",
       "                  user_id  \n",
       "0  n1LM36qNg4rqGXIcvVXv8w  \n",
       "1  5CgjjDAic2-FAvCtiHpytA  \n",
       "2  BdV-cf3LScmb8kZ7iiBcMA  \n",
       "3  cZZnBqh4gAEy4CdNvJailQ  \n",
       "4  n9QO4ClYAS7h9fpQwa5bhA  "
      ]
     },
     "execution_count": 2,
     "metadata": {},
     "output_type": "execute_result"
    }
   ],
   "source": [
    "yelp.head()"
   ]
  },
  {
   "cell_type": "code",
   "execution_count": 2,
   "metadata": {},
   "outputs": [],
   "source": [
    "\"\"\"\n",
    "Import Statements\n",
    "\"\"\"\n",
    "\n",
    "# Base\n",
    "from collections import Counter\n",
    "import re\n",
    " \n",
    "import pandas as pd\n",
    "\n",
    "# Plotting\n",
    "import squarify\n",
    "import matplotlib.pyplot as plt\n",
    "import seaborn as sns\n",
    "\n",
    "# NLP Libraries\n",
    "import spacy\n",
    "from spacy.tokenizer import Tokenizer\n",
    "from nltk.stem import PorterStemmer\n",
    "\n",
    "nlp = spacy.load(\"en_core_web_lg\")"
   ]
  },
  {
   "cell_type": "markdown",
   "metadata": {},
   "source": [
    "## Part 1: Tokenize Function\n",
    "<a id=\"#p1\"></a>\n",
    "\n",
    "Complete the function `tokenize`. Your function should\n",
    "- accept one document at a time\n",
    "- return a list of tokens\n",
    "\n",
    "You are free to use any method you have learned this week."
   ]
  },
  {
   "cell_type": "code",
   "execution_count": 9,
   "metadata": {},
   "outputs": [],
   "source": [
    "def tokenize(doc):\n",
    "    \"\"\"Parses a string into a list of semantic units (words)\n",
    "\n",
    "    Args:\n",
    "        text (str): The string that the function will tokenize.\n",
    "\n",
    "    Returns:\n",
    "        list: tokens parsed out by the mechanics of your choice\n",
    "    \"\"\"\n",
    "    \n",
    "    tokens = re.sub(r'[^a-zA-Z ^0-9]', '', doc)\n",
    "    tokens = tokens.lower().split()\n",
    "    \n",
    "    return tokens\n",
    "\n",
    "yelp['tokens'] = yelp['text'].apply(tokenize)"
   ]
  },
  {
   "cell_type": "code",
   "execution_count": 3,
   "metadata": {},
   "outputs": [],
   "source": [
    "#Better tokens\n",
    "\n",
    "import spacy\n",
    "from spacy.tokenizer import Tokenizer\n",
    "\n",
    "nlp = spacy.load(\"en_core_web_lg\")\n",
    "\n",
    "# Tokenizer\n",
    "tokenizer = Tokenizer(nlp.vocab)\n",
    "\n",
    "# Tokenizer Pipe\n",
    "\n",
    "tokens = []\n",
    "## Extending STOP words\n",
    "\n",
    "STOP_WORDS = nlp.Defaults.stop_words.union([\"I'm\", \"it's\", \"I've\" 'it.', 'the', 'this', '1', '-', ' ', 'it!', \"i've\", \"i'm\"])\n",
    "\n",
    "for doc in tokenizer.pipe(yelp['text'], batch_size=500):\n",
    "    \n",
    "    doc_tokens = []\n",
    "    \n",
    "    for token in doc: \n",
    "        if token.text.lower() not in STOP_WORDS:\n",
    "            doc_tokens.append(token.text.lower())\n",
    "   \n",
    "    tokens.append(doc_tokens)\n",
    "\n",
    "yelp['tokens'] = tokens"
   ]
  },
  {
   "cell_type": "code",
   "execution_count": 4,
   "metadata": {},
   "outputs": [
    {
     "data": {
      "text/html": [
       "<div>\n",
       "<style scoped>\n",
       "    .dataframe tbody tr th:only-of-type {\n",
       "        vertical-align: middle;\n",
       "    }\n",
       "\n",
       "    .dataframe tbody tr th {\n",
       "        vertical-align: top;\n",
       "    }\n",
       "\n",
       "    .dataframe thead th {\n",
       "        text-align: right;\n",
       "    }\n",
       "</style>\n",
       "<table border=\"1\" class=\"dataframe\">\n",
       "  <thead>\n",
       "    <tr style=\"text-align: right;\">\n",
       "      <th></th>\n",
       "      <th>business_id</th>\n",
       "      <th>cool</th>\n",
       "      <th>date</th>\n",
       "      <th>funny</th>\n",
       "      <th>review_id</th>\n",
       "      <th>stars</th>\n",
       "      <th>text</th>\n",
       "      <th>useful</th>\n",
       "      <th>user_id</th>\n",
       "      <th>tokens</th>\n",
       "    </tr>\n",
       "  </thead>\n",
       "  <tbody>\n",
       "    <tr>\n",
       "      <th>0</th>\n",
       "      <td>nDuEqIyRc8YKS1q1fX0CZg</td>\n",
       "      <td>1</td>\n",
       "      <td>2015-03-31 16:50:30</td>\n",
       "      <td>0</td>\n",
       "      <td>eZs2tpEJtXPwawvHnHZIgQ</td>\n",
       "      <td>1</td>\n",
       "      <td>BEWARE!!! FAKE, FAKE, FAKE....We also own a sm...</td>\n",
       "      <td>10</td>\n",
       "      <td>n1LM36qNg4rqGXIcvVXv8w</td>\n",
       "      <td>[beware!!!, fake,, fake,, fake....we, small, b...</td>\n",
       "    </tr>\n",
       "    <tr>\n",
       "      <th>1</th>\n",
       "      <td>eMYeEapscbKNqUDCx705hg</td>\n",
       "      <td>0</td>\n",
       "      <td>2015-12-16 05:31:03</td>\n",
       "      <td>0</td>\n",
       "      <td>DoQDWJsNbU0KL1O29l_Xug</td>\n",
       "      <td>4</td>\n",
       "      <td>Came here for lunch Togo. Service was quick. S...</td>\n",
       "      <td>0</td>\n",
       "      <td>5CgjjDAic2-FAvCtiHpytA</td>\n",
       "      <td>[came, lunch, togo., service, quick., staff, f...</td>\n",
       "    </tr>\n",
       "    <tr>\n",
       "      <th>2</th>\n",
       "      <td>6Q7-wkCPc1KF75jZLOTcMw</td>\n",
       "      <td>1</td>\n",
       "      <td>2010-06-20 19:14:48</td>\n",
       "      <td>1</td>\n",
       "      <td>DDOdGU7zh56yQHmUnL1idQ</td>\n",
       "      <td>3</td>\n",
       "      <td>I've been to Vegas dozens of times and had nev...</td>\n",
       "      <td>2</td>\n",
       "      <td>BdV-cf3LScmb8kZ7iiBcMA</td>\n",
       "      <td>[vegas, dozens, times, stepped, foot, circus, ...</td>\n",
       "    </tr>\n",
       "    <tr>\n",
       "      <th>3</th>\n",
       "      <td>k3zrItO4l9hwfLRwHBDc9w</td>\n",
       "      <td>3</td>\n",
       "      <td>2010-07-13 00:33:45</td>\n",
       "      <td>4</td>\n",
       "      <td>LfTMUWnfGFMOfOIyJcwLVA</td>\n",
       "      <td>1</td>\n",
       "      <td>We went here on a night where they closed off ...</td>\n",
       "      <td>5</td>\n",
       "      <td>cZZnBqh4gAEy4CdNvJailQ</td>\n",
       "      <td>[went, night, closed, street, party..., best, ...</td>\n",
       "    </tr>\n",
       "    <tr>\n",
       "      <th>4</th>\n",
       "      <td>6hpfRwGlOzbNv7k5eP9rsQ</td>\n",
       "      <td>1</td>\n",
       "      <td>2018-06-30 02:30:01</td>\n",
       "      <td>0</td>\n",
       "      <td>zJSUdI7bJ8PNJAg4lnl_Gg</td>\n",
       "      <td>4</td>\n",
       "      <td>3.5 to 4 stars\\n\\nNot bad for the price, $12.9...</td>\n",
       "      <td>5</td>\n",
       "      <td>n9QO4ClYAS7h9fpQwa5bhA</td>\n",
       "      <td>[3.5, 4, stars, \\n\\n, bad, price,, $12.99, lun...</td>\n",
       "    </tr>\n",
       "    <tr>\n",
       "      <th>5</th>\n",
       "      <td>Db3CfZWrtG33UZSs8Tdlsg</td>\n",
       "      <td>1</td>\n",
       "      <td>2016-10-23 22:43:56</td>\n",
       "      <td>1</td>\n",
       "      <td>nXYV_0joQEMXYAfNyOPsRw</td>\n",
       "      <td>4</td>\n",
       "      <td>Tasty, fast casual Latin street food.  The men...</td>\n",
       "      <td>1</td>\n",
       "      <td>Gjz2PCbLZ6midk1n_0LaUg</td>\n",
       "      <td>[tasty,, fast, casual, latin, street, food., m...</td>\n",
       "    </tr>\n",
       "    <tr>\n",
       "      <th>6</th>\n",
       "      <td>gJhMeq2nVH27tz8LqbD3eQ</td>\n",
       "      <td>0</td>\n",
       "      <td>2013-05-20 19:09:43</td>\n",
       "      <td>0</td>\n",
       "      <td>ZA7SRi6fTRWwpo-B9O72qQ</td>\n",
       "      <td>5</td>\n",
       "      <td>This show is absolutely amazing!! What an incr...</td>\n",
       "      <td>0</td>\n",
       "      <td>BeKPVuqX-2at4izqVwUFEg</td>\n",
       "      <td>[absolutely, amazing!!, incredible, production...</td>\n",
       "    </tr>\n",
       "    <tr>\n",
       "      <th>7</th>\n",
       "      <td>Yt5gK4E9NqVa14WNiQdBlQ</td>\n",
       "      <td>0</td>\n",
       "      <td>2018-07-12 01:19:53</td>\n",
       "      <td>0</td>\n",
       "      <td>4_GnHPkyTirzK6onIKO4jw</td>\n",
       "      <td>4</td>\n",
       "      <td>Came for the Pho and really enjoyed it!  We go...</td>\n",
       "      <td>0</td>\n",
       "      <td>PuXpIJzTBQejeBZh9hwynQ</td>\n",
       "      <td>[came, pho, enjoyed, got, 9:00pm, busy, got, s...</td>\n",
       "    </tr>\n",
       "    <tr>\n",
       "      <th>8</th>\n",
       "      <td>c7WsC8SbUcLyZkREzx9dGA</td>\n",
       "      <td>1</td>\n",
       "      <td>2017-09-27 22:10:26</td>\n",
       "      <td>0</td>\n",
       "      <td>XGGHc7pYgOm5s6SWr8NMXA</td>\n",
       "      <td>5</td>\n",
       "      <td>Absolutely the most Unique experience in a nai...</td>\n",
       "      <td>0</td>\n",
       "      <td>NVVknS1I51z8wY5NNrJ6vQ</td>\n",
       "      <td>[absolutely, unique, experience, nail, shop, f...</td>\n",
       "    </tr>\n",
       "    <tr>\n",
       "      <th>9</th>\n",
       "      <td>NSifXpsCRvnsBRqrHF9CJA</td>\n",
       "      <td>0</td>\n",
       "      <td>2015-01-25 08:43:15</td>\n",
       "      <td>0</td>\n",
       "      <td>--e66tyhwCE6eoRmcK2w8g</td>\n",
       "      <td>1</td>\n",
       "      <td>Wow. I walked in and sat at the bar for 10 min...</td>\n",
       "      <td>2</td>\n",
       "      <td>J7MsJKJDSA5OGo2-Hn7MbA</td>\n",
       "      <td>[wow., walked, sat, bar, 10, minutes., bartend...</td>\n",
       "    </tr>\n",
       "  </tbody>\n",
       "</table>\n",
       "</div>"
      ],
      "text/plain": [
       "              business_id  cool                date  funny  \\\n",
       "0  nDuEqIyRc8YKS1q1fX0CZg     1 2015-03-31 16:50:30      0   \n",
       "1  eMYeEapscbKNqUDCx705hg     0 2015-12-16 05:31:03      0   \n",
       "2  6Q7-wkCPc1KF75jZLOTcMw     1 2010-06-20 19:14:48      1   \n",
       "3  k3zrItO4l9hwfLRwHBDc9w     3 2010-07-13 00:33:45      4   \n",
       "4  6hpfRwGlOzbNv7k5eP9rsQ     1 2018-06-30 02:30:01      0   \n",
       "5  Db3CfZWrtG33UZSs8Tdlsg     1 2016-10-23 22:43:56      1   \n",
       "6  gJhMeq2nVH27tz8LqbD3eQ     0 2013-05-20 19:09:43      0   \n",
       "7  Yt5gK4E9NqVa14WNiQdBlQ     0 2018-07-12 01:19:53      0   \n",
       "8  c7WsC8SbUcLyZkREzx9dGA     1 2017-09-27 22:10:26      0   \n",
       "9  NSifXpsCRvnsBRqrHF9CJA     0 2015-01-25 08:43:15      0   \n",
       "\n",
       "                review_id  stars  \\\n",
       "0  eZs2tpEJtXPwawvHnHZIgQ      1   \n",
       "1  DoQDWJsNbU0KL1O29l_Xug      4   \n",
       "2  DDOdGU7zh56yQHmUnL1idQ      3   \n",
       "3  LfTMUWnfGFMOfOIyJcwLVA      1   \n",
       "4  zJSUdI7bJ8PNJAg4lnl_Gg      4   \n",
       "5  nXYV_0joQEMXYAfNyOPsRw      4   \n",
       "6  ZA7SRi6fTRWwpo-B9O72qQ      5   \n",
       "7  4_GnHPkyTirzK6onIKO4jw      4   \n",
       "8  XGGHc7pYgOm5s6SWr8NMXA      5   \n",
       "9  --e66tyhwCE6eoRmcK2w8g      1   \n",
       "\n",
       "                                                text  useful  \\\n",
       "0  BEWARE!!! FAKE, FAKE, FAKE....We also own a sm...      10   \n",
       "1  Came here for lunch Togo. Service was quick. S...       0   \n",
       "2  I've been to Vegas dozens of times and had nev...       2   \n",
       "3  We went here on a night where they closed off ...       5   \n",
       "4  3.5 to 4 stars\\n\\nNot bad for the price, $12.9...       5   \n",
       "5  Tasty, fast casual Latin street food.  The men...       1   \n",
       "6  This show is absolutely amazing!! What an incr...       0   \n",
       "7  Came for the Pho and really enjoyed it!  We go...       0   \n",
       "8  Absolutely the most Unique experience in a nai...       0   \n",
       "9  Wow. I walked in and sat at the bar for 10 min...       2   \n",
       "\n",
       "                  user_id                                             tokens  \n",
       "0  n1LM36qNg4rqGXIcvVXv8w  [beware!!!, fake,, fake,, fake....we, small, b...  \n",
       "1  5CgjjDAic2-FAvCtiHpytA  [came, lunch, togo., service, quick., staff, f...  \n",
       "2  BdV-cf3LScmb8kZ7iiBcMA  [vegas, dozens, times, stepped, foot, circus, ...  \n",
       "3  cZZnBqh4gAEy4CdNvJailQ  [went, night, closed, street, party..., best, ...  \n",
       "4  n9QO4ClYAS7h9fpQwa5bhA  [3.5, 4, stars, \\n\\n, bad, price,, $12.99, lun...  \n",
       "5  Gjz2PCbLZ6midk1n_0LaUg  [tasty,, fast, casual, latin, street, food., m...  \n",
       "6  BeKPVuqX-2at4izqVwUFEg  [absolutely, amazing!!, incredible, production...  \n",
       "7  PuXpIJzTBQejeBZh9hwynQ  [came, pho, enjoyed, got, 9:00pm, busy, got, s...  \n",
       "8  NVVknS1I51z8wY5NNrJ6vQ  [absolutely, unique, experience, nail, shop, f...  \n",
       "9  J7MsJKJDSA5OGo2-Hn7MbA  [wow., walked, sat, bar, 10, minutes., bartend...  "
      ]
     },
     "execution_count": 4,
     "metadata": {},
     "output_type": "execute_result"
    }
   ],
   "source": [
    "yelp.head(10)"
   ]
  },
  {
   "cell_type": "markdown",
   "metadata": {},
   "source": [
    "## Part 2: Vector Representation\n",
    "<a id=\"#p2\"></a>\n",
    "1. Create a vector representation of the reviews\n",
    "2. Write a fake review and query for the 10 most similiar reviews, print the text of the reviews. Do you notice any patterns?\n",
    "    - Given the size of the dataset, it will probably be best to use a `NearestNeighbors` model for this. "
   ]
  },
  {
   "cell_type": "code",
   "execution_count": 5,
   "metadata": {},
   "outputs": [
    {
     "data": {
      "text/html": [
       "<div>\n",
       "<style scoped>\n",
       "    .dataframe tbody tr th:only-of-type {\n",
       "        vertical-align: middle;\n",
       "    }\n",
       "\n",
       "    .dataframe tbody tr th {\n",
       "        vertical-align: top;\n",
       "    }\n",
       "\n",
       "    .dataframe thead th {\n",
       "        text-align: right;\n",
       "    }\n",
       "</style>\n",
       "<table border=\"1\" class=\"dataframe\">\n",
       "  <thead>\n",
       "    <tr style=\"text-align: right;\">\n",
       "      <th></th>\n",
       "      <th>business_id</th>\n",
       "      <th>cool</th>\n",
       "      <th>date</th>\n",
       "      <th>funny</th>\n",
       "      <th>review_id</th>\n",
       "      <th>stars</th>\n",
       "      <th>text</th>\n",
       "      <th>tokens</th>\n",
       "      <th>useful</th>\n",
       "      <th>user_id</th>\n",
       "    </tr>\n",
       "  </thead>\n",
       "  <tbody>\n",
       "    <tr>\n",
       "      <th>0</th>\n",
       "      <td>1.0</td>\n",
       "      <td>0.0</td>\n",
       "      <td>0.0</td>\n",
       "      <td>0.0</td>\n",
       "      <td>0.0</td>\n",
       "      <td>0.0</td>\n",
       "      <td>0.0</td>\n",
       "      <td>0.0</td>\n",
       "      <td>0.0</td>\n",
       "      <td>0.0</td>\n",
       "    </tr>\n",
       "    <tr>\n",
       "      <th>1</th>\n",
       "      <td>0.0</td>\n",
       "      <td>1.0</td>\n",
       "      <td>0.0</td>\n",
       "      <td>0.0</td>\n",
       "      <td>0.0</td>\n",
       "      <td>0.0</td>\n",
       "      <td>0.0</td>\n",
       "      <td>0.0</td>\n",
       "      <td>0.0</td>\n",
       "      <td>0.0</td>\n",
       "    </tr>\n",
       "    <tr>\n",
       "      <th>2</th>\n",
       "      <td>0.0</td>\n",
       "      <td>0.0</td>\n",
       "      <td>1.0</td>\n",
       "      <td>0.0</td>\n",
       "      <td>0.0</td>\n",
       "      <td>0.0</td>\n",
       "      <td>0.0</td>\n",
       "      <td>0.0</td>\n",
       "      <td>0.0</td>\n",
       "      <td>0.0</td>\n",
       "    </tr>\n",
       "    <tr>\n",
       "      <th>3</th>\n",
       "      <td>0.0</td>\n",
       "      <td>0.0</td>\n",
       "      <td>0.0</td>\n",
       "      <td>1.0</td>\n",
       "      <td>0.0</td>\n",
       "      <td>0.0</td>\n",
       "      <td>0.0</td>\n",
       "      <td>0.0</td>\n",
       "      <td>0.0</td>\n",
       "      <td>0.0</td>\n",
       "    </tr>\n",
       "    <tr>\n",
       "      <th>4</th>\n",
       "      <td>0.0</td>\n",
       "      <td>0.0</td>\n",
       "      <td>0.0</td>\n",
       "      <td>0.0</td>\n",
       "      <td>1.0</td>\n",
       "      <td>0.0</td>\n",
       "      <td>0.0</td>\n",
       "      <td>0.0</td>\n",
       "      <td>0.0</td>\n",
       "      <td>0.0</td>\n",
       "    </tr>\n",
       "  </tbody>\n",
       "</table>\n",
       "</div>"
      ],
      "text/plain": [
       "   business_id  cool  date  funny  review_id  stars  text  tokens  useful  \\\n",
       "0          1.0   0.0   0.0    0.0        0.0    0.0   0.0     0.0     0.0   \n",
       "1          0.0   1.0   0.0    0.0        0.0    0.0   0.0     0.0     0.0   \n",
       "2          0.0   0.0   1.0    0.0        0.0    0.0   0.0     0.0     0.0   \n",
       "3          0.0   0.0   0.0    1.0        0.0    0.0   0.0     0.0     0.0   \n",
       "4          0.0   0.0   0.0    0.0        1.0    0.0   0.0     0.0     0.0   \n",
       "\n",
       "   user_id  \n",
       "0      0.0  \n",
       "1      0.0  \n",
       "2      0.0  \n",
       "3      0.0  \n",
       "4      0.0  "
      ]
     },
     "execution_count": 5,
     "metadata": {},
     "output_type": "execute_result"
    }
   ],
   "source": [
    "#TFIDF Vectorization\n",
    "\n",
    "from sklearn.feature_extraction.text import TfidfVectorizer\n",
    "\n",
    "# Instantiate vectorizer object\n",
    "tfidf = TfidfVectorizer(stop_words='english')\n",
    "\n",
    "# Create a vocabulary and get word counts per document\n",
    "dtm= tfidf.fit_transform(yelp)\n",
    "\n",
    "# Print word counts\n",
    "\n",
    "# Get feature names to use as dataframe column headers\n",
    "dtm = pd.DataFrame(dtm.todense(), columns=tfidf.get_feature_names())\n",
    "\n",
    "# View Feature Matrix as DataFrame\n",
    "dtm.head()\n"
   ]
  },
  {
   "cell_type": "code",
   "execution_count": 6,
   "metadata": {},
   "outputs": [],
   "source": [
    "new_text = [\"I like the service and food\"]"
   ]
  },
  {
   "cell_type": "code",
   "execution_count": 7,
   "metadata": {},
   "outputs": [
    {
     "data": {
      "text/plain": [
       "NearestNeighbors(algorithm='kd_tree', leaf_size=30, metric='minkowski',\n",
       "         metric_params=None, n_jobs=None, n_neighbors=10, p=2, radius=1.0)"
      ]
     },
     "execution_count": 7,
     "metadata": {},
     "output_type": "execute_result"
    }
   ],
   "source": [
    "#Create Nearest Neighbor Model\n",
    "\n",
    "# Instantiate\n",
    "from sklearn.neighbors import NearestNeighbors\n",
    "\n",
    "# Fit on TF-IDF Vectors\n",
    "nn  = NearestNeighbors(n_neighbors=10,algorithm='kd_tree')\n",
    "nn.fit(dtm)"
   ]
  },
  {
   "cell_type": "code",
   "execution_count": 8,
   "metadata": {},
   "outputs": [],
   "source": [
    "# Query for new review\n",
    "new = tfidf.transform(new_text)"
   ]
  },
  {
   "cell_type": "code",
   "execution_count": 9,
   "metadata": {},
   "outputs": [
    {
     "data": {
      "text/plain": [
       "<1x10 sparse matrix of type '<class 'numpy.float64'>'\n",
       "\twith 0 stored elements in Compressed Sparse Row format>"
      ]
     },
     "execution_count": 9,
     "metadata": {},
     "output_type": "execute_result"
    }
   ],
   "source": [
    "new"
   ]
  },
  {
   "cell_type": "code",
   "execution_count": 10,
   "metadata": {},
   "outputs": [
    {
     "data": {
      "text/plain": [
       "(array([[1., 1., 1., 1., 1., 1., 1., 1., 1., 1.]]),\n",
       " array([[3, 9, 5, 8, 2, 4, 6, 0, 1, 7]], dtype=int64))"
      ]
     },
     "execution_count": 10,
     "metadata": {},
     "output_type": "execute_result"
    }
   ],
   "source": [
    "# Inspect Most relevant result\n",
    "nn.kneighbors(new.todense())"
   ]
  },
  {
   "cell_type": "code",
   "execution_count": 34,
   "metadata": {},
   "outputs": [
    {
     "data": {
      "text/plain": [
       "3    We went here on a night where they closed off ...\n",
       "Name: text, dtype: object"
      ]
     },
     "execution_count": 34,
     "metadata": {},
     "output_type": "execute_result"
    }
   ],
   "source": [
    "yelp.loc[[3]].text[:200]"
   ]
  },
  {
   "cell_type": "code",
   "execution_count": 35,
   "metadata": {},
   "outputs": [
    {
     "data": {
      "text/plain": [
       "9    Wow. I walked in and sat at the bar for 10 min...\n",
       "Name: text, dtype: object"
      ]
     },
     "execution_count": 35,
     "metadata": {},
     "output_type": "execute_result"
    }
   ],
   "source": [
    "yelp.loc[[9]].text[:200]"
   ]
  },
  {
   "cell_type": "code",
   "execution_count": 36,
   "metadata": {},
   "outputs": [
    {
     "data": {
      "text/plain": [
       "5    Tasty, fast casual Latin street food.  The men...\n",
       "Name: text, dtype: object"
      ]
     },
     "execution_count": 36,
     "metadata": {},
     "output_type": "execute_result"
    }
   ],
   "source": [
    "yelp.loc[[5]].text[:200]"
   ]
  },
  {
   "cell_type": "code",
   "execution_count": 37,
   "metadata": {},
   "outputs": [
    {
     "data": {
      "text/plain": [
       "8    Absolutely the most Unique experience in a nai...\n",
       "Name: text, dtype: object"
      ]
     },
     "execution_count": 37,
     "metadata": {},
     "output_type": "execute_result"
    }
   ],
   "source": [
    "yelp.loc[[8]].text[:200]"
   ]
  },
  {
   "cell_type": "code",
   "execution_count": 38,
   "metadata": {},
   "outputs": [
    {
     "data": {
      "text/plain": [
       "2    I've been to Vegas dozens of times and had nev...\n",
       "Name: text, dtype: object"
      ]
     },
     "execution_count": 38,
     "metadata": {},
     "output_type": "execute_result"
    }
   ],
   "source": [
    "yelp.loc[[2]].text[:200]"
   ]
  },
  {
   "cell_type": "code",
   "execution_count": 39,
   "metadata": {},
   "outputs": [
    {
     "data": {
      "text/plain": [
       "4    3.5 to 4 stars\\n\\nNot bad for the price, $12.9...\n",
       "Name: text, dtype: object"
      ]
     },
     "execution_count": 39,
     "metadata": {},
     "output_type": "execute_result"
    }
   ],
   "source": [
    "yelp.loc[[4]].text[:200]"
   ]
  },
  {
   "cell_type": "code",
   "execution_count": 40,
   "metadata": {},
   "outputs": [
    {
     "data": {
      "text/plain": [
       "6    This show is absolutely amazing!! What an incr...\n",
       "Name: text, dtype: object"
      ]
     },
     "execution_count": 40,
     "metadata": {},
     "output_type": "execute_result"
    }
   ],
   "source": [
    "yelp.loc[[6]].text[:200]"
   ]
  },
  {
   "cell_type": "code",
   "execution_count": 41,
   "metadata": {},
   "outputs": [
    {
     "data": {
      "text/plain": [
       "0    BEWARE!!! FAKE, FAKE, FAKE....We also own a sm...\n",
       "Name: text, dtype: object"
      ]
     },
     "execution_count": 41,
     "metadata": {},
     "output_type": "execute_result"
    }
   ],
   "source": [
    "yelp.loc[[0]].text[:200]"
   ]
  },
  {
   "cell_type": "code",
   "execution_count": 42,
   "metadata": {},
   "outputs": [
    {
     "data": {
      "text/plain": [
       "1    Came here for lunch Togo. Service was quick. S...\n",
       "Name: text, dtype: object"
      ]
     },
     "execution_count": 42,
     "metadata": {},
     "output_type": "execute_result"
    }
   ],
   "source": [
    "yelp.loc[[1]].text[:200]"
   ]
  },
  {
   "cell_type": "code",
   "execution_count": 43,
   "metadata": {},
   "outputs": [
    {
     "data": {
      "text/plain": [
       "7    Came for the Pho and really enjoyed it!  We go...\n",
       "Name: text, dtype: object"
      ]
     },
     "execution_count": 43,
     "metadata": {},
     "output_type": "execute_result"
    }
   ],
   "source": [
    "yelp.loc[[7]].text[:200]"
   ]
  },
  {
   "cell_type": "code",
   "execution_count": null,
   "metadata": {},
   "outputs": [],
   "source": [
    "# Observation - Some actual words match, such as \"food\". There is a match of the sentiment \"like\". And there are synonyms of \"food\" such as \"lunch\""
   ]
  },
  {
   "cell_type": "markdown",
   "metadata": {},
   "source": [
    "## Part 3: Classification\n",
    "<a id=\"#p3\"></a>\n",
    "Your goal in this section will be to predict `stars` from the review dataset. \n",
    "\n",
    "1. Create a piepline object with a sklearn `CountVectorizer` or `TfidfVector` and any sklearn classifier. Use that pipeline to estimate a model to predict `stars`. Use the Pipeline to predict a star rating for your fake review from Part 2. \n",
    "2. Tune the entire pipeline with a GridSearch"
   ]
  },
  {
   "cell_type": "code",
   "execution_count": 11,
   "metadata": {},
   "outputs": [],
   "source": [
    "# Import Statements\n",
    "from sklearn.pipeline import Pipeline\n",
    "from sklearn.datasets import fetch_20newsgroups\n",
    "from sklearn.ensemble import RandomForestClassifier\n",
    "from sklearn.model_selection import GridSearchCV\n",
    "from sklearn.feature_extraction.text import TfidfVectorizer"
   ]
  },
  {
   "cell_type": "code",
   "execution_count": 12,
   "metadata": {},
   "outputs": [],
   "source": [
    "# Create Pipeline Components\n",
    "\n",
    "vect = TfidfVectorizer(stop_words='english', ngram_range=(1,2))\n",
    "rfc = RandomForestClassifier()"
   ]
  },
  {
   "cell_type": "code",
   "execution_count": 13,
   "metadata": {},
   "outputs": [],
   "source": [
    "# Define the Pipeline\n",
    "pipe = Pipeline([\n",
    "                 #Vectorizer\n",
    "                 ('vect', vect),\n",
    "                 # Classifier\n",
    "                 ('clf', rfc)\n",
    "                ])\n",
    "\n",
    "# The pipeline puts together a bunch fit then transform,fit then predict. "
   ]
  },
  {
   "cell_type": "code",
   "execution_count": 14,
   "metadata": {},
   "outputs": [
    {
     "name": "stdout",
     "output_type": "stream",
     "text": [
      "Fitting 20 folds for each of 32 candidates, totalling 640 fits\n"
     ]
    },
    {
     "name": "stderr",
     "output_type": "stream",
     "text": [
      "[Parallel(n_jobs=-1)]: Using backend LokyBackend with 8 concurrent workers.\n",
      "[Parallel(n_jobs=-1)]: Done  34 tasks      | elapsed:  1.1min\n",
      "[Parallel(n_jobs=-1)]: Done 184 tasks      | elapsed:  3.3min\n",
      "[Parallel(n_jobs=-1)]: Done 434 tasks      | elapsed:  7.2min\n",
      "[Parallel(n_jobs=-1)]: Done 640 out of 640 | elapsed: 10.4min finished\n"
     ]
    },
    {
     "data": {
      "text/plain": [
       "GridSearchCV(cv=20, error_score='raise-deprecating',\n",
       "       estimator=Pipeline(memory=None,\n",
       "     steps=[('vect', TfidfVectorizer(analyzer='word', binary=False, decode_error='strict',\n",
       "        dtype=<class 'numpy.float64'>, encoding='utf-8', input='content',\n",
       "        lowercase=True, max_df=1.0, max_features=None, min_df=1,\n",
       "        ngram_range=(1, 2), norm='l2', preprocessor=None, smooth_idf=True,\n",
       "...obs=None,\n",
       "            oob_score=False, random_state=None, verbose=0,\n",
       "            warm_start=False))]),\n",
       "       fit_params=None, iid='warn', n_jobs=-1,\n",
       "       param_grid={'vect__max_df': (0.75, 1.0), 'vect__min_df': (0.02, 0.05), 'vect__max_features': (500, 1000), 'clf__n_estimators': (5, 10), 'clf__max_depth': (15, 20)},\n",
       "       pre_dispatch='2*n_jobs', refit=True, return_train_score='warn',\n",
       "       scoring=None, verbose=1)"
      ]
     },
     "execution_count": 14,
     "metadata": {},
     "output_type": "execute_result"
    }
   ],
   "source": [
    "parameters = {\n",
    "    'vect__max_df': ( 0.75, 1.0),\n",
    "    'vect__min_df': (.02, .05),\n",
    "    'vect__max_features': (500,1000),\n",
    "    'clf__n_estimators':(5, 10,),\n",
    "    'clf__max_depth':(15,20)\n",
    "}\n",
    "\n",
    "grid_search = GridSearchCV(pipe,parameters, cv=20, n_jobs=-1, verbose=1)\n",
    "grid_search.fit(yelp.text, yelp.stars)"
   ]
  },
  {
   "cell_type": "code",
   "execution_count": 15,
   "metadata": {},
   "outputs": [
    {
     "data": {
      "text/plain": [
       "0.5417"
      ]
     },
     "execution_count": 15,
     "metadata": {},
     "output_type": "execute_result"
    }
   ],
   "source": [
    "grid_search.best_score_"
   ]
  },
  {
   "cell_type": "code",
   "execution_count": 50,
   "metadata": {},
   "outputs": [],
   "source": [
    "# Predictions on test sample\n",
    "pred = grid_search.predict(new_text)"
   ]
  },
  {
   "cell_type": "code",
   "execution_count": 55,
   "metadata": {},
   "outputs": [
    {
     "name": "stdout",
     "output_type": "stream",
     "text": [
      "5\n"
     ]
    }
   ],
   "source": [
    "print(pred[0])"
   ]
  },
  {
   "cell_type": "code",
   "execution_count": null,
   "metadata": {},
   "outputs": [],
   "source": [
    "#Model is predicting 5 starts"
   ]
  },
  {
   "cell_type": "markdown",
   "metadata": {},
   "source": [
    "## Part 4: Topic Modeling\n",
    "\n",
    "Let's find out what those yelp reviews are saying! :D\n",
    "\n",
    "1. Estimate a LDA topic model of the review text\n",
    "    - Keep the `iterations` parameter at or below 5 to reduce run time\n",
    "    - The `workers` parameter should match the number of physical cores on your machine.\n",
    "2. Create 1-2 visualizations of the results\n",
    "    - You can use the most important 3 words of a topic in relevant visualizations. Refer to yesterday's notebook to extract. \n",
    "3. In markdown, write 1-2 paragraphs of analysis on the results of your topic model\n",
    "\n",
    "__*Note*__: You can pass the DataFrame column of text reviews to gensim. You do not have to use a generator."
   ]
  },
  {
   "cell_type": "code",
   "execution_count": 4,
   "metadata": {
    "collapsed": false,
    "inputHidden": false,
    "jupyter": {
     "outputs_hidden": false
    },
    "outputHidden": false
   },
   "outputs": [
    {
     "name": "stderr",
     "output_type": "stream",
     "text": [
      "C:\\Users\\test.NIDHNEMI\\Anaconda3\\envs\\U4-S1-NLP\\lib\\site-packages\\gensim\\utils.py:1197: UserWarning: detected Windows; aliasing chunkize to chunkize_serial\n",
      "  warnings.warn(\"detected Windows; aliasing chunkize to chunkize_serial\")\n"
     ]
    }
   ],
   "source": [
    "from gensim.corpora import Dictionary\n",
    "\n",
    "import numpy as np\n",
    "import gensim\n",
    "import os\n",
    "import re\n",
    "\n",
    "from gensim.utils import simple_preprocess\n",
    "from gensim.parsing.preprocessing import STOPWORDS\n",
    "from gensim import corpora\n",
    "\n",
    "from gensim.models.ldamulticore import LdaMulticore\n",
    "\n",
    "import pandas as pd"
   ]
  },
  {
   "cell_type": "markdown",
   "metadata": {},
   "source": [
    "Learn the vocubalary of the yelp data:"
   ]
  },
  {
   "cell_type": "code",
   "execution_count": 5,
   "metadata": {},
   "outputs": [
    {
     "data": {
      "text/plain": [
       "56"
      ]
     },
     "execution_count": 5,
     "metadata": {},
     "output_type": "execute_result"
    }
   ],
   "source": [
    "#A Dictionary representation of all the words in our corpus\n",
    "\n",
    "id2word = corpora.Dictionary((yelp['tokens']))  \n",
    "\n",
    "import sys\n",
    "sys.getsizeof(id2word)\n",
    "                          "
   ]
  },
  {
   "cell_type": "markdown",
   "metadata": {},
   "source": [
    "Create a bag of words representation of the entire corpus"
   ]
  },
  {
   "cell_type": "code",
   "execution_count": 6,
   "metadata": {
    "collapsed": false,
    "inputHidden": false,
    "jupyter": {
     "outputs_hidden": false
    },
    "outputHidden": false
   },
   "outputs": [],
   "source": [
    "corpus = [id2word.doc2bow(text) for text in yelp['tokens']]"
   ]
  },
  {
   "cell_type": "code",
   "execution_count": 7,
   "metadata": {},
   "outputs": [],
   "source": [
    "import warnings\n",
    "warnings.filterwarnings('ignore')"
   ]
  },
  {
   "cell_type": "markdown",
   "metadata": {},
   "source": [
    "Your LDA model should be ready for estimation: "
   ]
  },
  {
   "cell_type": "code",
   "execution_count": 8,
   "metadata": {
    "collapsed": false,
    "inputHidden": false,
    "jupyter": {
     "outputs_hidden": false
    },
    "outputHidden": false
   },
   "outputs": [],
   "source": [
    "lda = LdaMulticore(corpus=corpus,\n",
    "                   id2word=id2word,\n",
    "                   iterations=5,\n",
    "                   workers=4,\n",
    "                   num_topics = 10 # You can change this parameter\n",
    "                  )"
   ]
  },
  {
   "cell_type": "code",
   "execution_count": 82,
   "metadata": {},
   "outputs": [
    {
     "data": {
      "text/plain": [
       "[(0,\n",
       "  '0.014*\"\\n\\n\" + 0.007*\"place\" + 0.006*\"like\" + 0.006*\"good\" + 0.005*\"don\\'t\" + 0.005*\"food\" + 0.005*\"great\" + 0.004*\"\\n\" + 0.004*\"service\" + 0.004*\"got\"'),\n",
       " (1,\n",
       "  '0.014*\"\\n\\n\" + 0.008*\"place\" + 0.007*\"good\" + 0.007*\"great\" + 0.006*\"food\" + 0.006*\"service\" + 0.006*\"\\n\" + 0.005*\"like\" + 0.004*\"best\" + 0.004*\"got\"'),\n",
       " (2,\n",
       "  '0.012*\"\\n\\n\" + 0.007*\"\\n\" + 0.007*\"food\" + 0.006*\"great\" + 0.005*\"like\" + 0.005*\"place\" + 0.004*\"good\" + 0.004*\"service\" + 0.004*\"time\" + 0.003*\"best\"'),\n",
       " (3,\n",
       "  '0.017*\"\\n\\n\" + 0.008*\"service\" + 0.007*\"\\n\" + 0.007*\"food\" + 0.006*\"place\" + 0.005*\"great\" + 0.005*\"time\" + 0.005*\"like\" + 0.004*\"good\" + 0.003*\"don\\'t\"'),\n",
       " (4,\n",
       "  '0.013*\"\\n\\n\" + 0.007*\"great\" + 0.006*\"place\" + 0.005*\"\\n\" + 0.005*\"good\" + 0.005*\"like\" + 0.004*\"food\" + 0.004*\"got\" + 0.004*\"didn\\'t\" + 0.003*\"came\"'),\n",
       " (5,\n",
       "  '0.018*\"\\n\\n\" + 0.007*\"great\" + 0.006*\"place\" + 0.005*\"food\" + 0.005*\"\\n\" + 0.005*\"like\" + 0.004*\"good\" + 0.004*\"didn\\'t\" + 0.004*\"love\" + 0.004*\"time\"'),\n",
       " (6,\n",
       "  '0.015*\"\\n\\n\" + 0.007*\"food\" + 0.006*\"like\" + 0.006*\"place\" + 0.005*\"good\" + 0.004*\"\\n\" + 0.004*\"great\" + 0.004*\"service\" + 0.004*\"time\" + 0.004*\"love\"'),\n",
       " (7,\n",
       "  '0.011*\"\\n\\n\" + 0.007*\"time\" + 0.007*\"like\" + 0.007*\"great\" + 0.007*\"place\" + 0.006*\"\\n\" + 0.006*\"good\" + 0.004*\"food\" + 0.004*\"service\" + 0.004*\"got\"'),\n",
       " (8,\n",
       "  '0.016*\"\\n\\n\" + 0.006*\"food\" + 0.006*\"like\" + 0.005*\"place\" + 0.005*\"great\" + 0.005*\"time\" + 0.005*\"\\n\" + 0.004*\"good\" + 0.004*\"got\" + 0.004*\"service\"'),\n",
       " (9,\n",
       "  '0.011*\"\\n\\n\" + 0.009*\"food\" + 0.007*\"good\" + 0.007*\"place\" + 0.006*\"like\" + 0.005*\"great\" + 0.004*\"service\" + 0.004*\"\\n\" + 0.003*\"time\" + 0.003*\"got\"')]"
      ]
     },
     "execution_count": 82,
     "metadata": {},
     "output_type": "execute_result"
    }
   ],
   "source": [
    "lda.print_topics()"
   ]
  },
  {
   "cell_type": "code",
   "execution_count": 9,
   "metadata": {},
   "outputs": [],
   "source": [
    "words = [re.findall(r'\"([^\"]*)\"',t[1]) for t in lda.print_topics()]"
   ]
  },
  {
   "cell_type": "code",
   "execution_count": 10,
   "metadata": {},
   "outputs": [],
   "source": [
    "topics = [' '.join(t[0:5]) for t in words]"
   ]
  },
  {
   "cell_type": "code",
   "execution_count": 11,
   "metadata": {},
   "outputs": [
    {
     "name": "stdout",
     "output_type": "stream",
     "text": [
      "------ Topic 0 ------\n",
      "\n",
      "\n",
      " great food like good\n",
      "\n",
      "------ Topic 1 ------\n",
      "\n",
      "\n",
      " food place like time\n",
      "\n",
      "------ Topic 2 ------\n",
      "\n",
      "\n",
      " place \n",
      " great food\n",
      "\n",
      "------ Topic 3 ------\n",
      "\n",
      "\n",
      " great place food time\n",
      "\n",
      "------ Topic 4 ------\n",
      "\n",
      "\n",
      " like food place great\n",
      "\n",
      "------ Topic 5 ------\n",
      "\n",
      "\n",
      " place food good \n",
      "\n",
      "\n",
      "------ Topic 6 ------\n",
      "\n",
      "\n",
      " food \n",
      " like good\n",
      "\n",
      "------ Topic 7 ------\n",
      "\n",
      "\n",
      " food place good like\n",
      "\n",
      "------ Topic 8 ------\n",
      "\n",
      "\n",
      " service great place \n",
      "\n",
      "\n",
      "------ Topic 9 ------\n",
      "\n",
      "\n",
      " place food great like\n",
      "\n"
     ]
    }
   ],
   "source": [
    "for id, t in enumerate(topics): \n",
    "    print(f\"------ Topic {id} ------\")\n",
    "    print(t, end=\"\\n\\n\")"
   ]
  },
  {
   "cell_type": "code",
   "execution_count": null,
   "metadata": {},
   "outputs": [],
   "source": []
  },
  {
   "cell_type": "code",
   "execution_count": 10,
   "metadata": {},
   "outputs": [
    {
     "name": "stdout",
     "output_type": "stream",
     "text": [
      "Requirement already up-to-date: pyLDAvis in c:\\users\\test.nidhnemi\\anaconda3\\lib\\site-packages (2.1.2)\n",
      "Requirement already satisfied, skipping upgrade: future in c:\\users\\test.nidhnemi\\anaconda3\\lib\\site-packages (from pyLDAvis) (0.17.1)\n",
      "Requirement already satisfied, skipping upgrade: numexpr in c:\\users\\test.nidhnemi\\anaconda3\\lib\\site-packages (from pyLDAvis) (2.7.0)\n",
      "Requirement already satisfied, skipping upgrade: joblib>=0.8.4 in c:\\users\\test.nidhnemi\\anaconda3\\lib\\site-packages (from pyLDAvis) (0.13.2)\n",
      "Requirement already satisfied, skipping upgrade: wheel>=0.23.0 in c:\\users\\test.nidhnemi\\anaconda3\\lib\\site-packages (from pyLDAvis) (0.33.6)\n",
      "Requirement already satisfied, skipping upgrade: pandas>=0.17.0 in c:\\users\\test.nidhnemi\\anaconda3\\lib\\site-packages (from pyLDAvis) (0.25.1)\n",
      "Requirement already satisfied, skipping upgrade: numpy>=1.9.2 in c:\\users\\test.nidhnemi\\anaconda3\\lib\\site-packages (from pyLDAvis) (1.16.5)\n",
      "Requirement already satisfied, skipping upgrade: funcy in c:\\users\\test.nidhnemi\\anaconda3\\lib\\site-packages (from pyLDAvis) (1.14)\n",
      "Requirement already satisfied, skipping upgrade: jinja2>=2.7.2 in c:\\users\\test.nidhnemi\\anaconda3\\lib\\site-packages (from pyLDAvis) (2.10.3)\n",
      "Requirement already satisfied, skipping upgrade: scipy>=0.18.0 in c:\\users\\test.nidhnemi\\anaconda3\\lib\\site-packages (from pyLDAvis) (1.3.1)\n",
      "Requirement already satisfied, skipping upgrade: pytest in c:\\users\\test.nidhnemi\\anaconda3\\lib\\site-packages (from pyLDAvis) (5.2.1)\n",
      "Requirement already satisfied, skipping upgrade: python-dateutil>=2.6.1 in c:\\users\\test.nidhnemi\\anaconda3\\lib\\site-packages (from pandas>=0.17.0->pyLDAvis) (2.8.0)\n",
      "Requirement already satisfied, skipping upgrade: pytz>=2017.2 in c:\\users\\test.nidhnemi\\anaconda3\\lib\\site-packages (from pandas>=0.17.0->pyLDAvis) (2019.3)\n",
      "Requirement already satisfied, skipping upgrade: MarkupSafe>=0.23 in c:\\users\\test.nidhnemi\\anaconda3\\lib\\site-packages (from jinja2>=2.7.2->pyLDAvis) (1.1.1)\n",
      "Requirement already satisfied, skipping upgrade: py>=1.5.0 in c:\\users\\test.nidhnemi\\anaconda3\\lib\\site-packages (from pytest->pyLDAvis) (1.8.0)\n",
      "Requirement already satisfied, skipping upgrade: packaging in c:\\users\\test.nidhnemi\\anaconda3\\lib\\site-packages (from pytest->pyLDAvis) (19.2)\n",
      "Requirement already satisfied, skipping upgrade: attrs>=17.4.0 in c:\\users\\test.nidhnemi\\anaconda3\\lib\\site-packages (from pytest->pyLDAvis) (19.2.0)\n",
      "Requirement already satisfied, skipping upgrade: more-itertools>=4.0.0 in c:\\users\\test.nidhnemi\\anaconda3\\lib\\site-packages (from pytest->pyLDAvis) (7.2.0)\n",
      "Requirement already satisfied, skipping upgrade: atomicwrites>=1.0 in c:\\users\\test.nidhnemi\\anaconda3\\lib\\site-packages (from pytest->pyLDAvis) (1.3.0)\n",
      "Requirement already satisfied, skipping upgrade: pluggy<1.0,>=0.12 in c:\\users\\test.nidhnemi\\anaconda3\\lib\\site-packages (from pytest->pyLDAvis) (0.13.0)\n",
      "Requirement already satisfied, skipping upgrade: wcwidth in c:\\users\\test.nidhnemi\\anaconda3\\lib\\site-packages (from pytest->pyLDAvis) (0.1.7)\n",
      "Requirement already satisfied, skipping upgrade: importlib-metadata>=0.12 in c:\\users\\test.nidhnemi\\anaconda3\\lib\\site-packages (from pytest->pyLDAvis) (0.23)\n",
      "Requirement already satisfied, skipping upgrade: colorama in c:\\users\\test.nidhnemi\\anaconda3\\lib\\site-packages (from pytest->pyLDAvis) (0.4.1)\n",
      "Requirement already satisfied, skipping upgrade: six>=1.5 in c:\\users\\test.nidhnemi\\anaconda3\\lib\\site-packages (from python-dateutil>=2.6.1->pandas>=0.17.0->pyLDAvis) (1.12.0)\n",
      "Requirement already satisfied, skipping upgrade: pyparsing>=2.0.2 in c:\\users\\test.nidhnemi\\anaconda3\\lib\\site-packages (from packaging->pytest->pyLDAvis) (2.4.2)\n",
      "Requirement already satisfied, skipping upgrade: zipp>=0.5 in c:\\users\\test.nidhnemi\\anaconda3\\lib\\site-packages (from importlib-metadata>=0.12->pytest->pyLDAvis) (0.6.0)\n"
     ]
    }
   ],
   "source": [
    "!python -m pip install -U pyLDAvis"
   ]
  },
  {
   "cell_type": "code",
   "execution_count": null,
   "metadata": {},
   "outputs": [],
   "source": [
    "!conda install pyldavis"
   ]
  },
  {
   "cell_type": "code",
   "execution_count": 14,
   "metadata": {},
   "outputs": [],
   "source": [
    "import pyLDAvis.gensim\n",
    "\n",
    "pyLDAvis.enable_notebook()"
   ]
  },
  {
   "cell_type": "code",
   "execution_count": 15,
   "metadata": {},
   "outputs": [
    {
     "data": {
      "text/html": [
       "\n",
       "<link rel=\"stylesheet\" type=\"text/css\" href=\"https://cdn.rawgit.com/bmabey/pyLDAvis/files/ldavis.v1.0.0.css\">\n",
       "\n",
       "\n",
       "<div id=\"ldavis_el862819736304185205453734993\"></div>\n",
       "<script type=\"text/javascript\">\n",
       "\n",
       "var ldavis_el862819736304185205453734993_data = {\"mdsDat\": {\"x\": [0.0010436266393098774, 0.002063009515430943, 0.0030767934992797525, -0.002490912116953758, -0.0024429053190091637, 0.000978772304528249, -0.003117991069189032, 0.002359305661173967, 0.0016513427945165416, -0.0031210419090873746], \"y\": [0.0002401919853763793, -0.003574293324481034, -0.000955177545994768, -0.0014299605097661083, 0.00321772848293006, 0.003432280861111217, -0.001756780348860371, -0.0007381087901780713, 0.002545220926658038, -0.0009811017367953375], \"topics\": [1, 2, 3, 4, 5, 6, 7, 8, 9, 10], \"cluster\": [1, 1, 1, 1, 1, 1, 1, 1, 1, 1], \"Freq\": [10.946309089660645, 10.597707748413086, 10.565510749816895, 9.949989318847656, 9.930998802185059, 9.850299835205078, 9.84917163848877, 9.839517593383789, 9.289857864379883, 9.180646896362305]}, \"tinfo\": {\"Category\": [\"Default\", \"Default\", \"Default\", \"Default\", \"Default\", \"Default\", \"Default\", \"Default\", \"Default\", \"Default\", \"Default\", \"Default\", \"Default\", \"Default\", \"Default\", \"Default\", \"Default\", \"Default\", \"Default\", \"Default\", \"Default\", \"Default\", \"Default\", \"Default\", \"Default\", \"Default\", \"Default\", \"Default\", \"Default\", \"Default\", \"Topic1\", \"Topic1\", \"Topic1\", \"Topic1\", \"Topic1\", \"Topic1\", \"Topic1\", \"Topic1\", \"Topic1\", \"Topic1\", \"Topic1\", \"Topic1\", \"Topic1\", \"Topic1\", \"Topic1\", \"Topic1\", \"Topic1\", \"Topic1\", \"Topic1\", \"Topic1\", \"Topic1\", \"Topic1\", \"Topic1\", \"Topic1\", \"Topic1\", \"Topic1\", \"Topic1\", \"Topic1\", \"Topic1\", \"Topic1\", \"Topic1\", \"Topic1\", \"Topic1\", \"Topic1\", \"Topic1\", \"Topic1\", \"Topic1\", \"Topic1\", \"Topic1\", \"Topic1\", \"Topic1\", \"Topic1\", \"Topic1\", \"Topic1\", \"Topic1\", \"Topic1\", \"Topic1\", \"Topic1\", \"Topic1\", \"Topic1\", \"Topic1\", \"Topic1\", \"Topic1\", \"Topic1\", \"Topic1\", \"Topic1\", \"Topic1\", \"Topic1\", \"Topic1\", \"Topic1\", \"Topic1\", \"Topic1\", \"Topic1\", \"Topic1\", \"Topic1\", \"Topic1\", \"Topic1\", \"Topic1\", \"Topic1\", \"Topic1\", \"Topic1\", \"Topic1\", \"Topic1\", \"Topic1\", \"Topic1\", \"Topic1\", \"Topic1\", \"Topic1\", \"Topic2\", \"Topic2\", \"Topic2\", \"Topic2\", \"Topic2\", \"Topic2\", \"Topic2\", \"Topic2\", \"Topic2\", \"Topic2\", \"Topic2\", \"Topic2\", \"Topic2\", \"Topic2\", \"Topic2\", \"Topic2\", \"Topic2\", \"Topic2\", \"Topic2\", \"Topic2\", \"Topic2\", \"Topic2\", \"Topic2\", \"Topic2\", \"Topic2\", \"Topic2\", \"Topic2\", \"Topic2\", \"Topic2\", \"Topic2\", \"Topic2\", \"Topic2\", \"Topic2\", \"Topic2\", \"Topic2\", \"Topic2\", \"Topic2\", \"Topic2\", \"Topic2\", \"Topic2\", \"Topic2\", \"Topic2\", \"Topic2\", \"Topic2\", \"Topic2\", \"Topic2\", \"Topic2\", \"Topic2\", \"Topic2\", \"Topic2\", \"Topic2\", \"Topic2\", \"Topic2\", \"Topic2\", \"Topic2\", \"Topic2\", \"Topic2\", \"Topic2\", \"Topic2\", \"Topic2\", \"Topic2\", \"Topic2\", \"Topic2\", \"Topic2\", \"Topic2\", \"Topic2\", \"Topic2\", \"Topic2\", \"Topic2\", \"Topic2\", \"Topic2\", \"Topic2\", \"Topic2\", \"Topic2\", \"Topic2\", \"Topic2\", \"Topic2\", \"Topic2\", \"Topic2\", \"Topic2\", \"Topic2\", \"Topic2\", \"Topic2\", \"Topic2\", \"Topic2\", \"Topic2\", \"Topic3\", \"Topic3\", \"Topic3\", \"Topic3\", \"Topic3\", \"Topic3\", \"Topic3\", \"Topic3\", \"Topic3\", \"Topic3\", \"Topic3\", \"Topic3\", \"Topic3\", \"Topic3\", \"Topic3\", \"Topic3\", \"Topic3\", \"Topic3\", \"Topic3\", \"Topic3\", \"Topic3\", \"Topic3\", \"Topic3\", \"Topic3\", \"Topic3\", \"Topic3\", \"Topic3\", \"Topic3\", \"Topic3\", \"Topic3\", \"Topic3\", \"Topic3\", \"Topic3\", \"Topic3\", \"Topic3\", \"Topic3\", \"Topic3\", \"Topic3\", \"Topic3\", \"Topic3\", \"Topic3\", \"Topic3\", \"Topic3\", \"Topic3\", \"Topic3\", \"Topic3\", \"Topic3\", \"Topic3\", \"Topic3\", \"Topic3\", \"Topic3\", \"Topic3\", \"Topic3\", \"Topic3\", \"Topic3\", \"Topic3\", \"Topic3\", \"Topic3\", \"Topic3\", \"Topic3\", \"Topic3\", \"Topic3\", \"Topic3\", \"Topic3\", \"Topic3\", \"Topic3\", \"Topic3\", \"Topic3\", \"Topic3\", \"Topic3\", \"Topic3\", \"Topic3\", \"Topic3\", \"Topic3\", \"Topic3\", \"Topic3\", \"Topic3\", \"Topic3\", \"Topic3\", \"Topic4\", \"Topic4\", \"Topic4\", \"Topic4\", \"Topic4\", \"Topic4\", \"Topic4\", \"Topic4\", \"Topic4\", \"Topic4\", \"Topic4\", \"Topic4\", \"Topic4\", \"Topic4\", \"Topic4\", \"Topic4\", \"Topic4\", \"Topic4\", \"Topic4\", \"Topic4\", \"Topic4\", \"Topic4\", \"Topic4\", \"Topic4\", \"Topic4\", \"Topic4\", \"Topic4\", \"Topic4\", \"Topic4\", \"Topic4\", \"Topic4\", \"Topic4\", \"Topic4\", \"Topic4\", \"Topic4\", \"Topic4\", \"Topic4\", \"Topic4\", \"Topic4\", \"Topic4\", \"Topic4\", \"Topic4\", \"Topic4\", \"Topic4\", \"Topic4\", \"Topic4\", \"Topic4\", \"Topic4\", \"Topic4\", \"Topic4\", \"Topic4\", \"Topic4\", \"Topic4\", \"Topic4\", \"Topic4\", \"Topic4\", \"Topic4\", \"Topic4\", \"Topic4\", \"Topic4\", \"Topic4\", \"Topic4\", \"Topic4\", \"Topic4\", \"Topic4\", \"Topic4\", \"Topic4\", \"Topic4\", \"Topic4\", \"Topic4\", \"Topic4\", \"Topic4\", \"Topic4\", \"Topic4\", \"Topic4\", \"Topic4\", \"Topic4\", \"Topic4\", \"Topic4\", \"Topic4\", \"Topic4\", \"Topic5\", \"Topic5\", \"Topic5\", \"Topic5\", \"Topic5\", \"Topic5\", \"Topic5\", \"Topic5\", \"Topic5\", \"Topic5\", \"Topic5\", \"Topic5\", \"Topic5\", \"Topic5\", \"Topic5\", \"Topic5\", \"Topic5\", \"Topic5\", \"Topic5\", \"Topic5\", \"Topic5\", \"Topic5\", \"Topic5\", \"Topic5\", \"Topic5\", \"Topic5\", \"Topic5\", \"Topic5\", \"Topic5\", \"Topic5\", \"Topic5\", \"Topic5\", \"Topic5\", \"Topic5\", \"Topic5\", \"Topic5\", \"Topic5\", \"Topic5\", \"Topic5\", \"Topic5\", \"Topic5\", \"Topic5\", \"Topic5\", \"Topic5\", \"Topic5\", \"Topic5\", \"Topic5\", \"Topic5\", \"Topic5\", \"Topic5\", \"Topic5\", \"Topic5\", \"Topic5\", \"Topic5\", \"Topic5\", \"Topic5\", \"Topic5\", \"Topic5\", \"Topic5\", \"Topic5\", \"Topic5\", \"Topic5\", \"Topic5\", \"Topic5\", \"Topic5\", \"Topic5\", \"Topic5\", \"Topic5\", \"Topic5\", \"Topic5\", \"Topic5\", \"Topic5\", \"Topic5\", \"Topic5\", \"Topic5\", \"Topic5\", \"Topic5\", \"Topic5\", \"Topic5\", \"Topic5\", \"Topic6\", \"Topic6\", \"Topic6\", \"Topic6\", \"Topic6\", \"Topic6\", \"Topic6\", \"Topic6\", \"Topic6\", \"Topic6\", \"Topic6\", \"Topic6\", \"Topic6\", \"Topic6\", \"Topic6\", \"Topic6\", \"Topic6\", \"Topic6\", \"Topic6\", \"Topic6\", \"Topic6\", \"Topic6\", \"Topic6\", \"Topic6\", \"Topic6\", \"Topic6\", \"Topic6\", \"Topic6\", \"Topic6\", \"Topic6\", \"Topic6\", \"Topic6\", \"Topic6\", \"Topic6\", \"Topic6\", \"Topic6\", \"Topic6\", \"Topic6\", \"Topic6\", \"Topic6\", \"Topic6\", \"Topic6\", \"Topic6\", \"Topic6\", \"Topic6\", \"Topic6\", \"Topic6\", \"Topic6\", \"Topic6\", \"Topic6\", \"Topic6\", \"Topic6\", \"Topic6\", \"Topic6\", \"Topic6\", \"Topic6\", \"Topic6\", \"Topic6\", \"Topic6\", \"Topic6\", \"Topic6\", \"Topic6\", \"Topic6\", \"Topic6\", \"Topic6\", \"Topic6\", \"Topic6\", \"Topic6\", \"Topic6\", \"Topic6\", \"Topic6\", \"Topic6\", \"Topic6\", \"Topic6\", \"Topic6\", \"Topic6\", \"Topic6\", \"Topic6\", \"Topic6\", \"Topic6\", \"Topic7\", \"Topic7\", \"Topic7\", \"Topic7\", \"Topic7\", \"Topic7\", \"Topic7\", \"Topic7\", \"Topic7\", \"Topic7\", \"Topic7\", \"Topic7\", \"Topic7\", \"Topic7\", \"Topic7\", \"Topic7\", \"Topic7\", \"Topic7\", \"Topic7\", \"Topic7\", \"Topic7\", \"Topic7\", \"Topic7\", \"Topic7\", \"Topic7\", \"Topic7\", \"Topic7\", \"Topic7\", \"Topic7\", \"Topic7\", \"Topic7\", \"Topic7\", \"Topic7\", \"Topic7\", \"Topic7\", \"Topic7\", \"Topic7\", \"Topic7\", \"Topic7\", \"Topic7\", \"Topic7\", \"Topic7\", \"Topic7\", \"Topic7\", \"Topic7\", \"Topic7\", \"Topic7\", \"Topic7\", \"Topic7\", \"Topic7\", \"Topic7\", \"Topic7\", \"Topic7\", \"Topic7\", \"Topic7\", \"Topic7\", \"Topic7\", \"Topic7\", \"Topic7\", \"Topic7\", \"Topic7\", \"Topic7\", \"Topic7\", \"Topic7\", \"Topic7\", \"Topic7\", \"Topic7\", \"Topic7\", \"Topic7\", \"Topic7\", \"Topic7\", \"Topic7\", \"Topic7\", \"Topic7\", \"Topic7\", \"Topic7\", \"Topic7\", \"Topic7\", \"Topic7\", \"Topic8\", \"Topic8\", \"Topic8\", \"Topic8\", \"Topic8\", \"Topic8\", \"Topic8\", \"Topic8\", \"Topic8\", \"Topic8\", \"Topic8\", \"Topic8\", \"Topic8\", \"Topic8\", \"Topic8\", \"Topic8\", \"Topic8\", \"Topic8\", \"Topic8\", \"Topic8\", \"Topic8\", \"Topic8\", \"Topic8\", \"Topic8\", \"Topic8\", \"Topic8\", \"Topic8\", \"Topic8\", \"Topic8\", \"Topic8\", \"Topic8\", \"Topic8\", \"Topic8\", \"Topic8\", \"Topic8\", \"Topic8\", \"Topic8\", \"Topic8\", \"Topic8\", \"Topic8\", \"Topic8\", \"Topic8\", \"Topic8\", \"Topic8\", \"Topic8\", \"Topic8\", \"Topic8\", \"Topic8\", \"Topic8\", \"Topic8\", \"Topic8\", \"Topic8\", \"Topic8\", \"Topic8\", \"Topic8\", \"Topic8\", \"Topic8\", \"Topic8\", \"Topic8\", \"Topic8\", \"Topic8\", \"Topic8\", \"Topic8\", \"Topic8\", \"Topic8\", \"Topic8\", \"Topic8\", \"Topic8\", \"Topic8\", \"Topic8\", \"Topic8\", \"Topic8\", \"Topic8\", \"Topic8\", \"Topic8\", \"Topic8\", \"Topic8\", \"Topic8\", \"Topic8\", \"Topic8\", \"Topic9\", \"Topic9\", \"Topic9\", \"Topic9\", \"Topic9\", \"Topic9\", \"Topic9\", \"Topic9\", \"Topic9\", \"Topic9\", \"Topic9\", \"Topic9\", \"Topic9\", \"Topic9\", \"Topic9\", \"Topic9\", \"Topic9\", \"Topic9\", \"Topic9\", \"Topic9\", \"Topic9\", \"Topic9\", \"Topic9\", \"Topic9\", \"Topic9\", \"Topic9\", \"Topic9\", \"Topic9\", \"Topic9\", \"Topic9\", \"Topic9\", \"Topic9\", \"Topic9\", \"Topic9\", \"Topic9\", \"Topic9\", \"Topic9\", \"Topic9\", \"Topic9\", \"Topic9\", \"Topic9\", \"Topic9\", \"Topic9\", \"Topic9\", \"Topic9\", \"Topic9\", \"Topic9\", \"Topic9\", \"Topic9\", \"Topic9\", \"Topic9\", \"Topic9\", \"Topic9\", \"Topic9\", \"Topic9\", \"Topic9\", \"Topic9\", \"Topic9\", \"Topic9\", \"Topic9\", \"Topic9\", \"Topic9\", \"Topic9\", \"Topic9\", \"Topic9\", \"Topic9\", \"Topic9\", \"Topic9\", \"Topic9\", \"Topic9\", \"Topic9\", \"Topic9\", \"Topic9\", \"Topic9\", \"Topic9\", \"Topic9\", \"Topic9\", \"Topic9\", \"Topic10\", \"Topic10\", \"Topic10\", \"Topic10\", \"Topic10\", \"Topic10\", \"Topic10\", \"Topic10\", \"Topic10\", \"Topic10\", \"Topic10\", \"Topic10\", \"Topic10\", \"Topic10\", \"Topic10\", \"Topic10\", \"Topic10\", \"Topic10\", \"Topic10\", \"Topic10\", \"Topic10\", \"Topic10\", \"Topic10\", \"Topic10\", \"Topic10\", \"Topic10\", \"Topic10\", \"Topic10\", \"Topic10\", \"Topic10\", \"Topic10\", \"Topic10\", \"Topic10\", \"Topic10\", \"Topic10\", \"Topic10\", \"Topic10\", \"Topic10\", \"Topic10\", \"Topic10\", \"Topic10\", \"Topic10\", \"Topic10\", \"Topic10\", \"Topic10\", \"Topic10\", \"Topic10\", \"Topic10\", \"Topic10\", \"Topic10\", \"Topic10\", \"Topic10\", \"Topic10\", \"Topic10\", \"Topic10\", \"Topic10\", \"Topic10\", \"Topic10\", \"Topic10\", \"Topic10\", \"Topic10\", \"Topic10\", \"Topic10\", \"Topic10\", \"Topic10\", \"Topic10\", \"Topic10\", \"Topic10\", \"Topic10\", \"Topic10\", \"Topic10\", \"Topic10\", \"Topic10\", \"Topic10\", \"Topic10\", \"Topic10\", \"Topic10\", \"Topic10\", \"Topic10\", \"Topic10\", \"Topic10\", \"Topic10\", \"Topic10\", \"Topic10\", \"Topic10\", \"Topic10\", \"Topic10\"], \"Freq\": [2333.0, 7719.0, 2975.0, 3104.0, 3275.0, 1476.0, 1431.0, 1847.0, 1010.0, 1636.0, 1070.0, 2899.0, 822.0, 757.0, 518.0, 833.0, 1309.0, 2256.0, 882.0, 512.0, 819.0, 933.0, 3397.0, 2803.0, 1135.0, 558.0, 468.0, 565.0, 1307.0, 813.0, 1.1955335140228271, 1.095152735710144, 0.49496838450431824, 0.9258860349655151, 0.9134111404418945, 1.0632152557373047, 0.8344579339027405, 0.43244481086730957, 0.9982314705848694, 0.812527060508728, 0.9616929292678833, 0.7715054154396057, 0.3965176045894623, 0.5535375475883484, 0.7407680749893188, 0.3838835060596466, 0.7319229245185852, 0.3804323375225067, 0.37889790534973145, 0.3747967779636383, 0.7103593945503235, 0.7079689502716064, 0.7065513134002686, 0.700401782989502, 0.6982264518737793, 0.6948880553245544, 5.807327747344971, 0.6946297883987427, 0.6836133599281311, 0.9698001146316528, 1.1376663446426392, 1.0717735290527344, 60.14527130126953, 81.61139678955078, 243.59727478027344, 70.532958984375, 28.689189910888672, 11.203746795654297, 14.921242713928223, 101.1389389038086, 111.11320495605469, 309.17327880859375, 376.7705383300781, 43.712894439697266, 67.60204315185547, 310.22869873046875, 417.61004638671875, 148.60858154296875, 428.4578857421875, 65.1214599609375, 101.85696411132812, 354.0016174316406, 837.3041381835938, 106.4371109008789, 172.71588134765625, 170.9359588623047, 184.72796630859375, 60.67991638183594, 76.58238220214844, 45.46692657470703, 324.86297607421875, 180.2911376953125, 124.0741195678711, 125.98228454589844, 93.0389633178711, 303.4195861816406, 121.0433349609375, 114.51170349121094, 186.16561889648438, 143.9710235595703, 139.37759399414062, 124.22340393066406, 137.88267517089844, 119.05022430419922, 127.47296142578125, 131.93533325195312, 126.53305053710938, 116.03173065185547, 0.48248791694641113, 0.8897119760513306, 0.4373804032802582, 0.6056639552116394, 0.7958142757415771, 0.7967714667320251, 0.9313194155693054, 0.9378625154495239, 0.40230339765548706, 0.7561994194984436, 0.38958942890167236, 0.7470651268959045, 0.7317268252372742, 0.3720895051956177, 0.7036256194114685, 0.3661250174045563, 1.1511247158050537, 1.292214274406433, 0.6970457434654236, 0.6963024139404297, 0.35992956161499023, 0.3603906035423279, 0.6911394596099854, 0.3585008680820465, 0.3580892086029053, 0.3573133051395416, 1.149858832359314, 0.6733813285827637, 0.8147528767585754, 0.3490903079509735, 0.6642513275146484, 1.79012131690979, 102.38488006591797, 2.474210262298584, 16.03565216064453, 43.71125411987305, 5.565299034118652, 85.60887908935547, 53.42670440673828, 410.1632080078125, 425.05126953125, 89.48212432861328, 432.17974853515625, 361.400634765625, 245.6059112548828, 195.11300659179688, 64.50740051269531, 90.62393188476562, 26.575532913208008, 85.20687103271484, 162.92709350585938, 85.10855102539062, 52.755699157714844, 56.829288482666016, 78.30987548828125, 96.23064422607422, 58.44981384277344, 73.46900177001953, 63.076393127441406, 51.55610656738281, 50.209529876708984, 18.232994079589844, 743.7039794921875, 140.50338745117188, 161.679931640625, 130.70504760742188, 159.32879638671875, 304.8800964355469, 161.33580017089844, 119.12718200683594, 223.57598876953125, 272.7098388671875, 98.12328338623047, 142.89381408691406, 138.70741271972656, 113.74686431884766, 111.58587646484375, 131.082763671875, 180.68138122558594, 114.0174560546875, 122.71661376953125, 128.88916015625, 110.96507263183594, 107.1026611328125, 123.8712387084961, 104.48040771484375, 1.3457413911819458, 1.0603355169296265, 1.0494588613510132, 1.000585913658142, 0.9784006476402283, 0.940432071685791, 0.9066179394721985, 0.8714447021484375, 0.8701892495155334, 1.1553764343261719, 0.8056735992431641, 0.800204336643219, 0.7963555455207825, 1.420035481452942, 0.88679039478302, 0.7264425754547119, 0.7244762182235718, 1.3419394493103027, 0.7111471891403198, 0.7037563323974609, 0.8507252931594849, 0.3656070828437805, 0.5084028244018555, 0.36018136143684387, 0.3545410931110382, 0.8238322138786316, 0.6756770014762878, 0.3510258197784424, 0.8109597563743591, 0.34897300601005554, 0.6708933115005493, 0.935558557510376, 32.09318923950195, 384.1973571777344, 59.9470100402832, 167.31126403808594, 408.14556884765625, 101.56045532226562, 83.41241455078125, 98.19339752197266, 64.10890197753906, 47.401004791259766, 170.88034057617188, 103.84390258789062, 100.02835845947266, 23.186155319213867, 80.80158233642578, 371.24346923828125, 57.233642578125, 133.27435302734375, 43.88121032714844, 758.2998657226562, 254.75401306152344, 94.58846282958984, 99.07667541503906, 354.3796691894531, 60.178367614746094, 118.56876373291016, 280.0267333984375, 127.07268524169922, 83.39956665039062, 61.2537727355957, 150.77426147460938, 146.63734436035156, 171.66943359375, 272.22406005859375, 292.9822082519531, 141.77301025390625, 140.82342529296875, 140.20379638671875, 123.49353790283203, 121.27955627441406, 137.63882446289062, 106.30213165283203, 123.82352447509766, 123.95083618164062, 118.82833099365234, 113.3392333984375, 103.06263732910156, 1.0334893465042114, 0.9406248927116394, 0.8590213656425476, 1.2002637386322021, 0.9946396350860596, 0.9446097016334534, 0.4054528772830963, 0.7700281143188477, 0.40030744671821594, 0.7434279918670654, 0.7350662350654602, 0.7351782917976379, 0.38031068444252014, 1.1524276733398438, 1.1291556358337402, 0.3570108413696289, 0.682036817073822, 0.9717822074890137, 0.6744922995567322, 0.6763607263565063, 0.6712938547134399, 0.6684359312057495, 0.6321128606796265, 0.47711464762687683, 0.33814913034439087, 0.6407259106636047, 0.3334336280822754, 0.3316303789615631, 0.33003470301628113, 0.755670428276062, 0.8796131014823914, 89.0999755859375, 0.6190224289894104, 121.3014144897461, 158.9661102294922, 399.9051818847656, 172.288818359375, 70.2396240234375, 40.317359924316406, 68.56854248046875, 116.7730941772461, 77.3378677368164, 83.79631805419922, 107.13557434082031, 192.87432861328125, 55.83608627319336, 47.970863342285156, 744.6575927734375, 317.876953125, 36.863765716552734, 45.498008728027344, 42.661861419677734, 87.4063949584961, 29.493064880371094, 51.15771484375, 228.8307342529297, 149.1707763671875, 189.61326599121094, 292.2413024902344, 311.2103271484375, 66.14935302734375, 141.13265991210938, 89.0887451171875, 106.87339782714844, 150.2767333984375, 81.80624389648438, 70.30271911621094, 102.88053131103516, 143.23062133789062, 108.30004119873047, 130.81057739257812, 237.999755859375, 116.7201156616211, 211.63864135742188, 108.94319915771484, 116.6047134399414, 107.31192779541016, 112.32550811767578, 98.8757553100586, 135.09075927734375, 102.94187927246094, 1.3929773569107056, 1.06679105758667, 1.1467466354370117, 0.4854193925857544, 0.8316534161567688, 0.4237949550151825, 0.414738267660141, 0.7635564208030701, 1.0394554138183594, 0.7327975630760193, 0.7249575257301331, 0.36658719182014465, 0.6870221495628357, 0.683951199054718, 0.6801851391792297, 0.6743727922439575, 0.6698344945907593, 0.6628236770629883, 0.3449760973453522, 0.6572070121765137, 0.9264944195747375, 0.6412100791931152, 0.6373174786567688, 0.6242735981941223, 0.3261459469795227, 0.619141697883606, 0.32359176874160767, 0.745867133140564, 0.7461600303649902, 0.6075500249862671, 1.2854052782058716, 2.2575290203094482, 46.479339599609375, 3.757654905319214, 17.98305892944336, 81.33531951904297, 6.170607566833496, 928.6166381835938, 49.7330207824707, 144.5391387939453, 26.39901351928711, 345.6507263183594, 102.07957458496094, 162.96511840820312, 24.630754470825195, 32.71051788330078, 221.10423278808594, 125.97283935546875, 73.70003509521484, 84.42276000976562, 75.55386352539062, 58.46477127075195, 69.6759262084961, 107.79670715332031, 33.974796295166016, 101.9883041381836, 147.14739990234375, 324.56298828125, 147.45895385742188, 283.4846496582031, 297.6486511230469, 87.27432250976562, 97.5748291015625, 112.74544525146484, 126.392822265625, 285.2961730957031, 224.35406494140625, 117.38459777832031, 291.0780334472656, 114.86099243164062, 134.07725524902344, 130.2440643310547, 176.34710693359375, 98.8089828491211, 100.405517578125, 124.38829040527344, 117.2123031616211, 106.93932342529297, 108.6878662109375, 106.50638580322266, 0.7099308371543884, 0.5344358682632446, 0.863400399684906, 0.839433491230011, 0.8349116444587708, 0.8366820216178894, 0.42349013686180115, 0.412985235452652, 0.7878444194793701, 0.7839144468307495, 0.7770155072212219, 0.7445802688598633, 0.7465858459472656, 0.3821256756782532, 0.37825268507003784, 0.37504661083221436, 0.3706943392753601, 0.6873347163200378, 0.831046462059021, 0.8274736404418945, 0.6826972365379333, 0.4995712339878082, 0.8211331963539124, 0.6796661019325256, 0.6637661457061768, 0.3469487726688385, 0.6605636477470398, 0.6626443862915039, 0.3426192104816437, 0.7912832498550415, 1.9635058641433716, 0.784105658531189, 2.633375644683838, 169.39266967773438, 3.2248034477233887, 224.44482421875, 1.444076418876648, 397.17364501953125, 41.886356353759766, 57.579345703125, 103.99677276611328, 109.52471160888672, 54.99666976928711, 40.134830474853516, 43.696510314941406, 8.897528648376465, 32.10755920410156, 761.9304809570312, 352.21246337890625, 104.15796661376953, 254.79620361328125, 107.19915771484375, 154.63343811035156, 17.688594818115234, 237.5210418701172, 94.48504638671875, 76.60826110839844, 47.735267639160156, 76.74393463134766, 97.13055419921875, 114.38739013671875, 192.1657257080078, 127.42827606201172, 319.8465576171875, 82.99468994140625, 69.62445831298828, 255.29827880859375, 103.1172103881836, 131.8867645263672, 236.62318420410156, 99.54635620117188, 122.15098571777344, 126.6577377319336, 142.7471923828125, 203.549072265625, 120.5042495727539, 122.36882781982422, 94.61001586914062, 106.15845489501953, 110.50205993652344, 1.5059562921524048, 1.62346351146698, 0.9569613933563232, 0.4434266984462738, 1.6026369333267212, 1.400261402130127, 0.8276034593582153, 1.0028076171875, 0.8088823556900024, 0.4023076593875885, 0.4005427956581116, 0.7743939161300659, 0.395058274269104, 0.3937039077281952, 1.2164361476898193, 0.7442283034324646, 0.3842941224575043, 0.7298415303230286, 1.8894329071044922, 0.720899760723114, 0.8683397769927979, 0.3712827265262604, 0.7000680565834045, 0.6960439085960388, 0.6907007694244385, 0.6826818585395813, 0.3520709276199341, 0.6705654263496399, 0.7970574498176575, 0.6524249315261841, 2.351378917694092, 1.5048669576644897, 29.46022605895996, 121.90656280517578, 32.016334533691406, 80.17057037353516, 355.85198974609375, 267.8228759765625, 33.8093147277832, 61.954856872558594, 83.59957885742188, 73.40619659423828, 774.6314697265625, 44.05144500732422, 69.528564453125, 191.99627685546875, 72.40567779541016, 127.18475341796875, 22.2325382232666, 204.21112060546875, 56.953487396240234, 24.995189666748047, 282.93707275390625, 97.84649658203125, 149.46771240234375, 121.65414428710938, 281.03582763671875, 77.00577545166016, 139.37757873535156, 57.108970642089844, 71.8355941772461, 59.103248596191406, 293.2889404296875, 105.42322540283203, 145.9528045654297, 254.9822540283203, 264.9809875488281, 105.73807525634766, 129.19561767578125, 123.99698638916016, 128.84930419921875, 129.31033325195312, 124.2929458618164, 129.13748168945312, 165.86569213867188, 102.88783264160156, 98.74323272705078, 112.47268676757812, 97.77369689941406, 0.6028361916542053, 1.0692824125289917, 1.0162439346313477, 0.9214158654212952, 0.890539824962616, 0.8896098732948303, 0.8339129686355591, 0.4340589940547943, 0.8075003027915955, 0.40708374977111816, 0.4044305682182312, 0.7621846199035645, 0.3996293842792511, 0.7253670692443848, 0.5192630290985107, 0.3637632727622986, 0.6954089403152466, 1.4639010429382324, 1.6013641357421875, 0.35893547534942627, 0.681573212146759, 0.6649541258811951, 0.7871828079223633, 0.340264230966568, 0.6339531540870667, 0.3283897936344147, 0.8905491828918457, 0.6210905909538269, 0.32217609882354736, 0.45158618688583374, 0.6110829710960388, 1.021146535873413, 88.78099822998047, 1.383766531944275, 2.075965404510498, 39.58769226074219, 11.483501434326172, 31.06391143798828, 181.90060424804688, 31.638368606567383, 403.3151550292969, 170.81491088867188, 103.154296875, 65.18803405761719, 7.488166809082031, 64.11925506591797, 110.64181518554688, 171.19024658203125, 50.90156936645508, 330.97235107421875, 300.095703125, 80.04859924316406, 50.6959342956543, 305.1733093261719, 105.8663330078125, 163.30087280273438, 80.00261688232422, 46.65736770629883, 225.71597290039062, 605.96337890625, 60.97049331665039, 75.4572525024414, 119.09481811523438, 85.14041137695312, 132.0826873779297, 125.0693130493164, 243.1414337158203, 169.6930694580078, 105.5167236328125, 125.44054412841797, 238.31875610351562, 126.68496704101562, 106.87114715576172, 174.37094116210938, 120.18191528320312, 110.27662658691406, 100.33943176269531, 103.09046936035156, 115.62167358398438, 127.23250579833984, 0.5302663445472717, 0.501833438873291, 0.9497576951980591, 0.926747739315033, 0.9203623533248901, 0.47230786085128784, 0.9012848138809204, 7.2453508377075195, 0.8894063234329224, 0.46248820424079895, 0.447265625, 1.4827831983566284, 0.9458327889442444, 0.5541083812713623, 0.39139774441719055, 0.7351133227348328, 0.3742139935493469, 0.37285903096199036, 0.37149810791015625, 0.7056109309196472, 0.36687302589416504, 1.7629749774932861, 0.3583560287952423, 0.6854971647262573, 0.6843697428703308, 0.6708266735076904, 0.6575667262077332, 0.34376975893974304, 0.64323490858078, 1.0829179286956787, 1.5846967697143555, 2.2080678939819336, 292.57708740234375, 18.974990844726562, 120.9430160522461, 51.99384307861328, 106.45795440673828, 776.9555053710938, 10.440906524658203, 101.86384582519531, 47.91621780395508, 50.79975128173828, 57.975067138671875, 40.744529724121094, 83.36621856689453, 334.5103759765625, 144.3048095703125, 72.30529022216797, 55.499671936035156, 155.4851837158203, 294.1641845703125, 45.876590728759766, 100.78004455566406, 155.0688018798828, 167.52720642089844, 122.77190399169922, 261.8366394042969, 72.54729461669922, 76.52337646484375, 82.92570495605469, 58.102909088134766, 109.67945098876953, 135.50009155273438, 274.1098937988281, 233.15493774414062, 244.06161499023438, 181.5525665283203, 123.1527328491211, 101.66539001464844, 121.24276733398438, 147.02662658691406, 115.29886627197266, 91.22612762451172, 98.74375915527344, 109.38089752197266, 108.21611022949219, 97.32086181640625, 96.15157318115234, 0.8895010948181152, 0.8712165951728821, 0.7826026082038879, 0.5422157049179077, 0.7270139455795288, 0.37782248854637146, 0.37706366181373596, 0.6877843141555786, 0.6674191951751709, 0.6602063775062561, 0.3406304121017456, 0.6430904269218445, 0.4663909077644348, 0.6317336559295654, 0.62363201379776, 0.4531818628311157, 0.31846538186073303, 0.3185076117515564, 1.271530270576477, 0.31023529171943665, 0.3070584535598755, 0.3063022792339325, 0.5804983377456665, 0.5804541110992432, 0.30256447196006775, 0.30134615302085876, 0.2994576394557953, 0.2987281382083893, 0.8120747208595276, 0.5630996823310852, 1.4575042724609375, 0.6777592897415161, 0.5615552067756653, 51.885704040527344, 381.4412841796875, 68.9438247680664, 33.37419891357422, 58.378143310546875, 5.101015567779541, 70.78308868408203, 787.1708374023438, 60.591552734375, 57.29894256591797, 42.04166793823242, 73.37621307373047, 67.25647735595703, 22.978290557861328, 22.336688995361328, 92.812255859375, 56.303977966308594, 82.86095428466797, 26.471864700317383, 36.44423294067383, 84.39659881591797, 16.7847843170166, 135.62596130371094, 108.89591979980469, 110.97404479980469, 83.00566864013672, 60.38877487182617, 48.950836181640625, 289.7297058105469, 172.89271545410156, 202.114990234375, 49.93266296386719, 150.8988037109375, 101.35403442382812, 134.674560546875, 93.27841186523438, 120.32288360595703, 226.13092041015625, 218.9066619873047, 124.16170501708984, 225.1970672607422, 116.67396545410156, 92.29022216796875, 159.89076232910156, 86.21346282958984, 95.41297149658203, 97.42282104492188, 164.40829467773438, 104.70250701904297, 103.53771209716797, 96.40658569335938, 93.70918273925781, 97.3609619140625, 87.82880401611328], \"Term\": [\"service\", \"\\n\\n\", \"like\", \"great\", \"food\", \"best\", \"love\", \"got\", \"going\", \"don't\", \"order\", \"\\n\", \"friendly\", \"right\", \"cheese\", \"took\", \"went\", \"time\", \"restaurant\", \"pizza\", \"better\", \"pretty\", \"place\", \"good\", \"staff\", \"location\", \"check\", \"times\", \"ordered\", \"way\", \"talia\", \"romper!\", \"abiance,\", \"waitress/cashier\", \"intelligent,\", \"bathing\", \"eat!!!\", \"pnw.\", \"resource.\", \"\\\"good\\\",\", \"squished.\", \"injections\", \"unite.\", \"musubi\", \"birthday,thank\", \"knowledgeable!!!!\", \"cookie!\", \"frame,happy\", \"luxuriously\", \"arse!\", \"dots.\", \"juvaderm.\", \"cleveland!!!!\", \"certificates\", \"calabash\", \"injector\", \"excellent!\", \"brookline\", \"effected\", \"bruschettas\", \"baby's\", \"brad\", \"there's\", \"sauce\", \"don't\", \"free\", \"reasonable\", \"quickly.\", \"fit\", \"eat\", \"2\", \"time\", \"good\", \"kids\", \"drink\", \"service\", \"food\", \"it.\", \"place\", \"loved\", \"can't\", \"\\n\", \"\\n\\n\", \"wait\", \"definitely\", \"ordered\", \"love\", \"  \", \"table\", \"owner\", \"like\", \"best\", \"recommend\", \"said\", \"find\", \"great\", \"new\", \"&\", \"got\", \"little\", \"went\", \"try\", \"didn't\", \"people\", \"nice\", \"came\", \"come\", \"chicken\", \"$10.80.\", \"disgusting...\", \"nipples\", \"provolone.\", \"puzzlemaster\", \"carina.\", \"matthew\", \"here!!!!!\", \"chad,\", \"coffee--specifically\", \"rainbow.\", \"spot...my\", \"sammies.\", \"satified!!!\", \"bri\", \"weekends...\", \"puzzles\", \"pedicure!\", \"timed.\", \"megaphone.\", \"og.\", \"donny\", \"momma\", \"dishes...what's\", \"chat!\", \"delivered!\", \"ian!\", \"experience.!\", \"too..\", \"like?!\", \"dilly\", \"mattress\", \"times\", \"catching\", \"choices\", \"spot\", \"diner\", \"location\", \"finally\", \"great\", \"food\", \"found\", \"place\", \"good\", \"got\", \"love\", \"thought\", \"fresh\", \"simple\", \"super\", \"nice\", \"food.\", \"enjoyed\", \"i'll\", \"need\", \"customer\", \"salad\", \"cheese\", \"gave\", \"waitress\", \"rice\", \"lost\", \"\\n\\n\", \"try\", \"came\", \"chicken\", \"definitely\", \"\\n\", \"didn't\", \"said\", \"time\", \"like\", \"menu\", \"little\", \"come\", \"know\", \"new\", \"went\", \"service\", \"people\", \"ordered\", \"best\", \"order\", \"going\", \"don't\", \"it.\", \"price!!!\", \"good,decent\", \"good,,\", \"poisoning?\", \"krung\", \"appetizer!!!\", \"cooks.\", \"squishies.\", \"costumers\", \"repair!!\", \"ripple.\", \"service.maybe\", \"brookline\", \"siam\", \"pancakes!!\", \"walkthrough\", \"jackpot.\", \"beaten\", \"livermush\", \"squishies\", \"unit!\", \"bai\", \"swordfish\", \"calvin!\", \"family!!\", \"linda\", \"chauffeured\", \"improvement!\", \"gourmet,\", \"ball!!!\", \"waitress/cashier\", \"kang\", \"6\", \"service\", \"extremely\", \"order\", \"\\n\", \"day\", \"bad\", \"eat\", \"area\", \"fun\", \"nice\", \"bit\", \"customer\", \"based\", \"location\", \"great\", \"i'd\", \"know\", \"money\", \"\\n\\n\", \"time\", \"wasn't\", \"wait\", \"place\", \"dinner\", \"recommend\", \"good\", \"people\", \"minutes\", \"hot\", \"didn't\", \"definitely\", \"don't\", \"like\", \"food\", \"ordered\", \"went\", \"came\", \"try\", \"staff\", \"love\", \"&\", \"little\", \"come\", \"got\", \"best\", \"going\", \"whimsical,\", \"butterflies\", \"walkthrough\", \"greenhouse\", \"decent!!\", \"rock...\", \"today..great\", \"manager/owner?\", \"place..all\", \",who\", \"room...\", \"screwed!\", \"130$\", \"pediatric\", \"tattoos\", \"stagette.\", \"heap\", \"phx.\", \"yasmin!\", \"ricketts\", \"impress,\", \"server!!\", \"washes\", \"nails!\", \"slow!!!!\", \"l'auto\", \"explosive\", \"at!!!\", \"goin\", \"n'ai\", \"town!!\", \"cheese\", \"erika\", \"took\", \"staff\", \"food\", \"ordered\", \"highly\", \"cold\", \"delicious\", \"want\", \"here.\", \"small\", \"friendly\", \"don't\", \"years\", \"waitress\", \"\\n\\n\", \"like\", \"star\", \"open\", \"special\", \"can't\", \"tacos\", \"ice\", \"time\", \"didn't\", \"got\", \"great\", \"place\", \"table\", \"definitely\", \"experience\", \"recommend\", \"best\", \"customer\", \"you're\", \"pretty\", \"love\", \"know\", \"little\", \"\\n\", \"try\", \"good\", \"order\", \"nice\", \"people\", \"came\", \"new\", \"service\", \"come\", \"imcomplete.\", \"guys?\", \"chop!\", \"tellers\", \"jackpot.\", \"everrrrr!!!\", \"sauga.\", \"squishies\", \"banking\", \"squishies.\", \"respond),\", \"\\\"closed\\\"\", \"amazinggg\", \"losses!\", \"incredibleee..we\", \"concentrated\", \"burger-\", \"people..we\", \"okay-\", \"lord,\", \"coldest\", \"carina.\", \"here...excellent\", \"shipper\", \"5c\", \"cwru\", \"9/30/18\", \"vig,\", \"matcha,\", \"ribs..that\", \"noisy,\", \"fluid\", \"wine\", \"brake\", \"potatoes\", \"wanted\", \"almond\", \"\\n\\n\", \"awesome\", \"order\", \"pool\", \"\\n\", \"think\", \"come\", \"remember\", \"great,\", \"got\", \"said\", \"place.\", \"lot\", \"worth\", \"drink\", \"coming\", \"restaurant\", \"tables\", \"took\", \"little\", \"food\", \"went\", \"good\", \"like\", \"can't\", \"way\", \"new\", \"staff\", \"great\", \"service\", \"people\", \"place\", \"it.\", \"came\", \"ordered\", \"time\", \"recommend\", \"going\", \"don't\", \"best\", \"definitely\", \"love\", \"didn't\", \"\\u5929\\u6c23\\u5f88\\u71b1\\u5403\\u4e0d\\u4e0b\\u6771\\u897f\\uff0c\\u4eca\\u5929\\u6211\\u9ede\\u4e86\\u4e00\\u500b\\u97d3\\u570b\\u51b7\\u9762\\u6e6f\\u3001\\u9910\\u5f8c\\u9ede\\u4e86\\u751c\\u9ede\\uff0c\\u51b0\\u6c99\\u7cfb\\u5217\\u4e0d\\u6703\\u592a\\u751c\\u81a9\\uff0c\\u89ba\\u5f97\\u5e97\\u5bb6\\u5f88\\u7528\\u5fc3\\u88fd\\u4f5c\\uff0c\\u5305\\u542b\\u64fa\\u76e4\\u7cbe\\u7dfb\\u3001\\u4f50\\u6599\\u885b\\u751f\\uff0c\\u590f\\u65e5\\u60f3\\u958b\\u80c3\\uff0c\\u9019\\u662f\\u4e00\\u500b\\u4e0d\\u932f\\u7684\\u9078\\u64c7\\uff0c\\u670d\\u52d9\\u4eba\\u54e1\\u4e5f\\u5f88\\u656c\\u696d\\uff0c\\u4ee5\\u5f8c\\u6703\\u5e38\\u5e38\\u4f86\", \"groupon!!\", \"badder\", \"everyday!\", \"tiger?\", \"reccomend.\", \"reese's\", \"unauthentic,\", \"\\\"inspections\\\"\", \"start-up.\", \"only!!!\", \"ridgeville.\", \"sunglass\", \"rangoons\", \"everrrrr!!!\", \"neil..\", \"reclined\", \"nationwide,\", \"pancakes!!\", \"marketing.\", \"barhopping\", \"catering!\", \"masterpiece.\", \"lemonade!\", \"fridendly.\", \"town...the\", \"liberte\", \"arrowhead.\", \"'60s.\", \"severs\", \"poppy\", \"match,\", \"styles\", \"going\", \"boneless\", \"best\", \"fans.\", \"great\", \"shop\", \"excellent\", \"good.\", \"way\", \"back.\", \"isn't\", \"started\", \"dine\", \"deal\", \"\\n\\n\", \"food\", \"took\", \"service\", \"told\", \"definitely\", \"treated\", \"time\", \"menu\", \"bar\", \"visit\", \"small\", \"friendly\", \"know\", \"got\", \"staff\", \"place\", \"find\", \"happy\", \"good\", \"pretty\", \"come\", \"\\n\", \"&\", \"nice\", \"went\", \"don't\", \"like\", \"little\", \"didn't\", \"restaurant\", \"try\", \"came\", \"poms,\", \"handle.\", \"breakfast...wtf???\", \"shell...without\", \"company!!!\", \"\\\"bobbie\\\"\", \"heal\", \"staff...\", \"greenway.\", \"pork!!!\", \"wait....if\", \"good,,\", \"roast.....it\", \"bomb....difinitly\", \"menudo\", \"kamper\", \"husband!\", \"dulce.\", \"dawn\", \"elisha.\", \"purolator,\", \"again.....oysters...gumbo....house\", \"genuine!(:\", \"conchas!\", \"order!!!!!\", \"picante!\", \"aisha\", \"rania's.\", \"outlets.\", \"daaayyuuummm..\", \"coats\", \"taxi\", \"nail\", \"right\", \"paid\", \"happy\", \"like\", \"time\", \"stopped\", \"car\", \"3\", \"night\", \"\\n\\n\", \"them.\", \"look\", \"don't\", \"big\", \"chicken\", \"de\", \"got\", \"coffee\", \"showed\", \"good\", \"way\", \"didn't\", \"people\", \"\\n\", \"amazing\", \"ordered\", \"getting\", \"super\", \"check\", \"place\", \"recommend\", \"best\", \"great\", \"food\", \"said\", \"come\", \"nice\", \"went\", \"definitely\", \"little\", \"love\", \"service\", \"it.\", \"new\", \"came\", \"know\", \"yc's!\", \"pleasant/quiet\", \"hummus).\", \"(veggie\", \"say...basic\", \"golfweek.com!\", \"dancing)\", \"ahwatukee!\", \"(belly\", \"yummm,\", \"cream!!!\", \"delivary\", \"dinner;)\", \"(delish!);\", \"kouign\", \"revised\", \"place...the\", \"ipa.\", \"gps\", \"ny!\", \"shimp\", \"jungle...\", \"sunday!\", \"carted\", \"stylist/barber,\", \"jajamyun\", \"diesel\", \"service.don't\", \":*(\", \"amann\", \"saddest\", \"obsessed.\", \"pizza\", \"brows.\", \"dentists\", \"shrimp\", \"quality.\", \"dessert\", \"went\", \"tasty\", \"place\", \"came\", \"menu\", \"vegas\", \"drink,\", \"check\", \"told\", \"love\", \"pay\", \"great\", \"good\", \"amazing\", \"old\", \"like\", \"restaurant\", \"best\", \"eat\", \"enjoyed\", \"service\", \"\\n\\n\", \"home\", \"minutes\", \"try\", \"sure\", \"come\", \"nice\", \"\\n\", \"got\", \"going\", \"definitely\", \"food\", \"didn't\", \"order\", \"time\", \"little\", \"staff\", \"new\", \"chicken\", \"ordered\", \"don't\", \"shoooz.\", \"shoot....really??all\", \"birthday,thank\", \"fingernail.\", \"linda.\", \"shoots.but\", \"walk-ins\\\".\", \"yuk\", \"fresh....\", \"wtf???closing\", \"staff/family,\", \"yuk!\", \"\\\"at\", \"melinda\", \"again...made\", \"sweet-tooth\", \"reyna\", \"mexicanos.\", \"waitresses....omg!!!\", \"saddest\", \"gringo's\", \"accepting\", \"extensions!!!!\", \"guns.\", \"aged.\", \"2...\", \"kelsea\", \"ok...but\", \"cary\", \"fungus\", \"inexpensive.\", \"traveled\", \"service\", \"we've\", \"pretty\", \"family\", \"better\", \"\\n\\n\", \"polite\", \"friendly\", \"delicious.\", \"absolutely\", \"store\", \"extra\", \"day\", \"food\", \"come\", \"long\", \"clean\", \"love\", \"great\", \"enjoy\", \"restaurant\", \"best\", \"don't\", \"try\", \"\\n\", \"looking\", \"work\", \"asked\", \"thing\", \"chicken\", \"didn't\", \"place\", \"good\", \"like\", \"time\", \"ordered\", \"know\", \"came\", \"got\", \"little\", \"&\", \"order\", \"definitely\", \"went\", \"staff\", \"nice\", \"poisoning?\", \"krung\", \"there;)\", \"finally!\", \"roomtastic\", \"army.\", \"crews\", \"rico,\", \"paced\", \"rating:\", \"fluffiest\", \"chitchatting\", \"these!\", \"fluffy!\", \"bb's\", \"suffers.\", \"leather...service\", \"hospital-\", \"wheelchair\", \"'review\", \"rug\", \"fined\", \"sights.\", \"7-eleven\", \"cuticles.\", \"burgers!\", \"chipotle!\", \"pazole\", \"buds,\", \"regrets\\\"\", \"bomb,\", \"misters.\", \"tapioca.\", \"beef\", \"like\", \"quality\", \"they're\", \"me.\", \"complained\", \"called\", \"\\n\\n\", \"check\", \"taste\", \"however,\", \"looking\", \"location\", \"haven't\", \"hope\", \"better\", \"vegas\", \"2\", \"arrived\", \"hair\", \"right\", \"authentic\", \"came\", \"it.\", \"people\", \"think\", \"lunch\", \"care\", \"place\", \"got\", \"time\", \"sweet\", \"don't\", \"going\", \"love\", \"pretty\", \"little\", \"\\n\", \"good\", \"didn't\", \"food\", \"went\", \"recommend\", \"service\", \"want\", \"order\", \"try\", \"great\", \"ordered\", \"come\", \"nice\", \"staff\", \"best\", \"new\"], \"Total\": [2333.0, 7719.0, 2975.0, 3104.0, 3275.0, 1476.0, 1431.0, 1847.0, 1010.0, 1636.0, 1070.0, 2899.0, 822.0, 757.0, 518.0, 833.0, 1309.0, 2256.0, 882.0, 512.0, 819.0, 933.0, 3397.0, 2803.0, 1135.0, 558.0, 468.0, 565.0, 1307.0, 813.0, 2.9601681232452393, 2.9524285793304443, 1.5443533658981323, 2.9718658924102783, 2.9616456031799316, 3.573800563812256, 2.9422521591186523, 1.5415362119674683, 3.5801455974578857, 2.9561750888824463, 3.5951623916625977, 2.950965404510498, 1.5399746894836426, 2.169212818145752, 2.914396286010742, 1.5354440212249756, 2.946209192276001, 1.5366441011428833, 1.5328880548477173, 1.5318354368209839, 2.9500045776367188, 2.946169376373291, 2.9517765045166016, 2.9433138370513916, 2.9443652629852295, 2.9455947875976562, 24.747695922851562, 2.9661967754364014, 2.940713405609131, 4.192276954650879, 4.950502872467041, 4.681929588317871, 327.0426940917969, 487.25054931640625, 1636.8026123046875, 429.2723388671875, 162.18800354003906, 59.2722053527832, 81.1020736694336, 655.4739379882812, 730.022216796875, 2256.0634765625, 2803.7138671875, 263.1932373046875, 429.9388122558594, 2333.39794921875, 3275.331298828125, 1044.7471923828125, 3397.59619140625, 427.86895751953125, 712.174560546875, 2899.44580078125, 7719.23388671875, 748.5305786132812, 1320.1839599609375, 1307.622802734375, 1431.0477294921875, 403.45654296875, 529.678466796875, 290.1502685546875, 2975.39990234375, 1476.1368408203125, 958.8451538085938, 984.0487060546875, 694.861572265625, 3104.064453125, 980.1663208007812, 912.4813842773438, 1847.3067626953125, 1289.2471923828125, 1309.4053955078125, 1126.010986328125, 1363.853271484375, 1070.0325927734375, 1236.0596923828125, 1330.88037109375, 1296.1058349609375, 1044.5113525390625, 1.542677879333496, 2.9589951038360596, 1.5385096073150635, 2.1733973026275635, 2.939587116241455, 2.9522342681884766, 3.5518569946289062, 3.582251787185669, 1.5368623733520508, 2.963305950164795, 1.5368950366973877, 2.9507269859313965, 2.942464828491211, 1.5376548767089844, 2.9451820850372314, 1.534627079963684, 4.825007438659668, 5.455648899078369, 2.9469616413116455, 2.9468860626220703, 1.5332525968551636, 1.536244511604309, 2.946445941925049, 1.5336151123046875, 1.5380274057388306, 1.537003993988037, 4.983452320098877, 2.93992280960083, 3.5644099712371826, 1.533572793006897, 2.939265489578247, 8.125042915344238, 565.6537475585938, 11.724176406860352, 85.24870300292969, 251.21649169921875, 28.194114685058594, 558.2091064453125, 337.1458740234375, 3104.064453125, 3275.331298828125, 600.4909057617188, 3397.59619140625, 2803.7138671875, 1847.3067626953125, 1431.0477294921875, 424.8645324707031, 623.7938232421875, 160.72348022460938, 593.7252197265625, 1236.0596923828125, 600.7404174804688, 351.1189880371094, 382.0449523925781, 547.916748046875, 695.1580200195312, 395.4730224609375, 518.2395629882812, 435.02984619140625, 345.0693359375, 340.0696716308594, 106.90202331542969, 7719.23388671875, 1126.010986328125, 1330.88037109375, 1044.5113525390625, 1320.1839599609375, 2899.44580078125, 1363.853271484375, 984.0487060546875, 2256.0634765625, 2975.39990234375, 776.3999633789062, 1289.2471923828125, 1296.1058349609375, 999.05517578125, 980.1663208007812, 1309.4053955078125, 2333.39794921875, 1070.0325927734375, 1307.622802734375, 1476.1368408203125, 1070.534423828125, 1010.6104736328125, 1636.8026123046875, 1044.7471923828125, 3.58939790725708, 2.9469170570373535, 2.9533684253692627, 2.9224202632904053, 2.922457456588745, 2.9378693103790283, 2.937216281890869, 2.9498655796051025, 2.946871042251587, 4.199590682983398, 2.9372894763946533, 2.944237232208252, 2.9661967754364014, 5.435991287231445, 3.5559792518615723, 2.9427947998046875, 2.9456682205200195, 5.457808017730713, 2.930459499359131, 2.946232795715332, 3.5819666385650635, 1.5434863567352295, 2.164729118347168, 1.5361260175704956, 1.5371391773223877, 3.5779953002929688, 2.9487740993499756, 1.5381426811218262, 3.5624847412109375, 1.5419692993164062, 2.9718658924102783, 4.178354263305664, 166.2169647216797, 2333.39794921875, 349.4552001953125, 1070.534423828125, 2899.44580078125, 668.59521484375, 547.499755859375, 655.4739379882812, 411.9783630371094, 298.545654296875, 1236.0596923828125, 715.0999755859375, 695.1580200195312, 137.6714324951172, 558.2091064453125, 3104.064453125, 380.8255920410156, 999.05517578125, 287.0278015136719, 7719.23388671875, 2256.0634765625, 706.3461303710938, 748.5305786132812, 3397.59619140625, 426.2495422363281, 958.8451538085938, 2803.7138671875, 1070.0325927734375, 640.8338012695312, 439.5341491699219, 1363.853271484375, 1320.1839599609375, 1636.8026123046875, 2975.39990234375, 3275.331298828125, 1307.622802734375, 1309.4053955078125, 1330.88037109375, 1126.010986328125, 1135.9053955078125, 1431.0477294921875, 912.4813842773438, 1289.2471923828125, 1296.1058349609375, 1847.3067626953125, 1476.1368408203125, 1010.6104736328125, 2.9432504177093506, 2.945542573928833, 2.9427947998046875, 4.192568302154541, 3.5592408180236816, 3.5498180389404297, 1.5294837951660156, 2.9288125038146973, 1.530483603477478, 2.932001829147339, 2.9282519817352295, 2.943746566772461, 1.5266704559326172, 4.809184551239014, 4.805847644805908, 1.5281310081481934, 2.9317739009857178, 4.179728031158447, 2.917879819869995, 2.926569938659668, 2.9277331829071045, 2.9264464378356934, 2.791487693786621, 2.151965379714966, 1.530379056930542, 2.929302930831909, 1.5349828004837036, 1.5272027254104614, 1.527870535850525, 3.5546798706054688, 4.191090106964111, 518.2395629882812, 2.9299802780151367, 833.6696166992188, 1135.9053955078125, 3275.331298828125, 1307.622802734375, 492.60809326171875, 269.0052795410156, 482.8277587890625, 883.9371948242188, 563.7496948242188, 620.8698120117188, 822.065185546875, 1636.8026123046875, 407.8852233886719, 345.0693359375, 7719.23388671875, 2975.39990234375, 258.7912292480469, 332.3470764160156, 308.6646728515625, 712.174560546875, 206.08999633789062, 391.3795471191406, 2256.0634765625, 1363.853271484375, 1847.3067626953125, 3104.064453125, 3397.59619140625, 529.678466796875, 1320.1839599609375, 764.5460815429688, 958.8451538085938, 1476.1368408203125, 695.1580200195312, 575.9540405273438, 933.8758544921875, 1431.0477294921875, 999.05517578125, 1289.2471923828125, 2899.44580078125, 1126.010986328125, 2803.7138671875, 1070.534423828125, 1236.0596923828125, 1070.0325927734375, 1330.88037109375, 980.1663208007812, 2333.39794921875, 1296.1058349609375, 2.9308712482452393, 2.900120496749878, 3.5642576217651367, 1.5303213596343994, 2.9456682205200195, 1.5272406339645386, 1.5311027765274048, 2.946232795715332, 4.180041790008545, 2.9498655796051025, 2.9268734455108643, 1.5346286296844482, 2.9259274005889893, 2.9205684661865234, 2.9218950271606445, 2.929305076599121, 2.9307265281677246, 2.9237420558929443, 1.5301544666290283, 2.9232378005981445, 4.181955814361572, 2.9522342681884766, 2.939032554626465, 2.9232211112976074, 1.5311139822006226, 2.919954776763916, 1.5330414772033691, 3.551323890686035, 3.5564723014831543, 2.9239823818206787, 6.199342727661133, 11.192665100097656, 272.83465576171875, 19.577672958374023, 106.1275634765625, 540.4318237304688, 34.16598892211914, 7719.23388671875, 326.2755432128906, 1070.534423828125, 169.32740783691406, 2899.44580078125, 768.4210815429688, 1296.1058349609375, 158.898681640625, 218.226318359375, 1847.3067626953125, 984.0487060546875, 543.61328125, 637.4473876953125, 571.4087524414062, 429.9388122558594, 527.1990966796875, 882.2764282226562, 234.1405029296875, 833.6696166992188, 1289.2471923828125, 3275.331298828125, 1309.4053955078125, 2803.7138671875, 2975.39990234375, 712.174560546875, 813.9219360351562, 980.1663208007812, 1135.9053955078125, 3104.064453125, 2333.39794921875, 1070.0325927734375, 3397.59619140625, 1044.7471923828125, 1330.88037109375, 1307.622802734375, 2256.0634765625, 958.8451538085938, 1010.6104736328125, 1636.8026123046875, 1476.1368408203125, 1320.1839599609375, 1431.0477294921875, 1363.853271484375, 1.5251182317733765, 1.5262832641601562, 2.9246160984039307, 2.9173479080200195, 2.9235851764678955, 2.9301137924194336, 1.527707576751709, 1.53040611743927, 2.9247190952301025, 2.9228322505950928, 2.9244444370269775, 2.9130730628967285, 2.9292714595794678, 1.529229998588562, 1.5272406339645386, 1.5241801738739014, 1.528607726097107, 2.931387186050415, 3.5559792518615723, 3.550631523132324, 2.9400415420532227, 2.1532504558563232, 3.5410592555999756, 2.9311909675598145, 2.9150333404541016, 1.5280237197875977, 2.9156274795532227, 2.9310250282287598, 1.5281249284744263, 3.549102306365967, 8.829904556274414, 3.552412986755371, 12.617977142333984, 1010.6104736328125, 15.715962409973145, 1476.1368408203125, 6.805417060852051, 3104.064453125, 266.06610107421875, 381.3502502441406, 759.8519897460938, 813.9219360351562, 378.6649475097656, 269.32794189453125, 299.30029296875, 50.74726486206055, 216.76112365722656, 7719.23388671875, 3275.331298828125, 833.6696166992188, 2333.39794921875, 865.4571533203125, 1320.1839599609375, 111.22279357910156, 2256.0634765625, 776.3999633789062, 612.959228515625, 354.6211242675781, 620.8698120117188, 822.065185546875, 999.05517578125, 1847.3067626953125, 1135.9053955078125, 3397.59619140625, 694.861572265625, 565.5178833007812, 2803.7138671875, 933.8758544921875, 1296.1058349609375, 2899.44580078125, 912.4813842773438, 1236.0596923828125, 1309.4053955078125, 1636.8026123046875, 2975.39990234375, 1289.2471923828125, 1363.853271484375, 882.2764282226562, 1126.010986328125, 1330.88037109375, 2.916498899459839, 4.794678688049316, 2.9039902687072754, 1.5345721244812012, 5.601011753082275, 4.931036472320557, 2.920363187789917, 3.5534415245056152, 2.9364211559295654, 1.5254474878311157, 1.5233476161956787, 2.9533684253692627, 1.5231983661651611, 1.5235706567764282, 4.774099826812744, 2.929119348526001, 1.521817684173584, 2.923032760620117, 7.597044467926025, 2.924901008605957, 3.551337480545044, 1.5228240489959717, 2.9394822120666504, 2.932007074356079, 2.92873477935791, 2.929851531982422, 1.5275089740753174, 2.9220635890960693, 3.5462679862976074, 2.933232307434082, 10.726706504821777, 6.843863487243652, 161.16058349609375, 757.5859375, 203.17588806152344, 565.5178833007812, 2975.39990234375, 2256.0634765625, 222.03948974609375, 443.86138916015625, 623.5144653320312, 539.5192260742188, 7719.23388671875, 304.6640625, 515.1634521484375, 1636.8026123046875, 543.0499877929688, 1044.5113525390625, 141.9108123779297, 1847.3067626953125, 427.1314697265625, 164.41659545898438, 2803.7138671875, 813.9219360351562, 1363.853271484375, 1070.0325927734375, 2899.44580078125, 631.52734375, 1307.622802734375, 443.1947937011719, 593.7252197265625, 468.27520751953125, 3397.59619140625, 958.8451538085938, 1476.1368408203125, 3104.064453125, 3275.331298828125, 984.0487060546875, 1296.1058349609375, 1236.0596923828125, 1309.4053955078125, 1320.1839599609375, 1289.2471923828125, 1431.0477294921875, 2333.39794921875, 1044.7471923828125, 980.1663208007812, 1330.88037109375, 999.05517578125, 1.5301800966262817, 2.928874969482422, 2.9276270866394043, 2.929893732070923, 2.9227001667022705, 2.9293386936187744, 2.9130141735076904, 1.5311659574508667, 2.9168310165405273, 1.5359104871749878, 1.5301841497421265, 2.9202311038970947, 1.535340666770935, 2.9116902351379395, 2.1516103744506836, 1.5301405191421509, 2.9308125972747803, 6.221503257751465, 6.829023361206055, 1.5357072353363037, 2.9346401691436768, 2.927551746368408, 3.5397136211395264, 1.53542959690094, 2.9261555671691895, 1.529978632926941, 4.16356086730957, 2.9439830780029297, 1.5297187566757202, 2.149920701980591, 2.911386489868164, 4.9579267501831055, 512.558837890625, 6.824178695678711, 10.540383338928223, 243.84609985351562, 65.75643157958984, 193.471923828125, 1309.4053955078125, 202.8471221923828, 3397.59619140625, 1330.88037109375, 776.3999633789062, 468.3011779785156, 42.86796569824219, 468.27520751953125, 865.4571533203125, 1431.0477294921875, 367.430419921875, 3104.064453125, 2803.7138671875, 631.52734375, 376.4579162597656, 2975.39990234375, 882.2764282226562, 1476.1368408203125, 655.4739379882812, 351.1189880371094, 2333.39794921875, 7719.23388671875, 486.32012939453125, 640.8338012695312, 1126.010986328125, 744.4400634765625, 1296.1058349609375, 1236.0596923828125, 2899.44580078125, 1847.3067626953125, 1010.6104736328125, 1320.1839599609375, 3275.331298828125, 1363.853271484375, 1070.534423828125, 2256.0634765625, 1289.2471923828125, 1135.9053955078125, 980.1663208007812, 1044.5113525390625, 1307.622802734375, 1636.8026123046875, 1.5181139707565308, 1.516129970550537, 2.914396286010742, 2.907888412475586, 2.8958237171173096, 1.5169947147369385, 2.905308723449707, 23.416614532470703, 2.9103713035583496, 1.5173447132110596, 1.5193405151367188, 5.277205944061279, 3.5309243202209473, 2.144099235534668, 1.5213656425476074, 2.9116463661193848, 1.5249944925308228, 1.5258675813674927, 1.522342562675476, 2.911386489868164, 1.526489019393921, 7.43021821975708, 1.5257169008255005, 2.9218528270721436, 2.9250824451446533, 2.9141159057617188, 2.908107042312622, 1.5238512754440308, 2.917894124984741, 4.931289196014404, 7.419546127319336, 10.835081100463867, 2333.39794921875, 117.45437622070312, 933.8758544921875, 366.97845458984375, 819.4027709960938, 7719.23388671875, 62.64712905883789, 822.065185546875, 350.910400390625, 376.6435852050781, 437.7666931152344, 294.829345703125, 668.59521484375, 3275.331298828125, 1296.1058349609375, 581.8168334960938, 429.4452819824219, 1431.0477294921875, 3104.064453125, 344.23822021484375, 882.2764282226562, 1476.1368408203125, 1636.8026123046875, 1126.010986328125, 2899.44580078125, 613.3612060546875, 659.9791870117188, 729.3958740234375, 470.2078552246094, 1044.5113525390625, 1363.853271484375, 3397.59619140625, 2803.7138671875, 2975.39990234375, 2256.0634765625, 1307.622802734375, 999.05517578125, 1330.88037109375, 1847.3067626953125, 1289.2471923828125, 912.4813842773438, 1070.534423828125, 1320.1839599609375, 1309.4053955078125, 1135.9053955078125, 1236.0596923828125, 2.9224202632904053, 2.922457456588745, 2.897627592086792, 2.1452972888946533, 2.9166746139526367, 1.518993616104126, 1.5238064527511597, 2.91585636138916, 2.9090452194213867, 2.920415163040161, 1.5206953287124634, 2.9248898029327393, 2.146547317504883, 2.923527717590332, 2.9176626205444336, 2.143594980239868, 1.5255006551742554, 1.5259952545166016, 6.140918254852295, 1.5241061449050903, 1.5248631238937378, 1.5222010612487793, 2.9008359909057617, 2.913810968399048, 1.521997094154358, 1.5209417343139648, 1.526170015335083, 1.5251903533935547, 4.151959419250488, 2.9179575443267822, 7.559546947479248, 3.5490994453430176, 2.9208667278289795, 349.5537414550781, 2975.39990234375, 489.1626892089844, 229.77914428710938, 427.585205078125, 31.2032470703125, 553.6962890625, 7719.23388671875, 468.27520751953125, 446.2912292480469, 320.2086486816406, 613.3612060546875, 558.2091064453125, 169.37196350097656, 164.160400390625, 819.4027709960938, 468.3011779785156, 730.022216796875, 200.02992248535156, 287.783935546875, 757.5859375, 119.4712142944336, 1330.88037109375, 1044.7471923828125, 1070.0325927734375, 768.4210815429688, 531.386474609375, 418.4730224609375, 3397.59619140625, 1847.3067626953125, 2256.0634765625, 429.233154296875, 1636.8026123046875, 1010.6104736328125, 1431.0477294921875, 933.8758544921875, 1289.2471923828125, 2899.44580078125, 2803.7138671875, 1363.853271484375, 3275.331298828125, 1309.4053955078125, 958.8451538085938, 2333.39794921875, 883.9371948242188, 1070.534423828125, 1126.010986328125, 3104.064453125, 1307.622802734375, 1296.1058349609375, 1236.0596923828125, 1135.9053955078125, 1476.1368408203125, 980.1663208007812], \"loglift\": [30.0, 29.0, 28.0, 27.0, 26.0, 25.0, 24.0, 23.0, 22.0, 21.0, 20.0, 19.0, 18.0, 17.0, 16.0, 15.0, 14.0, 13.0, 12.0, 11.0, 10.0, 9.0, 8.0, 7.0, 6.0, 5.0, 4.0, 3.0, 2.0, 1.0, 1.3055000305175781, 1.2203999757766724, 1.0743000507354736, 1.0460000038146973, 1.0358999967575073, 0.9998000264167786, 0.9520000219345093, 0.941100001335144, 0.9350000023841858, 0.9207000136375427, 0.8934999704360962, 0.8705999851226807, 0.855400025844574, 0.8464000225067139, 0.8424000144004822, 0.8259000182151794, 0.819599986076355, 0.816100001335144, 0.8144999742507935, 0.8043000102043152, 0.7883999943733215, 0.786300003528595, 0.7824000120162964, 0.7764999866485596, 0.7731000185012817, 0.7678999900817871, 0.7626000046730042, 0.7605000138282776, 0.7531999945640564, 0.7483000159263611, 0.7416999936103821, 0.7378000020980835, 0.5188000202178955, 0.4253999888896942, 0.30720001459121704, 0.40619999170303345, 0.4799000024795532, 0.5462999939918518, 0.5192000269889832, 0.3433000147342682, 0.3296000063419342, 0.22470000386238098, 0.20509999990463257, 0.41690000891685486, 0.362199991941452, 0.19439999759197235, 0.1525000035762787, 0.2619999945163727, 0.14149999618530273, 0.3296000063419342, 0.26739999651908875, 0.10920000076293945, -0.009100000374019146, 0.26159998774528503, 0.17829999327659607, 0.17749999463558197, 0.164900004863739, 0.31769999861717224, 0.2782999873161316, 0.3587999939918518, -0.0026000000070780516, 0.1096000000834465, 0.1673000007867813, 0.1565999984741211, 0.20149999856948853, -0.11320000141859055, 0.12060000002384186, 0.13670000433921814, -0.08269999921321869, 0.019999999552965164, -0.02800000086426735, 0.007799999788403511, -0.0794999971985817, 0.016300000250339508, -0.05959999933838844, -0.09910000115633011, -0.1143999993801117, 0.014700000174343586, 1.082200050354004, 1.042799949645996, 0.9868000149726868, 0.9667999744415283, 0.9379000067710876, 0.9348000288009644, 0.9059000015258789, 0.9043999910354614, 0.90420001745224, 0.8787999749183655, 0.8720999956130981, 0.8708999752998352, 0.8529000282287598, 0.8256999850273132, 0.8129000067710876, 0.8115000128746033, 0.8115000128746033, 0.8041999936103821, 0.8029000163078308, 0.801800012588501, 0.7953000068664551, 0.7946000099182129, 0.7944999933242798, 0.791100025177002, 0.7871000170707703, 0.7856000065803528, 0.777999997138977, 0.7706999778747559, 0.7687000036239624, 0.7645000219345093, 0.7573000192642212, 0.7318999767303467, 0.5353000164031982, 0.6887999773025513, 0.5738000273704529, 0.4957999885082245, 0.621999979019165, 0.36959999799728394, 0.40230000019073486, 0.22059999406337738, 0.20260000228881836, 0.3407999873161316, 0.1826000064611435, 0.19580000638961792, 0.22679999470710754, 0.25189998745918274, 0.359499990940094, 0.31540000438690186, 0.4447999894618988, 0.30320000648498535, 0.21819999814033508, 0.29030001163482666, 0.3490999937057495, 0.33899998664855957, 0.29910001158714294, 0.2671000063419342, 0.3325999975204468, 0.29100000858306885, 0.31349998712539673, 0.3434999883174896, 0.33160001039505005, 0.47589999437332153, -0.09529999643564224, 0.16329999268054962, 0.13660000264644623, 0.16619999706745148, 0.12999999523162842, -0.007799999788403511, 0.10999999940395355, 0.13300000131130219, -0.06710000336170197, -0.1451999992132187, 0.1761000007390976, 0.04479999840259552, 0.009800000116229057, 0.07169999927282333, 0.07159999758005142, -0.05700000002980232, -0.31380000710487366, 0.005400000140070915, -0.12160000205039978, -0.19370000064373016, -0.022199999541044235, 0.0, -0.3366999924182892, -0.057999998331069946, 1.2664999961853027, 1.2253999710083008, 1.2129000425338745, 1.1756999492645264, 1.1533000469207764, 1.1085000038146973, 1.072100043296814, 1.0282000303268433, 1.0277999639511108, 0.9570000171661377, 0.9539999961853027, 0.9448000192642212, 0.9326000213623047, 0.9052000045776367, 0.8587999939918518, 0.8485999703407288, 0.8449000120162964, 0.8446000218391418, 0.8314999938011169, 0.8156999945640564, 0.8100000023841858, 0.8072999715805054, 0.798799991607666, 0.7972000241279602, 0.7807000279426575, 0.7789999842643738, 0.7741000056266785, 0.7700999975204468, 0.7675999999046326, 0.7617999911308289, 0.7591999769210815, 0.7509999871253967, 0.6029000282287598, 0.44369998574256897, 0.4846999943256378, 0.39149999618530273, 0.28690001368522644, 0.36309999227523804, 0.3659999966621399, 0.3492000102996826, 0.3871999979019165, 0.4072999954223633, 0.2689000070095062, 0.3179999887943268, 0.30889999866485596, 0.46630001068115234, 0.3147999942302704, 0.12399999797344208, 0.352400004863739, 0.23319999873638153, 0.3695000112056732, -0.07280000299215317, 0.06650000065565109, 0.2370000034570694, 0.22540000081062317, -0.012900000438094139, 0.289900004863739, 0.15729999542236328, -0.05620000138878822, 0.1168999969959259, 0.20839999616146088, 0.2768999934196472, 0.04529999941587448, 0.05000000074505806, -0.007400000002235174, -0.14390000700950623, -0.1665000021457672, 0.025800000876188278, 0.017799999564886093, -0.002899999963119626, 0.037300001829862595, 0.010499999858438969, -0.09399999678134918, 0.09769999980926514, -0.09539999812841415, -0.09969999641180038, -0.49619999527931213, -0.3192000091075897, -0.03539999946951866, 1.2610000371932983, 1.166100025177002, 1.076300024986267, 1.0568000078201294, 1.0326999425888062, 0.9836999773979187, 0.9799000024795532, 0.9717000126838684, 0.9664999842643738, 0.9354000091552734, 0.9254000186920166, 0.9203000068664551, 0.9176999926567078, 0.8788999915122986, 0.8592000007629395, 0.853600025177002, 0.8493000268936157, 0.8486999869346619, 0.8428999781608582, 0.8427000045776367, 0.8348000049591064, 0.8309999704360962, 0.8223000168800354, 0.8011999726295471, 0.7978000044822693, 0.7876999974250793, 0.7807999849319458, 0.7803999781608582, 0.7752000093460083, 0.7591999769210815, 0.746399998664856, 0.5468999743461609, 0.753000020980835, 0.3799999952316284, 0.3411000072956085, 0.20469999313354492, 0.2808000147342682, 0.3598000109195709, 0.40959998965263367, 0.35580000281333923, 0.2833999991416931, 0.32120001316070557, 0.30489999055862427, 0.26989999413490295, 0.16910000145435333, 0.3190000057220459, 0.3343999981880188, -0.030899999663233757, 0.07109999656677246, 0.3587999939918518, 0.3190999925136566, 0.3285999894142151, 0.20980000495910645, 0.36340001225471497, 0.2727999985218048, 0.019200000911951065, 0.09459999948740005, 0.031099999323487282, -0.05530000105500221, -0.0828000009059906, 0.2272000014781952, 0.07180000096559525, 0.15790000557899475, 0.11349999904632568, 0.02290000021457672, 0.16779999434947968, 0.20440000295639038, 0.10180000215768814, 0.005900000222027302, 0.08569999784231186, 0.019500000402331352, -0.1923999935388565, 0.04089999943971634, -0.27619999647140503, 0.02250000089406967, -0.053300000727176666, 0.007899999618530273, -0.16459999978542328, 0.013700000010430813, -0.5414999723434448, -0.22540000081062317, 1.5657000541687012, 1.309399962425232, 1.1755000352859497, 1.1612999439239502, 1.044800043106079, 1.027500033378601, 1.0033999681472778, 0.9592000246047974, 0.917900025844574, 0.9168999791145325, 0.9139000177383423, 0.8776999711990356, 0.8604999780654907, 0.8579000234603882, 0.8518999814987183, 0.8407999873161316, 0.8335000276565552, 0.8253999948501587, 0.8198999762535095, 0.8170999884605408, 0.8023999929428101, 0.7825000286102295, 0.7809000015258789, 0.7656999826431274, 0.7631000280380249, 0.7584999799728394, 0.7540000081062317, 0.7490000128746033, 0.7479000091552734, 0.7382000088691711, 0.7361000180244446, 0.7085000276565552, 0.5396999716758728, 0.6589000225067139, 0.5343000292778015, 0.4156999886035919, 0.5981000065803528, 0.19169999659061432, 0.4284000098705292, 0.30709999799728394, 0.45100000500679016, 0.1826999932527542, 0.29089999198913574, 0.23589999973773956, 0.44519999623298645, 0.4117000102996826, 0.1867000013589859, 0.2538999915122986, 0.31130000948905945, 0.28790000081062317, 0.28630000352859497, 0.314300000667572, 0.2858000099658966, 0.20730000734329224, 0.3792000114917755, 0.2084999978542328, 0.13910000026226044, -0.002199999988079071, 0.1256999969482422, 0.017999999225139618, 0.007300000172108412, 0.2101999968290329, 0.1882999986410141, 0.1468999981880188, 0.1137000024318695, -0.07739999890327454, -0.03229999914765358, 0.09950000047683716, -0.1476999968290329, 0.10170000046491623, 0.014299999922513962, 0.003000000026077032, -0.2393999993801117, 0.03700000047683716, 0.00039999998989515007, -0.26759999990463257, -0.22370000183582306, -0.2037999927997589, -0.26820001006126404, -0.24040000140666962, 1.5529999732971191, 1.2683000564575195, 1.097599983215332, 1.0720000267028809, 1.0643999576568604, 1.0642999410629272, 1.0347000360488892, 1.0077999830245972, 1.00600004196167, 1.0017000436782837, 0.9922999739646912, 0.953499972820282, 0.9506999850273132, 0.930899977684021, 0.921999990940094, 0.9154999852180481, 0.9009000062942505, 0.8672999739646912, 0.8640000224113464, 0.8611999750137329, 0.8575000166893005, 0.8567000031471252, 0.8561999797821045, 0.8561000227928162, 0.8379999995231628, 0.835099995136261, 0.8328999876976013, 0.8307999968528748, 0.8224999904632568, 0.8169000148773193, 0.814300000667572, 0.8068000078201294, 0.7508000135421753, 0.5315999984741211, 0.7339000105857849, 0.4341000020503998, 0.7674000263214111, 0.26159998774528503, 0.46889999508857727, 0.4271000027656555, 0.328900009393692, 0.31200000643730164, 0.38830000162124634, 0.414000004529953, 0.3935000002384186, 0.5766000151634216, 0.40799999237060547, 0.002099999925121665, 0.0877000018954277, 0.23770000040531158, 0.1031000018119812, 0.22910000383853912, 0.17319999635219574, 0.47909998893737793, 0.06650000065565109, 0.21140000224113464, 0.23810000717639923, 0.3122999966144562, 0.22699999809265137, 0.1818999946117401, 0.15039999783039093, 0.054499998688697815, 0.12999999523162842, -0.04529999941587448, 0.19269999861717224, 0.22300000488758087, -0.07859999686479568, 0.11420000344514847, 0.032499998807907104, -0.18809999525547028, 0.10209999978542328, 0.0031999999191612005, -0.018200000748038292, -0.121799997985363, -0.3646000027656555, -0.05249999836087227, -0.0934000015258789, 0.08489999920129776, -0.043800000101327896, -0.17090000212192535, 1.6568000316619873, 1.2347999811172485, 1.2077000141143799, 1.076300024986267, 1.066499948501587, 1.058899998664856, 1.0569000244140625, 1.0527000427246094, 1.028499960899353, 0.9850000143051147, 0.9818999767303467, 0.979200005531311, 0.9682000279426575, 0.9646000266075134, 0.9505000114440918, 0.947700023651123, 0.9415000081062317, 0.9301999807357788, 0.9262999892234802, 0.9172999858856201, 0.9093000292778015, 0.9064000248908997, 0.8830000162124634, 0.879800021648407, 0.873199999332428, 0.8611000180244446, 0.8501999974250793, 0.8458999991416931, 0.8251000046730042, 0.8145999908447266, 0.800000011920929, 0.8030999898910522, 0.618399977684021, 0.4909000098705292, 0.4699999988079071, 0.36419999599456787, 0.19419999420642853, 0.1867000013589859, 0.435699999332428, 0.34869998693466187, 0.3084000051021576, 0.3231000006198883, 0.018699999898672104, 0.383899986743927, 0.3149999976158142, 0.17479999363422394, 0.3028999865055084, 0.21209999918937683, 0.4641000032424927, 0.11550000309944153, 0.3028999865055084, 0.4341000020503998, 0.024299999698996544, 0.19930000603199005, 0.10679999738931656, 0.14350000023841858, -0.01600000075995922, 0.2134999930858612, 0.07900000363588333, 0.2687000036239624, 0.20569999516010284, 0.24799999594688416, -0.13189999759197235, 0.10999999940395355, 0.0038999998942017555, -0.18150000274181366, -0.19670000672340393, 0.08709999918937683, 0.012000000104308128, 0.018400000408291817, -0.0008999999845400453, -0.005499999970197678, -0.021400000900030136, -0.08749999850988388, -0.3260999917984009, -9.999999747378752e-05, 0.022600000724196434, -0.15309999883174896, -0.006399999838322401, 1.3873000144958496, 1.3111000061035156, 1.260699987411499, 1.1619999408721924, 1.1303000450134277, 1.1269999742507935, 1.0678999423980713, 1.0582000017166138, 1.034500002861023, 0.9908999800682068, 0.988099992275238, 0.9754999876022339, 0.9728000164031982, 0.9290000200271606, 0.8971999883651733, 0.8822000026702881, 0.8802000284194946, 0.8719000220298767, 0.868399977684021, 0.8651999831199646, 0.8587999939918518, 0.8366000056266785, 0.8154000043869019, 0.8119000196456909, 0.7893000245094299, 0.7799999713897705, 0.7764999866485596, 0.7627000212669373, 0.7609999775886536, 0.7583000063896179, 0.7576000094413757, 0.7386999726295471, 0.565500020980835, 0.7231000065803528, 0.6940000057220459, 0.5006999969482422, 0.5737000107765198, 0.48969998955726624, 0.3449000120162964, 0.46070000529289246, 0.18770000338554382, 0.26570001244544983, 0.3003000020980835, 0.34689998626708984, 0.5740000009536743, 0.3305000066757202, 0.26179999113082886, 0.19539999961853027, 0.34209999442100525, 0.08030000329017639, 0.08420000225305557, 0.2533000111579895, 0.31380000710487366, 0.04149999842047691, 0.19840000569820404, 0.11720000207424164, 0.21549999713897705, 0.3005000054836273, -0.017000000923871994, -0.22589999437332153, 0.24230000376701355, 0.17960000038146973, 0.0722000002861023, 0.15039999783039093, 0.035100001841783524, 0.027899999171495438, -0.1598999947309494, -0.06870000064373016, 0.059300001710653305, -0.0348999984562397, -0.301800012588501, -0.0575999990105629, 0.014499999582767487, -0.24140000343322754, -0.05400000140070915, -0.013399999588727951, 0.03959999978542328, 0.003100000089034438, -0.10689999908208847, -0.23569999635219574, 1.3243999481201172, 1.2705999612808228, 1.2549999952316284, 1.232699990272522, 1.2300000190734863, 1.2094000577926636, 1.2058000564575195, 1.2031999826431274, 1.1907999515533447, 1.1881999969482422, 1.15339994430542, 1.1067999601364136, 1.059000015258789, 1.0231000185012817, 1.0185999870300293, 0.9998000264167786, 0.9713000059127808, 0.9671000242233276, 0.9657999873161316, 0.958899974822998, 0.9505000114440918, 0.9376999735832214, 0.9276000261306763, 0.9264000058174133, 0.9236999750137329, 0.9074000120162964, 0.8895000219345093, 0.8871999979019165, 0.8640999794006348, 0.8603000044822693, 0.8324999809265137, 0.7856000065803528, 0.29989999532699585, 0.5533000230789185, 0.33219999074935913, 0.4221000075340271, 0.3353999853134155, 0.08020000159740448, 0.5845000147819519, 0.288100004196167, 0.38519999384880066, 0.37279999256134033, 0.3546000123023987, 0.39719998836517334, 0.29429998993873596, 0.09470000118017197, 0.181099995970726, 0.29100000858306885, 0.33009999990463257, 0.1565999984741211, 0.019899999722838402, 0.36090001463890076, 0.20669999718666077, 0.12290000170469284, 0.09690000116825104, 0.16009999811649323, -0.028300000354647636, 0.24150000512599945, 0.2215999960899353, 0.20200000703334808, 0.28529998660087585, 0.12250000238418579, 0.06710000336170197, -0.14100000262260437, -0.11079999804496765, -0.12449999898672104, -0.1436000019311905, 0.013700000010430813, 0.09109999984502792, -0.019600000232458115, -0.15459999442100525, -0.03799999877810478, 0.07339999824762344, -0.0071000000461936, -0.1143999993801117, -0.11699999868869781, -0.08089999854564667, -0.17749999463558197, 1.1986000537872314, 1.1778000593185425, 1.0789999961853027, 1.0126999616622925, 0.9987999796867371, 0.9966999888420105, 0.9915000200271606, 0.9435999989509583, 0.9158999919891357, 0.9010999798774719, 0.8919000029563904, 0.8733000159263611, 0.8615000247955322, 0.8560000061988831, 0.8450999855995178, 0.8341000080108643, 0.8215000033378601, 0.8213000297546387, 0.8133000135421753, 0.7961999773979187, 0.7854999899864197, 0.7846999764442444, 0.77920001745224, 0.7746999859809875, 0.772599995136261, 0.7692000269889832, 0.7595000267028809, 0.7577000260353088, 0.7562999725341797, 0.742900013923645, 0.7419999837875366, 0.7324000000953674, 0.7390999794006348, 0.4805000126361847, 0.33390000462532043, 0.4287000000476837, 0.4587000012397766, 0.3968999981880188, 0.5770000219345093, 0.3310999870300293, 0.10499999672174454, 0.3431999981403351, 0.3353999853134155, 0.3578000068664551, 0.2646999955177307, 0.2718999981880188, 0.390500009059906, 0.3935000002384186, 0.210099995136261, 0.26969999074935913, 0.21220000088214874, 0.36570000648498535, 0.3215999901294708, 0.19349999725818634, 0.4255000054836273, 0.10440000146627426, 0.12690000236034393, 0.12189999967813492, 0.16259999573230743, 0.2134000062942505, 0.24230000376701355, -0.0737999975681305, 0.019300000742077827, -0.02449999935925007, 0.23669999837875366, 0.00419999985024333, 0.08839999884366989, 0.024800000712275505, 0.08429999649524689, 0.01640000008046627, -0.163100004196167, -0.16200000047683716, -0.00839999970048666, -0.2890999913215637, -0.029899999499320984, 0.04729999974370003, -0.29249998927116394, 0.060499999672174454, -0.029600000008940697, -0.059300001710653305, -0.550000011920929, -0.13680000603199005, -0.13910000026226044, -0.16300000250339508, -0.10689999908208847, -0.33070001006126404, -0.024299999698996544], \"logprob\": [30.0, 29.0, 28.0, 27.0, 26.0, 25.0, 24.0, 23.0, 22.0, 21.0, 20.0, 19.0, 18.0, 17.0, 16.0, 15.0, 14.0, 13.0, 12.0, 11.0, 10.0, 9.0, 8.0, 7.0, 6.0, 5.0, 4.0, 3.0, 2.0, 1.0, -10.808600425720215, -10.896300315856934, -11.690400123596191, -11.064200401306152, -11.077699661254883, -10.92590045928955, -11.168100357055664, -11.825499534606934, -10.988900184631348, -11.19480037689209, -11.026200294494629, -11.246600151062012, -11.912199974060059, -11.57859992980957, -11.287199974060059, -11.944600105285645, -11.299200057983398, -11.95359992980957, -11.957599639892578, -11.968500137329102, -11.329099655151367, -11.332500457763672, -11.334500312805176, -11.343299865722656, -11.346400260925293, -11.351200103759766, -9.227999687194824, -11.351499557495117, -11.367500305175781, -11.017800331115723, -10.858200073242188, -10.917799949645996, -6.890399932861328, -6.58519983291626, -5.491600036621094, -6.731100082397461, -7.6305999755859375, -8.570899963378906, -8.28439998626709, -6.370699882507324, -6.276599884033203, -5.253300189971924, -5.055500030517578, -7.209499835968018, -6.773499965667725, -5.249800205230713, -4.952600002288818, -5.985799789428711, -4.927000045776367, -6.8109002113342285, -6.36359977722168, -5.1178998947143555, -4.256999969482422, -6.3196001052856445, -5.8354997634887695, -5.845900058746338, -5.7683000564575195, -6.881499767303467, -6.648799896240234, -7.170199871063232, -5.203800201416016, -5.792600154876709, -6.166299819946289, -6.151000022888184, -6.454100131988525, -5.271999835968018, -6.190999984741211, -6.246500015258789, -5.760499954223633, -6.017499923706055, -6.050000190734863, -6.16510009765625, -6.060800075531006, -6.207600116729736, -6.1392998695373535, -6.104800224304199, -6.146699905395508, -6.23330020904541, -11.683600425720215, -11.071700096130371, -11.781700134277344, -11.456199645996094, -11.183199882507324, -11.182000160217285, -11.025899887084961, -11.018899917602539, -11.865300178527832, -11.234199523925781, -11.897500038146973, -11.246399879455566, -11.26710033416748, -11.943400382995605, -11.306300163269043, -11.959600448608398, -10.81410026550293, -10.698399543762207, -11.315699577331543, -11.316800117492676, -11.97659969329834, -11.9753999710083, -11.324199676513672, -11.980600357055664, -11.981800079345703, -11.98390007019043, -10.815199851989746, -11.350199699401855, -11.159700393676758, -12.007200241088867, -11.363900184631348, -10.3725004196167, -6.326099872589111, -10.04889965057373, -8.180000305175781, -7.177199840545654, -9.238200187683105, -6.505000114440918, -6.976500034332275, -4.938199996948242, -4.902599811553955, -6.4608001708984375, -4.886000156402588, -5.064799785614014, -5.451099872589111, -5.68120002746582, -6.788000106811523, -6.4481000900268555, -7.674799919128418, -6.509699821472168, -5.861499786376953, -6.510900020599365, -6.989099979400635, -6.914700031280518, -6.594099998474121, -6.388000011444092, -6.886600017547607, -6.657899856567383, -6.810400009155273, -7.0121002197265625, -7.038599967956543, -8.051600456237793, -4.343200206756592, -6.0096001625061035, -5.869200229644775, -6.081900119781494, -5.883800029754639, -5.234899997711182, -5.871300220489502, -6.174600124359131, -5.545000076293945, -5.346399784088135, -6.368599891662598, -5.992700099945068, -6.02239990234375, -6.220799922943115, -6.239999771118164, -6.078999996185303, -5.7581000328063965, -6.218400001525879, -6.144899845123291, -6.095799922943115, -6.24560022354126, -6.281000137329102, -6.1356000900268555, -6.305799961090088, -10.654800415039062, -10.893199920654297, -10.903499603271484, -10.951199531555176, -10.973600387573242, -11.013199806213379, -11.049799919128418, -11.089400291442871, -11.090800285339355, -10.807299613952637, -11.167799949645996, -11.174599647521973, -11.179499626159668, -10.601099967956543, -11.071900367736816, -11.271300315856934, -11.274100303649902, -10.657600402832031, -11.29259967803955, -11.303099632263184, -11.11340045928955, -11.957900047302246, -11.628199577331543, -11.972900390625, -11.988699913024902, -11.145500183105469, -11.343799591064453, -11.998600006103516, -11.161299705505371, -12.004500389099121, -11.350899696350098, -11.018400192260742, -7.483099937438965, -5.0005998611450195, -6.85830020904541, -5.831900119781494, -4.940100193023682, -6.331099987030029, -6.5279998779296875, -6.364799976348877, -6.791200160980225, -7.093100070953369, -5.810800075531006, -6.308899879455566, -6.34630012512207, -7.808199882507324, -6.559800148010254, -5.034900188446045, -6.904600143432617, -6.059299945831299, -7.170300006866455, -4.320700168609619, -5.411499977111816, -6.402200222015381, -6.355899810791016, -5.081399917602539, -6.854400157928467, -6.176300048828125, -5.31689977645874, -6.10699987411499, -6.52810001373291, -6.836699962615967, -5.935999870300293, -5.963799953460693, -5.80620002746582, -5.345099925994873, -5.271599769592285, -5.997499942779541, -6.004199981689453, -6.008699893951416, -6.1356000900268555, -6.15369987487793, -6.027100086212158, -6.2855000495910645, -6.132900238037109, -6.131899833679199, -6.174099922180176, -6.221399784088135, -6.316400051116943, -10.858799934387207, -10.952899932861328, -11.043700218200684, -10.709199905395508, -10.897100448608398, -10.948699951171875, -11.794500350952148, -11.15310001373291, -11.80720043182373, -11.188199996948242, -11.19950008392334, -11.199399948120117, -11.858499526977539, -10.749899864196777, -10.770299911499023, -11.921699523925781, -11.274399757385254, -10.92039966583252, -11.285499572753906, -11.28279972076416, -11.290300369262695, -11.294500350952148, -11.3503999710083, -11.631699562072754, -11.97599983215332, -11.336899757385254, -11.989999771118164, -11.995499610900879, -12.000300407409668, -11.171899795532227, -11.020000457763672, -6.4019999504089355, -11.371299743652344, -6.093400001525879, -5.822999954223633, -4.9004998207092285, -5.742599964141846, -6.639800071716309, -7.194900035858154, -6.663899898529053, -6.131499767303467, -6.543499946594238, -6.4633002281188965, -6.217599868774414, -5.629700183868408, -6.86929988861084, -7.021100044250488, -4.278800010681152, -5.130099773406982, -7.2845001220703125, -7.074100017547607, -7.138400077819824, -6.421199798583984, -7.507599830627441, -6.9567999839782715, -5.458700180053711, -5.886600017547607, -5.646699905395508, -5.214099884033203, -5.151299953460693, -6.69980001449585, -5.941999912261963, -6.402100086212158, -6.220099925994873, -5.879199981689453, -6.487400054931641, -6.638899803161621, -6.258200168609619, -5.927299976348877, -6.2067999839782715, -6.01800012588501, -5.41949987411499, -6.131899833679199, -5.536799907684326, -6.200900077819824, -6.132900238037109, -6.216000080108643, -6.170300006866455, -6.297900199890137, -5.985799789428711, -6.257599830627441, -10.55840015411377, -10.825200080871582, -10.752900123596191, -11.612600326538086, -11.074199676513672, -11.748299598693848, -11.76990032196045, -11.159600257873535, -10.851099967956543, -11.200699806213379, -11.21150016784668, -11.89330005645752, -11.265199661254883, -11.269700050354004, -11.275199890136719, -11.28380012512207, -11.290499687194824, -11.30109977722168, -11.954099655151367, -11.309599876403809, -10.96619987487793, -11.334199905395508, -11.340299606323242, -11.361000061035156, -12.010199546813965, -11.369199752807617, -12.018099784851074, -11.182999610900879, -11.182600021362305, -11.388099670410156, -10.638699531555176, -10.075499534606934, -7.05079984664917, -9.565999984741211, -8.000399589538574, -6.491199970245361, -9.069999694824219, -4.056099891662598, -6.983099937438965, -5.916299819946289, -7.616499900817871, -5.044400215148926, -6.264100074768066, -5.796299934387207, -7.685800075531006, -7.402100086212158, -5.491199970245361, -6.053800106048584, -6.589799880981445, -6.453999996185303, -6.565000057220459, -6.821400165557861, -6.645999908447266, -6.20959997177124, -7.364200115203857, -6.264999866485596, -5.898399829864502, -5.1072998046875, -5.896299839019775, -5.242700099945068, -5.193900108337402, -6.42080020904541, -6.309199810028076, -6.164700031280518, -6.0503997802734375, -5.236299991607666, -5.476600170135498, -6.1244001388549805, -5.21619987487793, -6.146100044250488, -5.991399765014648, -6.020400047302246, -5.717400074005127, -6.296599864959717, -6.280600070953369, -6.066400051116943, -6.125800132751465, -6.217599868774414, -6.201300144195557, -6.22160005569458, -11.224200248718262, -11.508199691772461, -11.028499603271484, -11.056699752807617, -11.062100410461426, -11.0600004196167, -11.740900039672852, -11.765999794006348, -11.120100021362305, -11.125100135803223, -11.133999824523926, -11.176600456237793, -11.17389965057373, -11.843700408935547, -11.853799819946289, -11.86240005493164, -11.87399959564209, -11.256600379943848, -11.066699981689453, -11.071000099182129, -11.263400077819824, -11.575699806213379, -11.078700065612793, -11.267800331115723, -11.291500091552734, -11.940199851989746, -11.296299934387207, -11.29319953918457, -11.952799797058105, -11.115799903869629, -10.206899642944336, -11.124899864196777, -9.913399696350098, -5.7494001388549805, -9.710800170898438, -5.4679999351501465, -10.514200210571289, -4.897299766540527, -7.146699905395508, -6.828499794006348, -6.237299919128418, -6.185500144958496, -6.8744001388549805, -7.1894001960754395, -7.104400157928467, -8.695899963378906, -7.412600040435791, -4.245800018310547, -5.017399787902832, -6.2357001304626465, -5.34119987487793, -6.206999778747559, -5.84060001373291, -8.008700370788574, -5.411399841308594, -6.333199977874756, -6.543000221252441, -7.015999794006348, -6.541200160980225, -6.305600166320801, -6.142099857330322, -5.623300075531006, -6.03410005569458, -5.113800048828125, -6.462900161743164, -6.638500213623047, -5.339200019836426, -6.245800018310547, -5.99970006942749, -5.415200233459473, -6.281000137329102, -6.076399803161621, -6.040200233459473, -5.920599937438965, -5.565800189971924, -6.090000152587891, -6.0746002197265625, -6.331900119781494, -6.216700077056885, -6.176599979400635, -10.472100257873535, -10.397000312805176, -10.92549991607666, -11.69480037689209, -10.409899711608887, -10.544899940490723, -11.070799827575684, -10.878700256347656, -11.093600273132324, -11.792099952697754, -11.796500205993652, -11.137200355529785, -11.81029987335205, -11.813699722290039, -10.685600280761719, -11.177000045776367, -11.837900161743164, -11.196499824523926, -10.24530029296875, -11.208800315856934, -11.022700309753418, -11.872300148010254, -11.238100051879883, -11.243900299072266, -11.25160026550293, -11.263299942016602, -11.92549991607666, -11.281200408935547, -11.108400344848633, -11.308600425720215, -10.02649974822998, -10.472800254821777, -7.498499870300293, -6.0782999992370605, -7.415299892425537, -6.497399806976318, -5.006999969482422, -5.291200160980225, -7.360799789428711, -6.755099773406982, -6.45550012588501, -6.5854997634887695, -4.2291998863220215, -7.096199989318848, -6.639800071716309, -5.624100208282471, -6.599299907684326, -6.035900115966797, -7.78000020980835, -5.562399864196777, -6.839300155639648, -7.662899971008301, -5.236299991607666, -6.298099994659424, -5.874499797821045, -6.080399990081787, -5.243100166320801, -6.537700176239014, -5.944399833679199, -6.836599826812744, -6.6072001457214355, -6.802299976348877, -5.200399875640869, -6.223599910736084, -5.8983001708984375, -5.3403000831604, -5.3018999099731445, -6.220600128173828, -6.020199775695801, -6.061299800872803, -6.022900104522705, -6.0192999839782715, -6.058899879455566, -6.020699977874756, -5.770400047302246, -6.247900009155273, -6.289000034332275, -6.15880012512207, -6.298900127410889, -11.386699676513672, -10.813599586486816, -10.864399909973145, -10.962400436401367, -10.996500015258789, -10.9975004196167, -11.062199592590332, -11.715100288391113, -11.094400405883789, -11.77929973602295, -11.785799980163574, -11.152099609375, -11.797800064086914, -11.201600074768066, -11.535900115966797, -11.891799926757812, -11.243800163269043, -10.499500274658203, -10.409700393676758, -11.905200004577637, -11.263899803161621, -11.288599967956543, -11.11989974975586, -11.958600044250488, -11.336299896240234, -11.994099617004395, -10.996500015258789, -11.356800079345703, -12.013199806213379, -11.675600051879883, -11.373100280761719, -10.859600067138672, -6.394400119781494, -10.555800437927246, -10.150099754333496, -7.202000141143799, -8.43970012664795, -7.444499969482422, -5.67710018157959, -7.426199913024902, -4.880799770355225, -5.739999771118164, -6.24429988861084, -6.7032999992370605, -8.867199897766113, -6.719799995422363, -6.174300193786621, -5.737800121307373, -6.950699806213379, -5.078499794006348, -5.176499843597412, -6.497900009155273, -6.954699993133545, -5.1596999168396, -6.218400001525879, -5.784999847412109, -6.498499870300293, -7.037700176239014, -5.461299896240234, -4.473700046539307, -6.770199775695801, -6.557000160217285, -6.100599765777588, -6.436299800872803, -5.997099876403809, -6.051700115203857, -5.386899948120117, -5.746600151062012, -6.221700191497803, -6.048699855804443, -5.4070000648498535, -6.038899898529053, -6.208899974822998, -5.719399929046631, -6.091599941253662, -6.177599906921387, -6.271999835968018, -6.244999885559082, -6.130199909210205, -6.0345001220703125, -11.457500457763672, -11.51259994506836, -10.874600410461426, -10.899200439453125, -10.906100273132324, -11.573200225830078, -10.927000045776367, -8.842700004577637, -10.940299987792969, -11.594200134277344, -11.627699851989746, -10.429200172424316, -10.878800392150879, -11.41349983215332, -11.761099815368652, -11.130800247192383, -11.805999755859375, -11.809599876403809, -11.813300132751465, -11.171799659729004, -11.825799942016602, -10.256099700927734, -11.849300384521484, -11.200699806213379, -11.202300071716309, -11.222299575805664, -11.242300033569336, -11.890899658203125, -11.264300346374512, -10.743399620056152, -10.362700462341309, -10.031000137329102, -5.144400119781494, -7.880000114440918, -6.0278000831604, -6.872000217437744, -6.155300140380859, -4.167699813842773, -8.477299690246582, -6.199399948120117, -6.95359992980957, -6.895199775695801, -6.7631001472473145, -7.115799903869629, -6.399799823760986, -5.01039981842041, -5.851200103759766, -6.542200088500977, -6.806700229644775, -5.776500225067139, -5.138899803161621, -6.997099876403809, -6.210100173950195, -5.779200077056885, -5.701900005340576, -6.012800216674805, -5.25540018081665, -6.53879976272583, -6.485499858856201, -6.405099868774414, -6.760900020599365, -6.125500202178955, -5.914100170135498, -5.20959997177124, -5.371399879455566, -5.325699806213379, -5.621500015258789, -6.009699821472168, -6.201399803161621, -6.025300025939941, -5.832499980926514, -6.0756001472473145, -6.309700012207031, -6.230599880218506, -6.128200054168701, -6.138899803161621, -6.245100021362305, -6.257199764251709, -10.928299903869629, -10.94909954071045, -11.056400299072266, -11.423299789428711, -11.13010025024414, -11.784600257873535, -11.786600112915039, -11.185500144958496, -11.21560001373291, -11.226499557495117, -11.888199806213379, -11.252699851989746, -11.574000358581543, -11.270500183105469, -11.28339958190918, -11.602700233459473, -11.955499649047852, -11.955400466918945, -10.571000099182129, -11.98169994354248, -11.991999626159668, -11.994400024414062, -11.35509967803955, -11.355199813842773, -12.006699562072754, -12.0108003616333, -12.017000198364258, -12.019499778747559, -11.019399642944336, -11.385600090026855, -10.434499740600586, -11.200200080871582, -11.388299942016602, -6.862199783325195, -4.867300033569336, -6.578000068664551, -7.303500175476074, -6.74429988861084, -9.18179988861084, -6.551599979400635, -4.1427998542785645, -6.707099914550781, -6.763000011444092, -7.0725998878479, -6.515699863433838, -6.602700233459473, -7.676700115203857, -7.704999923706055, -6.280700206756592, -6.7804999351501465, -6.394100189208984, -7.535200119018555, -7.2154998779296875, -6.375699996948242, -7.990799903869629, -5.901400089263916, -6.1209001541137695, -6.1020002365112305, -6.392300128936768, -6.7104997634887695, -6.920400142669678, -5.142300128936768, -5.658599853515625, -5.502399921417236, -6.900599956512451, -5.794600009918213, -6.192599773406982, -5.908400058746338, -6.275700092315674, -6.021100044250488, -5.390100002288818, -5.422599792480469, -5.989699840545654, -5.3942999839782715, -6.0518999099731445, -6.286300182342529, -5.736800193786621, -6.354400157928467, -6.252999782562256, -6.2322001457214355, -5.708899974822998, -6.160099983215332, -6.171299934387207, -6.242700099945068, -6.271100044250488, -6.232800006866455, -6.335899829864502]}, \"token.table\": {\"Topic\": [1, 2, 3, 4, 5, 6, 7, 8, 9, 10, 1, 2, 3, 4, 5, 6, 7, 8, 9, 10, 1, 2, 3, 4, 5, 6, 7, 8, 9, 10, 1, 8, 9, 6, 7, 1, 5, 6, 1, 2, 3, 4, 5, 6, 7, 8, 9, 10, 8, 8, 9, 8, 4, 1, 2, 3, 4, 5, 6, 7, 8, 9, 10, 3, 8, 9, 1, 2, 3, 4, 5, 6, 7, 8, 9, 10, 1, 2, 3, 4, 5, 6, 7, 8, 9, 10, 10, 1, 2, 3, 4, 5, 6, 7, 8, 9, 10, 1, 2, 4, 7, 8, 9, 1, 9, 1, 2, 3, 4, 5, 6, 7, 8, 9, 10, 1, 2, 3, 4, 5, 6, 7, 8, 9, 10, 5, 3, 5, 1, 2, 3, 4, 5, 6, 7, 8, 9, 10, 1, 2, 3, 4, 5, 6, 7, 8, 9, 10, 6, 1, 2, 3, 4, 5, 6, 7, 8, 9, 10, 1, 2, 3, 4, 5, 6, 7, 8, 9, 10, 1, 2, 3, 4, 5, 6, 7, 8, 9, 10, 1, 6, 9, 1, 2, 3, 4, 5, 6, 7, 8, 9, 10, 1, 2, 3, 4, 5, 6, 7, 8, 9, 10, 6, 5, 1, 2, 3, 4, 5, 6, 7, 8, 9, 10, 6, 1, 2, 3, 4, 5, 6, 7, 8, 9, 10, 1, 1, 7, 10, 1, 3, 7, 9, 1, 2, 3, 4, 5, 6, 7, 8, 9, 10, 1, 2, 3, 4, 5, 6, 7, 8, 9, 10, 1, 2, 3, 4, 5, 6, 7, 8, 9, 10, 1, 2, 3, 4, 5, 6, 7, 8, 9, 10, 1, 9, 1, 2, 3, 4, 5, 6, 7, 8, 9, 10, 1, 3, 4, 5, 6, 7, 8, 10, 1, 2, 3, 4, 5, 6, 7, 8, 9, 10, 1, 1, 2, 3, 4, 5, 6, 7, 8, 9, 10, 4, 7, 10, 2, 7, 1, 3, 1, 2, 3, 5, 7, 8, 9, 10, 1, 10, 10, 5, 3, 4, 1, 1, 2, 3, 4, 5, 6, 7, 8, 9, 10, 1, 2, 3, 4, 5, 6, 7, 8, 9, 10, 1, 2, 3, 4, 5, 6, 7, 8, 9, 10, 1, 2, 3, 4, 5, 6, 7, 8, 9, 10, 1, 2, 3, 4, 5, 6, 7, 8, 9, 10, 2, 5, 6, 9, 1, 2, 3, 4, 5, 6, 7, 8, 9, 10, 1, 3, 1, 2, 3, 4, 5, 6, 7, 8, 9, 10, 1, 2, 3, 4, 5, 6, 7, 8, 9, 10, 1, 2, 3, 4, 5, 6, 7, 8, 9, 10, 10, 1, 2, 3, 4, 5, 6, 7, 8, 9, 10, 5, 1, 2, 3, 4, 5, 6, 7, 8, 9, 10, 1, 2, 1, 2, 3, 4, 5, 6, 7, 8, 9, 10, 1, 2, 3, 4, 5, 6, 7, 8, 9, 10, 2, 3, 1, 2, 3, 4, 5, 6, 7, 8, 9, 10, 5, 1, 2, 3, 4, 5, 6, 7, 8, 9, 10, 1, 2, 3, 4, 5, 6, 7, 8, 9, 10, 1, 3, 7, 8, 1, 2, 3, 4, 5, 6, 7, 8, 9, 10, 5, 7, 1, 3, 3, 1, 2, 3, 4, 5, 6, 7, 8, 9, 10, 5, 7, 8, 1, 2, 3, 4, 6, 7, 8, 10, 1, 2, 3, 4, 5, 6, 7, 8, 9, 10, 1, 2, 3, 4, 5, 6, 7, 8, 9, 10, 1, 2, 3, 4, 5, 6, 7, 8, 9, 10, 4, 1, 2, 3, 4, 5, 6, 7, 8, 9, 10, 1, 2, 3, 4, 5, 6, 7, 8, 9, 10, 1, 2, 3, 4, 5, 6, 7, 8, 9, 10, 8, 1, 2, 3, 4, 5, 6, 7, 8, 9, 10, 1, 2, 3, 4, 5, 6, 7, 8, 9, 10, 1, 2, 3, 4, 5, 6, 7, 8, 9, 10, 4, 8, 2, 1, 2, 3, 4, 5, 6, 7, 8, 9, 10, 1, 2, 3, 4, 5, 6, 7, 8, 9, 10, 1, 2, 3, 4, 5, 6, 7, 8, 9, 10, 2, 1, 2, 3, 4, 5, 6, 7, 8, 9, 10, 1, 1, 2, 3, 4, 5, 6, 7, 8, 9, 10, 1, 2, 3, 4, 5, 6, 7, 8, 9, 10, 7, 1, 2, 3, 4, 5, 6, 7, 8, 9, 10, 1, 1, 7, 1, 2, 3, 4, 5, 6, 7, 8, 9, 10, 1, 2, 3, 4, 5, 6, 7, 8, 9, 10, 4, 7, 6, 9, 1, 2, 3, 4, 5, 6, 7, 8, 9, 10, 1, 2, 3, 4, 5, 6, 7, 8, 9, 10, 1, 2, 3, 4, 5, 6, 7, 8, 9, 10, 2, 1, 2, 3, 4, 5, 6, 7, 8, 9, 10, 1, 2, 3, 4, 5, 6, 7, 8, 9, 10, 1, 2, 3, 4, 5, 6, 7, 8, 9, 10, 1, 2, 4, 5, 6, 7, 8, 10, 1, 2, 3, 4, 5, 6, 7, 8, 9, 10, 10, 1, 2, 3, 4, 5, 6, 7, 8, 9, 10, 2, 9, 1, 2, 3, 4, 5, 6, 7, 8, 9, 10, 10, 1, 2, 3, 4, 5, 6, 7, 8, 9, 10, 1, 2, 3, 4, 5, 6, 7, 8, 9, 10, 1, 2, 3, 4, 5, 6, 7, 8, 9, 10, 1, 2, 3, 4, 5, 6, 7, 8, 9, 10, 1, 2, 3, 4, 5, 6, 7, 8, 9, 10, 1, 2, 3, 4, 5, 6, 7, 8, 9, 10, 9, 6, 1, 2, 3, 4, 5, 6, 7, 8, 9, 10, 1, 2, 3, 4, 5, 6, 7, 8, 9, 10, 2, 4, 6, 9, 1, 2, 3, 4, 5, 6, 7, 8, 9, 10, 2, 7, 1, 2, 3, 4, 5, 6, 7, 8, 9, 10, 1, 2, 3, 4, 5, 6, 7, 8, 9, 10, 6, 8, 1, 2, 3, 4, 5, 6, 7, 8, 9, 10, 3, 7, 3, 9, 1, 2, 3, 4, 5, 6, 7, 8, 9, 10, 1, 2, 3, 4, 5, 6, 7, 8, 9, 10, 3, 1, 7, 8, 9, 10, 1, 2, 3, 4, 5, 6, 7, 8, 9, 10, 1, 2, 3, 4, 5, 6, 7, 8, 9, 10, 3, 4, 7, 6, 5, 9, 5, 9, 1, 2, 3, 4, 5, 6, 7, 8, 9, 10, 4, 7, 1, 2, 3, 4, 5, 6, 7, 8, 9, 10, 1, 2, 3, 4, 5, 6, 7, 8, 9, 10, 7, 4, 2, 8, 1, 2, 3, 4, 5, 6, 7, 8, 9, 10, 5, 6, 1, 2, 3, 4, 5, 6, 7, 8, 9, 10, 1, 2, 3, 4, 5, 6, 7, 8, 9, 10, 1, 2, 3, 4, 5, 6, 7, 8, 9, 10, 1, 2, 3, 4, 5, 6, 7, 8, 9, 10, 1, 2, 3, 4, 5, 6, 7, 8, 9, 10, 8, 1, 2, 3, 4, 5, 6, 7, 8, 9, 10, 1, 2, 3, 4, 5, 6, 7, 8, 9, 10, 1, 2, 9, 1, 2, 3, 4, 5, 6, 7, 8, 9, 10, 5, 4, 5, 1, 3, 5, 6, 7, 8, 9, 1, 1, 1, 2, 1, 2, 3, 6, 8, 1, 2, 3, 4, 5, 6, 7, 8, 9, 10, 1, 2, 3, 4, 5, 6, 7, 8, 9, 10, 3, 5, 3, 8, 1, 7, 3, 5, 10, 9, 1, 2, 3, 4, 5, 6, 7, 8, 9, 10, 1, 2, 3, 4, 5, 6, 7, 8, 9, 10, 8, 3, 10, 1, 4, 6, 4, 6, 1, 2, 3, 4, 5, 6, 7, 8, 9, 10, 1, 3, 9, 1, 2, 3, 4, 5, 6, 7, 8, 9, 10, 3, 9, 1, 2, 3, 4, 5, 6, 7, 8, 9, 10, 1, 2, 3, 4, 5, 6, 7, 8, 9, 10, 1, 2, 3, 4, 5, 6, 7, 8, 9, 10, 1, 2, 3, 4, 5, 6, 7, 8, 9, 10, 5, 5, 1, 2, 3, 4, 5, 6, 7, 8, 9, 10, 1, 2, 3, 4, 5, 6, 7, 8, 9, 10, 1, 2, 3, 4, 5, 6, 7, 8, 9, 10, 1, 2, 3, 4, 5, 6, 7, 8, 9, 10, 1, 2, 3, 4, 5, 6, 7, 8, 9, 10, 4, 6, 4, 6, 6, 5, 2, 6, 9, 1, 2, 3, 4, 6, 7, 8, 10, 1, 2, 3, 4, 5, 6, 7, 8, 9, 10, 2, 9, 1, 2, 3, 4, 5, 6, 7, 8, 9, 10, 6, 7, 10, 1, 2, 3, 4, 5, 6, 7, 8, 9, 10, 1, 10, 2, 1, 2, 3, 4, 5, 6, 7, 8, 9, 10, 1, 1, 4, 1, 2, 3, 4, 5, 6, 7, 8, 9, 10, 6, 1, 2, 3, 4, 5, 6, 7, 8, 9, 10, 1, 2, 3, 4, 5, 6, 7, 8, 9, 10, 1, 2, 3, 4, 5, 6, 7, 8, 9, 10, 1, 2, 3, 4, 5, 6, 7, 8, 9, 10, 3, 5, 6, 8, 1, 3, 8, 1, 2, 3, 4, 5, 6, 7, 8, 9, 10, 6, 1, 2, 3, 4, 5, 6, 7, 8, 9, 10, 1, 2, 3, 4, 5, 6, 7, 8, 9, 10, 7, 1, 2, 3, 4, 5, 6, 7, 8, 9, 10, 7, 1, 2, 3, 4, 5, 6, 7, 8, 9, 10, 10, 1, 2, 3, 4, 5, 6, 7, 8, 9, 10, 3, 6, 1, 2, 3, 4, 5, 6, 7, 8, 9, 10, 3, 4, 2, 4, 7, 8, 1, 2, 3, 4, 5, 6, 7, 8, 9, 10, 5, 3, 4, 7, 4, 7, 1, 2, 3, 4, 5, 6, 7, 8, 9, 10, 1, 2, 3, 4, 5, 6, 7, 8, 9, 10, 1, 2, 3, 4, 5, 6, 7, 8, 9, 10, 7, 8, 8, 3, 10, 1, 2, 3, 4, 5, 6, 7, 8, 9, 10, 7, 1, 2, 3, 4, 5, 6, 7, 8, 9, 10, 1, 2, 3, 4, 5, 6, 7, 8, 9, 10, 1, 2, 3, 4, 5, 6, 7, 8, 9, 10, 1, 2, 3, 4, 5, 6, 7, 8, 9, 10, 3, 2, 7, 8, 2, 2, 3, 10, 1, 2, 3, 4, 5, 6, 7, 8, 9, 10, 1, 2, 3, 4, 5, 6, 7, 8, 9, 10, 1, 2, 3, 4, 5, 6, 7, 8, 9, 10, 6, 7, 1, 10, 1, 2, 3, 4, 5, 6, 7, 8, 9, 10, 1, 6, 1, 2, 3, 4, 5, 6, 7, 8, 9, 10, 10, 1, 2, 3, 4, 5, 6, 7, 8, 9, 10, 3, 5, 1, 7, 5, 6, 1, 2, 3, 4, 5, 6, 7, 8, 9, 10, 5, 1, 2, 3, 4, 5, 6, 7, 8, 9, 10, 4, 7, 8, 10, 6, 1, 2, 3, 4, 5, 6, 7, 8, 9, 10, 3, 4, 7, 1, 4, 1, 10, 8, 9, 1, 2, 3, 4, 5, 6, 7, 8, 9, 10, 1, 2, 3, 4, 5, 6, 7, 8, 9, 10, 2, 1, 2, 3, 4, 5, 6, 7, 8, 9, 10, 8, 2, 4, 4, 7, 1, 2, 3, 4, 5, 6, 7, 8, 9, 10, 8, 3, 6, 6, 8, 5, 9, 9, 1, 2, 3, 4, 5, 6, 7, 8, 9, 10, 1, 2, 3, 4, 5, 6, 7, 8, 9, 10, 1, 2, 3, 4, 5, 6, 7, 8, 9, 10, 1, 3, 5, 10, 10, 1, 2, 3, 4, 5, 6, 7, 8, 9, 10, 1, 2, 3, 4, 5, 6, 7, 8, 9, 10, 1, 2, 3, 4, 5, 6, 7, 8, 9, 10, 1, 2, 3, 4, 5, 6, 7, 8, 9, 10, 2, 1, 2, 3, 5, 3, 5, 1, 2, 3, 4, 5, 6, 7, 8, 9, 10, 1, 7, 1, 2, 3, 4, 5, 6, 7, 8, 9, 10, 6, 1, 2, 3, 4, 5, 6, 7, 8, 9, 10, 1, 2, 3, 4, 5, 6, 7, 8, 9, 10, 1, 2, 3, 4, 5, 6, 7, 8, 9, 10, 1, 2, 3, 4, 5, 6, 7, 8, 9, 10, 8, 8, 10, 6, 1, 2, 3, 4, 5, 6, 7, 8, 9, 10, 1, 2, 3, 4, 5, 6, 7, 8, 9, 10, 1, 2, 3, 4, 5, 6, 7, 8, 9, 10, 4, 9, 3, 1, 2, 3, 4, 5, 6, 7, 8, 9, 10, 1, 2, 3, 4, 5, 6, 7, 8, 9, 10, 1, 2, 3, 4, 5, 6, 7, 8, 9, 10, 1, 10, 1, 2, 3, 4, 5, 6, 7, 8, 9, 10, 1, 2, 3, 4, 5, 6, 7, 8, 9, 10, 1, 4, 5, 7, 1, 2, 3, 5, 6, 7, 8, 9, 10, 1, 2, 3, 4, 5, 6, 7, 8, 9, 10, 1, 2, 3, 4, 5, 6, 7, 8, 9, 10, 10, 1, 2, 3, 4, 5, 6, 7, 8, 9, 10, 1, 2, 3, 4, 5, 6, 7, 8, 9, 10, 1, 2, 3, 4, 5, 6, 7, 8, 9, 10, 1, 2, 3, 4, 5, 6, 7, 8, 9, 10, 6, 1, 2, 3, 4, 5, 6, 7, 8, 9, 10, 2, 1, 2, 3, 4, 5, 6, 7, 8, 9, 10, 1, 2, 3, 4, 5, 6, 7, 8, 9, 10, 2, 1, 2, 3, 4, 5, 6, 7, 8, 9, 10, 4, 7, 1, 2, 3, 4, 5, 6, 7, 8, 9, 10, 1, 2, 3, 4, 5, 6, 7, 8, 9, 10, 1, 2, 3, 4, 5, 6, 7, 8, 9, 10, 3, 1, 2, 3, 4, 5, 6, 7, 8, 9, 10, 5, 1, 2, 3, 4, 5, 6, 7, 8, 9, 10, 1, 2, 3, 4, 5, 6, 7, 8, 9, 10, 1, 2, 3, 4, 5, 6, 7, 8, 9, 10, 1, 3, 1, 9, 3, 4, 1, 2, 3, 4, 5, 6, 7, 8, 9, 10, 1, 2, 3, 4, 5, 6, 7, 8, 9, 10, 4, 1, 2, 3, 4, 5, 6, 7, 8, 9, 10, 1, 2, 3, 4, 5, 6, 7, 8, 9, 10, 1, 2, 3, 4, 5, 6, 7, 8, 9, 10, 1, 2, 3, 4, 5, 6, 7, 8, 9, 10, 2, 5, 6, 8, 9, 10, 3, 4, 1, 2, 3, 4, 5, 6, 7, 8, 9, 10, 1, 2, 3, 4, 5, 6, 7, 8, 9, 10, 1, 2, 3, 4, 5, 6, 7, 8, 9, 10, 4, 7, 8, 1, 2, 3, 4, 5, 6, 7, 8, 9, 10, 1, 2, 3, 4, 5, 6, 7, 8, 9, 10, 1, 2, 3, 5, 6, 7, 8, 9, 10, 1, 3, 9, 6], \"Freq\": [0.12209229916334152, 0.10519251972436905, 0.140716552734375, 0.08208465576171875, 0.11933314800262451, 0.08173976093530655, 0.09691507369279861, 0.08380912244319916, 0.09036209434270859, 0.07794593274593353, 0.10843045264482498, 0.09638262540102005, 0.09819627553224564, 0.09651216864585876, 0.1203487291932106, 0.09871445596218109, 0.10039856284856796, 0.07850520312786102, 0.10065765678882599, 0.10195311903953552, 0.15119348466396332, 0.12888625264167786, 0.09170752018690109, 0.08675035834312439, 0.12392908334732056, 0.08179319649934769, 0.06444312632083893, 0.10905759781599045, 0.10905759781599045, 0.054528798907995224, 0.28321194648742676, 0.28321194648742676, 0.28321194648742676, 0.20279711484909058, 0.20279711484909058, 0.3382749557495117, 0.3419131636619568, 0.3419131636619568, 0.12602996826171875, 0.10301580280065536, 0.11616675555706024, 0.08986485004425049, 0.07671389728784561, 0.1095912754535675, 0.09753623604774475, 0.10191988945007324, 0.099728062748909, 0.08000162988901138, 0.3428378105163574, 0.3434431254863739, 0.3434431254863739, 0.3413093090057373, 0.341063916683197, 0.1520501673221588, 0.09588748961687088, 0.11506499350070953, 0.1054762452840805, 0.08218927681446075, 0.09451767057180405, 0.09040820598602295, 0.07397035509347916, 0.07807981222867966, 0.1136951670050621, 0.34315726161003113, 0.34315726161003113, 0.34315726161003113, 0.0962287187576294, 0.0898134708404541, 0.12990877032279968, 0.08500203490257263, 0.0898134708404541, 0.09462490677833557, 0.13472020626068115, 0.09141728281974792, 0.10264396667480469, 0.08820965886116028, 0.12032466381788254, 0.09625972807407379, 0.19251945614814758, 0.07219479978084564, 0.08422726392745972, 0.07821103185415268, 0.09024349600076675, 0.09625972807407379, 0.09625972807407379, 0.07219479978084564, 0.3431931734085083, 0.10885623097419739, 0.0716858059167862, 0.12213137745857239, 0.10354616492986679, 0.11682131886482239, 0.050445567816495895, 0.09823610633611679, 0.11947634816169739, 0.1354065239429474, 0.07699587196111679, 0.13458554446697235, 0.13458554446697235, 0.13458554446697235, 0.13458554446697235, 0.13458554446697235, 0.2691710889339447, 0.3418706953525543, 0.3418706953525543, 0.08780661970376968, 0.08780661970376968, 0.08780661970376968, 0.08780661970376968, 0.17561323940753937, 0.08780661970376968, 0.08780661970376968, 0.08780661970376968, 0.08780661970376968, 0.08780661970376968, 0.13459433615207672, 0.0760062113404274, 0.09975814819335938, 0.08550698310136795, 0.09184084087610245, 0.09025737643241882, 0.12192662805318832, 0.1266770213842392, 0.09184084087610245, 0.0823400616645813, 0.3417719900608063, 0.34038272500038147, 0.34038272500038147, 0.08010129630565643, 0.13350215554237366, 0.15534795820713043, 0.08981054276227951, 0.07039204984903336, 0.10680172592401505, 0.08981054276227951, 0.09951978921890259, 0.08495591580867767, 0.08981054276227951, 0.11498279869556427, 0.08998654037714005, 0.10498429089784622, 0.11498279869556427, 0.119982048869133, 0.08998654037714005, 0.08998654037714005, 0.06499027460813522, 0.08498728275299072, 0.12998054921627045, 0.3411775827407837, 0.08363085240125656, 0.12338978797197342, 0.10967981070280075, 0.08363085240125656, 0.09459883719682693, 0.10556681454181671, 0.09596983343362808, 0.09459883719682693, 0.1137927994132042, 0.09596983343362808, 0.10044260323047638, 0.1339234709739685, 0.09207239001989365, 0.11718303710222244, 0.10881282389163971, 0.06696173548698425, 0.06696173548698425, 0.07533195614814758, 0.10044260323047638, 0.14229369163513184, 0.11953087151050568, 0.07662235200405121, 0.09501171857118607, 0.09501171857118607, 0.15324470400810242, 0.09807661175727844, 0.07355745881795883, 0.08888193219900131, 0.11033619195222855, 0.09194682538509369, 0.20199967920780182, 0.20199967920780182, 0.20199967920780182, 0.12676113843917847, 0.09507085382938385, 0.06866228580474854, 0.08450742810964584, 0.11619771271944046, 0.14524713158607483, 0.0977117121219635, 0.06866228580474854, 0.10563427954912186, 0.0924299955368042, 0.10045666247606277, 0.13333339989185333, 0.1515982449054718, 0.12237448245286942, 0.09132423996925354, 0.09315072745084763, 0.08767127245664597, 0.07305939495563507, 0.07488587498664856, 0.07123290747404099, 0.3419252336025238, 0.23923206329345703, 0.10441151261329651, 0.10114865005016327, 0.06525719165802002, 0.12072581052780151, 0.096254363656044, 0.12562009692192078, 0.10930579900741577, 0.09299150109291077, 0.096254363656044, 0.09136006981134415, 0.3401312530040741, 0.11621873825788498, 0.12348240613937378, 0.16706442832946777, 0.09442772716283798, 0.08716405183076859, 0.08716405183076859, 0.07990038394927979, 0.09442772716283798, 0.06537304073572159, 0.07990038394927979, 0.2798141539096832, 0.34274011850357056, 0.34274011850357056, 0.34274011850357056, 0.18322373926639557, 0.18322373926639557, 0.18322373926639557, 0.18322373926639557, 0.10298845916986465, 0.08296292275190353, 0.08296292275190353, 0.1058492437005043, 0.1058492437005043, 0.10298845916986465, 0.08296292275190353, 0.08582371473312378, 0.09726687520742416, 0.1487611085176468, 0.12193991243839264, 0.08739027380943298, 0.0765511691570282, 0.10161659866571426, 0.0792609453201294, 0.1517474502325058, 0.09890682250261307, 0.11042336374521255, 0.10500381886959076, 0.06571206450462341, 0.11593809723854065, 0.10495448857545853, 0.11959930509328842, 0.08420766890048981, 0.06712205708026886, 0.08298727124929428, 0.08542807400226593, 0.09763208031654358, 0.12936250865459442, 0.113497294485569, 0.10312125831842422, 0.08838964998722076, 0.09023110568523407, 0.09391400963068008, 0.10864561796188354, 0.11048706620931625, 0.13258448243141174, 0.09575545787811279, 0.07549949735403061, 0.09943836182355881, 0.34312424063682556, 0.34312424063682556, 0.1006852239370346, 0.09369318932294846, 0.1454342156648636, 0.09509159624576569, 0.09928681701421738, 0.09928681701421738, 0.07970913499593735, 0.10767725110054016, 0.09089638292789459, 0.08809956908226013, 0.1322830617427826, 0.1322830617427826, 0.1322830617427826, 0.1322830617427826, 0.1322830617427826, 0.1322830617427826, 0.1322830617427826, 0.1322830617427826, 0.12725915014743805, 0.12725915014743805, 0.06362957507371902, 0.06362957507371902, 0.06362957507371902, 0.19088871777057648, 0.06362957507371902, 0.06362957507371902, 0.12725915014743805, 0.06362957507371902, 0.21358714997768402, 0.10215719044208527, 0.05107859522104263, 0.05107859522104263, 0.10215719044208527, 0.20431438088417053, 0.10215719044208527, 0.1532357782125473, 0.05107859522104263, 0.10215719044208527, 0.10215719044208527, 0.3443537652492523, 0.3443537652492523, 0.3443537652492523, 0.3395375907421112, 0.3395375907421112, 0.3371320366859436, 0.3371320366859436, 0.14653778076171875, 0.14653778076171875, 0.14653778076171875, 0.14653778076171875, 0.14653778076171875, 0.14653778076171875, 0.14653778076171875, 0.14653778076171875, 0.2385338544845581, 0.2385338544845581, 0.24085013568401337, 0.34121233224868774, 0.33949601650238037, 0.33949601650238037, 0.3396317660808563, 0.11378078907728195, 0.11919891834259033, 0.07043572515249252, 0.0758538618683815, 0.12100496143102646, 0.08307803422212601, 0.10475056618452072, 0.09752638638019562, 0.08669012039899826, 0.12822914123535156, 0.09918247163295746, 0.12172393500804901, 0.10519352555274963, 0.08415482193231583, 0.1006852313876152, 0.08340343832969666, 0.08415482193231583, 0.12848637998104095, 0.09091725945472717, 0.10218799859285355, 0.14322331547737122, 0.085653156042099, 0.09969466179609299, 0.12216106057167053, 0.12216106057167053, 0.10109880566596985, 0.0786324068903923, 0.08144070953130722, 0.07301580905914307, 0.09548220783472061, 0.11940664798021317, 0.11039482057094574, 0.11715368926525116, 0.10138300061225891, 0.05181797966361046, 0.07885344326496124, 0.13968324661254883, 0.10363595932722092, 0.10363595932722092, 0.07660049200057983, 0.10275453329086304, 0.09319597482681274, 0.10992345213890076, 0.08602704852819443, 0.07407885044813156, 0.09797525405883789, 0.12665092945098877, 0.10992345213890076, 0.08124776929616928, 0.11709237843751907, 0.3387265205383301, 0.3387265205383301, 0.3427129089832306, 0.3427129089832306, 0.08529383689165115, 0.1705876737833023, 0.08529383689165115, 0.08529383689165115, 0.08529383689165115, 0.08529383689165115, 0.08529383689165115, 0.08529383689165115, 0.08529383689165115, 0.08529383689165115, 0.33975309133529663, 0.3391239643096924, 0.11104580760002136, 0.08328435570001602, 0.08114886283874512, 0.0640648901462555, 0.09182634204626083, 0.09396184235811234, 0.12599427998065948, 0.1366717666387558, 0.08755534887313843, 0.1302652806043625, 0.11577656865119934, 0.14086149632930756, 0.06560672074556351, 0.1717352420091629, 0.06946594268083572, 0.09455087035894394, 0.09455087035894394, 0.1080581322312355, 0.06753633171319962, 0.06946594268083572, 0.11105671525001526, 0.12541750073432922, 0.08999423682689667, 0.0919090062379837, 0.09382377564907074, 0.08712207525968552, 0.12158795446157455, 0.09861070662736893, 0.10531239956617355, 0.0756334513425827, 0.3418932259082794, 0.08211268484592438, 0.18768614530563354, 0.11730384081602097, 0.08211268484592438, 0.10557345300912857, 0.07038230448961258, 0.08211268484592438, 0.09384307265281677, 0.10557345300912857, 0.08211268484592438, 0.2805633246898651, 0.11410067975521088, 0.07917190343141556, 0.09780058264732361, 0.09081482887268066, 0.09081482887268066, 0.12574361264705658, 0.08382907509803772, 0.09547200053930283, 0.12807220220565796, 0.09547200053930283, 0.3387790322303772, 0.3387790322303772, 0.09322526305913925, 0.09322526305913925, 0.09322526305913925, 0.09322526305913925, 0.09322526305913925, 0.09322526305913925, 0.1864505261182785, 0.09322526305913925, 0.09322526305913925, 0.09322526305913925, 0.07960078120231628, 0.09130678325891495, 0.12876597046852112, 0.08896557986736298, 0.10769517719745636, 0.10535398125648499, 0.13344837725162506, 0.10301277786493301, 0.08428318053483963, 0.07725958526134491, 0.3374609351158142, 0.3374609351158142, 0.11895677447319031, 0.10036977380514145, 0.13010896742343903, 0.1486959606409073, 0.08178278058767319, 0.10408717393875122, 0.08550018072128296, 0.06319578737020493, 0.07806538045406342, 0.0929349809885025, 0.23912256956100464, 0.09798582643270493, 0.1072443276643753, 0.09567119926214218, 0.07946881651878357, 0.12576133012771606, 0.10184353590011597, 0.09952890872955322, 0.10184353590011597, 0.11110203713178635, 0.08024036139249802, 0.10811854898929596, 0.10242809355258942, 0.10053128004074097, 0.11191217601299286, 0.1327771693468094, 0.09673764556646347, 0.07018221169710159, 0.10242809355258942, 0.07207903265953064, 0.10432491451501846, 0.17853917181491852, 0.17853917181491852, 0.35707834362983704, 0.17853917181491852, 0.09614384174346924, 0.09614384174346924, 0.09614384174346924, 0.1281917840242386, 0.09614384174346924, 0.0640958920121193, 0.09614384174346924, 0.09614384174346924, 0.09614384174346924, 0.16023972630500793, 0.3413778841495514, 0.3410632908344269, 0.3394192159175873, 0.3404584228992462, 0.33934298157691956, 0.10645061731338501, 0.1380980908870697, 0.14385218918323517, 0.11795879155397415, 0.1021350547671318, 0.06329496204853058, 0.11220470070838928, 0.06617200374603271, 0.08055722713470459, 0.07048757374286652, 0.34247106313705444, 0.3409208357334137, 0.34328702092170715, 0.13163013756275177, 0.13163013756275177, 0.13163013756275177, 0.13163013756275177, 0.13163013756275177, 0.26326027512550354, 0.13163013756275177, 0.13163013756275177, 0.10320145636796951, 0.09572309255599976, 0.15255866944789886, 0.09123606979846954, 0.06580962240695953, 0.08226203173398972, 0.10320145636796951, 0.09721876680850983, 0.12414088100194931, 0.08674904704093933, 0.07751347124576569, 0.0704667940735817, 0.07751347124576569, 0.1338869035243988, 0.09160683304071426, 0.09160683304071426, 0.15502694249153137, 0.08456015586853027, 0.1268402338027954, 0.09865351021289825, 0.11994770914316177, 0.08765409141778946, 0.09688083827495575, 0.07842734456062317, 0.08765409141778946, 0.14762794971466064, 0.1014942154288292, 0.11533433198928833, 0.09688083827495575, 0.06920059770345688, 0.28095880150794983, 0.13104234635829926, 0.12043776363134384, 0.11134811490774155, 0.106803297996521, 0.08104930818080902, 0.11740788072347641, 0.0977136567234993, 0.09468377381563187, 0.08256424963474274, 0.05681026354432106, 0.1387658417224884, 0.1201256513595581, 0.09112980961799622, 0.14290811121463776, 0.08905867487192154, 0.07041848450899124, 0.10355659574270248, 0.08491641283035278, 0.0932009369134903, 0.06834735721349716, 0.14248651266098022, 0.09974055737257004, 0.0683935284614563, 0.07694271951913834, 0.07979244738817215, 0.12253840267658234, 0.07979244738817215, 0.10828974843025208, 0.1367870569229126, 0.08549191057682037, 0.34243863821029663, 0.09487321227788925, 0.09487321227788925, 0.09487321227788925, 0.09487321227788925, 0.09487321227788925, 0.09487321227788925, 0.09487321227788925, 0.1897464245557785, 0.09487321227788925, 0.09487321227788925, 0.1033741757273674, 0.09303675591945648, 0.07236192375421524, 0.08786804974079132, 0.1033741757273674, 0.12404900789260864, 0.06719321012496948, 0.16022996604442596, 0.10854288190603256, 0.0775306299328804, 0.10118390619754791, 0.11804788559675217, 0.11071572452783585, 0.1092492863535881, 0.07845418900251389, 0.08945243805646896, 0.1092492863535881, 0.09311851859092712, 0.09971746802330017, 0.09091886878013611, 0.24017903208732605, 0.24017903208732605, 0.3402210474014282, 0.07882197946310043, 0.07882197946310043, 0.09852747619152069, 0.09852747619152069, 0.09852747619152069, 0.17734946310520172, 0.09852747619152069, 0.11823297291994095, 0.09852747619152069, 0.07882197946310043, 0.07093679159879684, 0.21281036734580994, 0.1418735831975937, 0.07093679159879684, 0.03546839579939842, 0.10640518367290497, 0.10640518367290497, 0.07093679159879684, 0.10640518367290497, 0.07093679159879684, 0.09853383153676987, 0.13372448086738586, 0.14076261222362518, 0.08914965391159058, 0.08914965391159058, 0.09384174644947052, 0.09149570018053055, 0.0961877852678299, 0.07272735238075256, 0.0961877852678299, 0.337952584028244, 0.1490711271762848, 0.0757574513554573, 0.1050829216837883, 0.11791281402111053, 0.0757574513554573, 0.08736544847488403, 0.11730186641216278, 0.07759029418230057, 0.10263913124799728, 0.09225302934646606, 0.3389825224876404, 0.15816204249858856, 0.07908102124929428, 0.10001423209905624, 0.08838467299938202, 0.1349029242992401, 0.08605875819921494, 0.08605875819921494, 0.07210328429937363, 0.10234014689922333, 0.0907105803489685, 0.09330976754426956, 0.1166372150182724, 0.06998232752084732, 0.09330976754426956, 0.09330976754426956, 0.09330976754426956, 0.1166372150182724, 0.16329209506511688, 0.06998232752084732, 0.06998232752084732, 0.34211042523384094, 0.15408697724342346, 0.1113697960972786, 0.14951014518737793, 0.08543436229228973, 0.0793319121003151, 0.07780629396438599, 0.06255015730857849, 0.12204909324645996, 0.07628068327903748, 0.0793319121003151, 0.3398756980895996, 0.340053528547287, 0.34189191460609436, 0.1161985993385315, 0.07262412458658218, 0.08424398303031921, 0.07262412458658218, 0.13072343170642853, 0.11038867384195328, 0.09295888245105743, 0.10167377442121506, 0.13362839818000793, 0.08424398303031921, 0.09398522973060608, 0.1509459763765335, 0.10537738353013992, 0.09683327376842499, 0.07974504679441452, 0.08259308338165283, 0.07689701020717621, 0.13385775685310364, 0.06835290044546127, 0.11392149329185486, 0.34129923582077026, 0.34129923582077026, 0.3427770733833313, 0.3427770733833313, 0.12062402069568634, 0.09177914261817932, 0.11013497412204742, 0.08391235768795013, 0.05506748706102371, 0.1520911604166031, 0.08653461933135986, 0.11275723576545715, 0.10489045083522797, 0.081290103495121, 0.24244681000709534, 0.08081560581922531, 0.08081560581922531, 0.08081560581922531, 0.08081560581922531, 0.12122340500354767, 0.08081560581922531, 0.08081560581922531, 0.12122340500354767, 0.08081560581922531, 0.11902487277984619, 0.09286555647850037, 0.11640894412994385, 0.11640894412994385, 0.10332928597927094, 0.07063014060258865, 0.09024962782859802, 0.09940538555383682, 0.10202132165431976, 0.08894166350364685, 0.3401449918746948, 0.10175377875566483, 0.1288881152868271, 0.11532095074653625, 0.08479481190443039, 0.10514557361602783, 0.0915784016251564, 0.07461943477392197, 0.07461943477392197, 0.1390634924173355, 0.08140302449464798, 0.07726312428712845, 0.12018708139657974, 0.17169582843780518, 0.09157110750675201, 0.10015589743852615, 0.0887095108628273, 0.0658167377114296, 0.11446388810873032, 0.07726312428712845, 0.09157110750675201, 0.09809840470552444, 0.09537344425916672, 0.09809840470552444, 0.08719857782125473, 0.10082335770130157, 0.09537344425916672, 0.09537344425916672, 0.09537344425916672, 0.1416976898908615, 0.09537344425916672, 0.14694176614284515, 0.14694176614284515, 0.14694176614284515, 0.14694176614284515, 0.14694176614284515, 0.14694176614284515, 0.14694176614284515, 0.14694176614284515, 0.1394055336713791, 0.15720199048519135, 0.08008402585983276, 0.06821972876787186, 0.08305010199546814, 0.12160908430814743, 0.08008402585983276, 0.07118580490350723, 0.1008465588092804, 0.09491440653800964, 0.4661358594894409, 0.13383960723876953, 0.09498294442892075, 0.100739486515522, 0.11369170993566513, 0.09786121547222137, 0.11944825202226639, 0.08346986025571823, 0.10217862576246262, 0.07627418637275696, 0.07771331816911697, 0.3438921570777893, 0.3438921570777893, 0.18495211005210876, 0.11097127199172974, 0.0863109901547432, 0.0863109901547432, 0.11097127199172974, 0.0863109901547432, 0.07398084551095963, 0.07398084551095963, 0.061650704592466354, 0.11097127199172974, 0.34205251932144165, 0.08934422582387924, 0.08934422582387924, 0.08934422582387924, 0.08934422582387924, 0.17868845164775848, 0.08934422582387924, 0.08934422582387924, 0.08934422582387924, 0.08934422582387924, 0.08934422582387924, 0.12762068212032318, 0.1297578662633896, 0.08945660293102264, 0.1221250519156456, 0.09922660142183304, 0.10747004300355911, 0.08090784400701523, 0.07266440242528915, 0.10227973014116287, 0.06869534403085709, 0.12817515432834625, 0.1414920687675476, 0.12484593689441681, 0.10154136270284653, 0.054932210594415665, 0.0915536880493164, 0.08323062211275101, 0.08822446316480637, 0.09654752165079117, 0.08988907188177109, 0.08826112002134323, 0.14821207523345947, 0.07493868470191956, 0.09492233395576477, 0.07660399377346039, 0.1015835553407669, 0.10824476927518845, 0.10324885696172714, 0.11324068158864975, 0.08992642164230347, 0.16539616882801056, 0.09551046043634415, 0.1094876080751419, 0.10482855886220932, 0.09085141867399216, 0.06289713084697723, 0.1118171289563179, 0.08386284857988358, 0.08386284857988358, 0.09085141867399216, 0.09297943860292435, 0.1458815336227417, 0.1058041900396347, 0.07374231517314911, 0.09458253532648087, 0.10259800404310226, 0.11221656203269958, 0.05931447073817253, 0.1138196587562561, 0.0977887213230133, 0.34359878301620483, 0.3430492579936981, 0.0924500897526741, 0.09853233397006989, 0.08880074322223663, 0.13015998899936676, 0.10583102703094482, 0.11799550801515579, 0.08758429437875748, 0.05717308074235916, 0.12407775223255157, 0.09731588512659073, 0.08373928815126419, 0.133982852101326, 0.15742985904216766, 0.10383671522140503, 0.08373928815126419, 0.07704014331102371, 0.08373928815126419, 0.09713757038116455, 0.09378799796104431, 0.08708886057138443, 0.20278672873973846, 0.20278672873973846, 0.20278672873973846, 0.20278672873973846, 0.09194771200418472, 0.14481765031814575, 0.10803856700658798, 0.0804542526602745, 0.0896490216255188, 0.09884379059076309, 0.10803856700658798, 0.09424640983343124, 0.0896490216255188, 0.09194771200418472, 0.34019598364830017, 0.34019598364830017, 0.1150735542178154, 0.10604817420244217, 0.12184258550405502, 0.09251011162996292, 0.08122839033603668, 0.07897204905748367, 0.12861162424087524, 0.09251011162996292, 0.10153549164533615, 0.07897204905748367, 0.08410757780075073, 0.10587660223245621, 0.10191859304904938, 0.08608657866716385, 0.09895009547472, 0.1672256588935852, 0.0801495760679245, 0.10488709807395935, 0.07025456428527832, 0.09993959218263626, 0.3413739800453186, 0.3413739800453186, 0.13446450233459473, 0.1287577897310257, 0.09986753761768341, 0.07561399042606354, 0.10093754529953003, 0.09095079451799393, 0.10093754529953003, 0.107000932097435, 0.08310405910015106, 0.07811067998409271, 0.3385964334011078, 0.3385964334011078, 0.33933767676353455, 0.33933767676353455, 0.12370830029249191, 0.09870343655347824, 0.08817506581544876, 0.11054784804582596, 0.08554297685623169, 0.13686875998973846, 0.09080715477466583, 0.10659971088171005, 0.06053810566663742, 0.09607134014368057, 0.10068712383508682, 0.1331668347120285, 0.06441810727119446, 0.10285243391990662, 0.11963362246751785, 0.10393509268760681, 0.11043103784322739, 0.09202586114406586, 0.0795753076672554, 0.09364984929561615, 0.28070294857025146, 0.14643383026123047, 0.14643383026123047, 0.29286766052246094, 0.14643383026123047, 0.14643383026123047, 0.09761395305395126, 0.1320848912000656, 0.11952071636915207, 0.09407021105289459, 0.09181510657072067, 0.12789683043956757, 0.08215035498142242, 0.10663438588380814, 0.09471452981233597, 0.052833955734968185, 0.08706557750701904, 0.11455997079610825, 0.10539516806602478, 0.11914236843585968, 0.15121915936470032, 0.07790077477693558, 0.07790077477693558, 0.10539516806602478, 0.06873597949743271, 0.10081277042627335, 0.23851728439331055, 0.23851728439331055, 0.34055060148239136, 0.6551863551139832, 0.3422485888004303, 0.3422485888004303, 0.3448132574558258, 0.3448132574558258, 0.09382038563489914, 0.10077004134654999, 0.1320435106754303, 0.118144191801548, 0.059072095900774, 0.10771970450878143, 0.08687072992324829, 0.07644624263048172, 0.09382038563489914, 0.12509384751319885, 0.20856454968452454, 0.4171290993690491, 0.090182825922966, 0.13439008593559265, 0.08841453492641449, 0.09548769891262054, 0.07780478894710541, 0.12378034740686417, 0.1414632499217987, 0.09548769891262054, 0.0636584609746933, 0.090182825922966, 0.11217913031578064, 0.0826583057641983, 0.10627496987581253, 0.10037080198526382, 0.0767541453242302, 0.10627496987581253, 0.11217913031578064, 0.08856247365474701, 0.0767541453242302, 0.13579578697681427, 0.3424231708049774, 0.3410904109477997, 0.2791540324687958, 0.2791540324687958, 0.12771625816822052, 0.0815964937210083, 0.09578718990087509, 0.13658544421195984, 0.09578718990087509, 0.10110870003700256, 0.09401335567235947, 0.09933486580848694, 0.088691845536232, 0.07627498358488083, 0.3402480185031891, 0.3402480185031891, 0.1319507360458374, 0.11165062338113785, 0.0954105332493782, 0.14210079610347748, 0.08932049572467804, 0.06293035298585892, 0.1096206083893776, 0.11165062338113785, 0.07105039805173874, 0.07511042058467865, 0.11515048891305923, 0.07402531057596207, 0.08225034922361374, 0.09870041906833649, 0.1110379695892334, 0.09664415568113327, 0.11309422552585602, 0.12543177604675293, 0.08430660516023636, 0.09870041906833649, 0.10964885354042053, 0.10964885354042053, 0.09137404710054398, 0.11574045568704605, 0.10964885354042053, 0.09137404710054398, 0.0974656492471695, 0.07309923321008682, 0.0670076310634613, 0.1340152621269226, 0.11830707639455795, 0.10238112509250641, 0.1387833058834076, 0.05687840282917023, 0.10010598599910736, 0.09328057616949081, 0.07962976396083832, 0.11830707639455795, 0.09555571526288986, 0.10010598599910736, 0.10930372774600983, 0.10618076473474503, 0.09681187570095062, 0.09368891268968582, 0.08432002365589142, 0.08119706064462662, 0.12491855025291443, 0.07807409018278122, 0.09681187570095062, 0.13116447627544403, 0.341573566198349, 0.10240908712148666, 0.11291258037090302, 0.14967481791973114, 0.11028670519590378, 0.07877621799707413, 0.06827272474765778, 0.060395099222660065, 0.12341607362031937, 0.08927971124649048, 0.1050349548459053, 0.1151696965098381, 0.14919710159301758, 0.07852479070425034, 0.10469972342252731, 0.1230221688747406, 0.09422975033521652, 0.08637727051973343, 0.08375977724790573, 0.09684724360704422, 0.07067231088876724, 0.20066410303115845, 0.20066410303115845, 0.20066410303115845, 0.11753296852111816, 0.09198231995105743, 0.11497790366411209, 0.13030828535556793, 0.07154180854558945, 0.07920700311660767, 0.12008803337812424, 0.1047576442360878, 0.10220257937908173, 0.06898674368858337, 0.3411954641342163, 0.3415611684322357, 0.34224364161491394, 0.13477914035320282, 0.13477914035320282, 0.13477914035320282, 0.13477914035320282, 0.13477914035320282, 0.13477914035320282, 0.26955828070640564, 0.33887216448783875, 0.33948999643325806, 0.3376501202583313, 0.3376501202583313, 0.16073286533355713, 0.16073286533355713, 0.16073286533355713, 0.16073286533355713, 0.16073286533355713, 0.08539775013923645, 0.10767542570829391, 0.11881425976753235, 0.1002495288848877, 0.08168480545282364, 0.14851781725883484, 0.08168480545282364, 0.08168480545282364, 0.07797186076641083, 0.11138837039470673, 0.14261823892593384, 0.09954561293125153, 0.09858844429254532, 0.08710241317749023, 0.1100744754076004, 0.08423090726137161, 0.09858844429254532, 0.09093108773231506, 0.08423090726137161, 0.10433146357536316, 0.33948153257369995, 0.33948153257369995, 0.34158235788345337, 0.34158235788345337, 0.339423805475235, 0.34139955043792725, 0.23932868242263794, 0.23932868242263794, 0.23932868242263794, 0.3438662886619568, 0.16717754304409027, 0.08738826215267181, 0.08738826215267181, 0.08738826215267181, 0.09118775278329849, 0.07978928089141846, 0.13298213481903076, 0.09878673404455185, 0.09498724341392517, 0.0721903070807457, 0.08307849615812302, 0.11410780996084213, 0.13312578201293945, 0.10810213536024094, 0.09709173440933228, 0.11410780996084213, 0.09809268265962601, 0.07306903600692749, 0.10209646075963974, 0.07707282155752182, 0.4647681713104248, 0.34217777848243713, 0.34217777848243713, 0.3413781523704529, 0.3413781523704529, 0.34115827083587646, 0.3429793417453766, 0.3429793417453766, 0.10922901332378387, 0.09175237268209457, 0.09141628444194794, 0.10687638819217682, 0.10015460103750229, 0.06856220960617065, 0.1196477860212326, 0.10250722616910934, 0.08200578391551971, 0.12805001437664032, 0.27948611974716187, 0.27948611974716187, 0.34532487392425537, 0.11169308423995972, 0.11091744154691696, 0.09618015587329865, 0.10160968452692032, 0.11402002722024918, 0.09385322034358978, 0.09618015587329865, 0.09307757019996643, 0.08919934183359146, 0.09307757019996643, 0.3412434160709381, 0.3412434160709381, 0.10390371829271317, 0.1540641337633133, 0.14510691165924072, 0.06270051747560501, 0.07703206688165665, 0.08957216888666153, 0.09673794358968735, 0.08419784158468246, 0.06628340482711792, 0.12002670764923096, 0.10484399646520615, 0.12031278014183044, 0.10484399646520615, 0.11000025272369385, 0.09453146904706955, 0.07562517374753952, 0.09625022113323212, 0.07562517374753952, 0.12375028431415558, 0.09281271696090698, 0.1087033599615097, 0.12811468541622162, 0.08152752369642258, 0.11064449697732925, 0.08929204940795898, 0.07570412755012512, 0.13587920367717743, 0.09899770468473434, 0.1009388342499733, 0.07182186841964722, 0.10923416912555695, 0.12553776800632477, 0.08477875590324402, 0.10760380327701569, 0.1027127206325531, 0.09293056279420853, 0.06521442532539368, 0.07499659061431885, 0.11901632696390152, 0.11901632696390152, 0.34208643436431885, 0.34239909052848816, 0.10289795696735382, 0.16837847232818604, 0.11225231736898422, 0.07483487576246262, 0.09354359656572342, 0.08418923616409302, 0.06548052281141281, 0.09354359656572342, 0.11225231736898422, 0.09354359656572342, 0.12079428136348724, 0.09883168339729309, 0.07373157888650894, 0.08628162741661072, 0.13177558779716492, 0.10981298238039017, 0.0956941694021225, 0.0956941694021225, 0.08314411342144012, 0.10196919739246368, 0.12927591800689697, 0.13626380264759064, 0.09643284231424332, 0.09992678463459015, 0.07616797089576721, 0.04961399734020233, 0.09014374017715454, 0.11949286609888077, 0.10831224918365479, 0.09433647245168686, 0.15191566944122314, 0.09816089272499084, 0.1075095534324646, 0.0958237275481224, 0.08180074393749237, 0.1191953718662262, 0.07712642103433609, 0.10283522307872772, 0.08180074393749237, 0.08413790911436081, 0.1147940382361412, 0.07339291274547577, 0.09973908215761185, 0.1053846925497055, 0.09785721451044083, 0.1147940382361412, 0.07903851568698883, 0.09785721451044083, 0.10162094980478287, 0.11291217058897018, 0.3414353132247925, 0.28164005279541016, 0.2824013829231262, 0.2824013829231262, 0.2814987897872925, 0.28117749094963074, 0.2815428674221039, 0.2815428674221039, 0.2815428674221039, 0.12307627499103546, 0.24615254998207092, 0.12307627499103546, 0.12307627499103546, 0.12307627499103546, 0.12307627499103546, 0.12307627499103546, 0.12307627499103546, 0.11225832998752594, 0.07250016927719116, 0.10524218529462814, 0.12395190447568893, 0.09822603315114975, 0.08887117356061935, 0.09588731825351715, 0.09354860335588455, 0.07483888417482376, 0.13564547896385193, 0.33934125304222107, 0.4663963317871094, 0.08887171745300293, 0.1262236088514328, 0.11463163793087006, 0.09531170129776001, 0.06697578728199005, 0.12107162177562714, 0.10561566799879074, 0.1326635777950287, 0.07212777435779572, 0.07470376789569855, 0.20946356654167175, 0.20946356654167175, 0.20946356654167175, 0.12327689677476883, 0.0967489555478096, 0.1295187622308731, 0.09050708264112473, 0.062418680638074875, 0.10923268646001816, 0.0889466181397438, 0.11703502386808395, 0.07802335172891617, 0.10143035650253296, 0.28176161646842957, 0.28176161646842957, 0.33939194679260254, 0.09755152463912964, 0.09058356285095215, 0.15329524874687195, 0.10451949387788773, 0.08361559361219406, 0.11497144401073456, 0.07664762437343597, 0.09755152463912964, 0.0940675437450409, 0.09058356285095215, 0.46099671721458435, 0.2813192903995514, 0.2813192903995514, 0.10548485070466995, 0.08066488802433014, 0.08686987310647964, 0.11789483577013016, 0.08066488802433014, 0.08066488802433014, 0.1799447387456894, 0.08066488802433014, 0.08686987310647964, 0.10548485070466995, 0.3411354124546051, 0.09673002362251282, 0.14235739409923553, 0.1022053062915802, 0.08942964673042297, 0.07482888549566269, 0.07847907394170761, 0.08577945828437805, 0.11863116174936295, 0.1113307848572731, 0.09855511784553528, 0.1234484389424324, 0.11426632106304169, 0.10304373502731323, 0.1010032668709755, 0.11528655886650085, 0.08978068083524704, 0.1010032668709755, 0.10202350467443466, 0.06121410056948662, 0.08978068083524704, 0.10274584591388702, 0.13187065720558167, 0.13834282755851746, 0.09465562552213669, 0.0760481059551239, 0.09870073199272156, 0.1003187820315361, 0.10112780332565308, 0.07766614854335785, 0.07766614854335785, 0.12047763168811798, 0.08155409246683121, 0.09082160145044327, 0.11862413585186005, 0.11306362599134445, 0.10935661941766739, 0.13530565798282623, 0.08155409246683121, 0.07599358260631561, 0.07043308019638062, 0.1613074243068695, 0.1613074243068695, 0.1613074243068695, 0.1613074243068695, 0.2016972154378891, 0.2016972154378891, 0.2016972154378891, 0.1354733109474182, 0.1035972386598587, 0.10890991240739822, 0.07703384011983871, 0.08500286191701889, 0.09031554311513901, 0.08500286191701889, 0.1354733109474182, 0.10094089806079865, 0.07969018071889877, 0.3419452905654907, 0.10230269283056259, 0.12035610526800156, 0.10531159490346909, 0.13540062308311462, 0.09327597916126251, 0.09327597916126251, 0.06920476257801056, 0.09327597916126251, 0.10230269283056259, 0.08124037086963654, 0.0672561302781105, 0.10368653386831284, 0.15599685907363892, 0.10181830823421478, 0.13544636964797974, 0.08220193535089493, 0.07286080718040466, 0.09995007514953613, 0.09247717261314392, 0.08874072134494781, 0.34144437313079834, 0.13077165186405182, 0.09406382590532303, 0.10859400779008865, 0.13153640925884247, 0.09941704571247101, 0.06653294712305069, 0.10629976540803909, 0.08871059864759445, 0.09406382590532303, 0.08029838651418686, 0.2819865942001343, 0.1550920456647873, 0.08616224676370621, 0.08616224676370621, 0.11718066036701202, 0.09305523335933685, 0.08616224676370621, 0.11028768122196198, 0.08960874378681183, 0.09650172293186188, 0.07237628847360611, 0.3437553942203522, 0.09351503103971481, 0.07874950021505356, 0.08859319239854813, 0.10828056186437607, 0.09351503103971481, 0.0984368771314621, 0.15749900043010712, 0.09351503103971481, 0.08367134630680084, 0.10828056186437607, 0.28121650218963623, 0.28121650218963623, 0.10342094302177429, 0.08981291949748993, 0.08709131926298141, 0.09525612741708755, 0.11430735886096954, 0.07348330318927765, 0.1061425432562828, 0.13880178332328796, 0.09797773510217667, 0.09525612741708755, 0.20793545246124268, 0.20793545246124268, 0.18329624831676483, 0.18329624831676483, 0.18329624831676483, 0.18329624831676483, 0.11121156811714172, 0.1065388098359108, 0.11868797242641449, 0.09999695420265198, 0.10934246331453323, 0.06541857123374939, 0.11401522159576416, 0.09158599376678467, 0.07943683117628098, 0.10373515635728836, 0.3420274257659912, 0.23925001919269562, 0.23925001919269562, 0.23925001919269562, 0.3413142263889313, 0.3413142263889313, 0.09950077533721924, 0.10730475187301636, 0.0838928073644638, 0.09169679135084152, 0.07803981751203537, 0.12291271984577179, 0.07999081909656525, 0.17363859713077545, 0.09559877961874008, 0.06828484684228897, 0.12597142159938812, 0.12714871764183044, 0.10419131070375443, 0.0915353074669838, 0.0856487900018692, 0.09418423473834991, 0.08623743802309036, 0.11861327290534973, 0.08064524829387665, 0.08535446226596832, 0.09013760834932327, 0.09013760834932327, 0.119570292532444, 0.09381669014692307, 0.13612617552280426, 0.09565623849630356, 0.08645851910114288, 0.10853303968906403, 0.08645851910114288, 0.09381669014692307, 0.3412022888660431, 0.3412022888660431, 0.3414280116558075, 0.34218212962150574, 0.34218212962150574, 0.07981211692094803, 0.07981211692094803, 0.111736960709095, 0.09577453881502151, 0.07981211692094803, 0.09577453881502151, 0.07981211692094803, 0.111736960709095, 0.15962423384189606, 0.07981211692094803, 0.6857537031173706, 0.10039721429347992, 0.08858577907085419, 0.08858577907085419, 0.07677433639764786, 0.15354867279529572, 0.08858577907085419, 0.10039721429347992, 0.10039721429347992, 0.12992580235004425, 0.07086861878633499, 0.11325150728225708, 0.11325150728225708, 0.11325150728225708, 0.11325150728225708, 0.11325150728225708, 0.22650301456451416, 0.11325150728225708, 0.11325150728225708, 0.11325150728225708, 0.11325150728225708, 0.11307147145271301, 0.1036488488316536, 0.08480360358953476, 0.07538098096847534, 0.16960720717906952, 0.08480360358953476, 0.09422622621059418, 0.09422622621059418, 0.09422622621059418, 0.08480360358953476, 0.09851416200399399, 0.08459368348121643, 0.08887691050767899, 0.11029303073883057, 0.09208932518959045, 0.11029303073883057, 0.09316013753414154, 0.09423094242811203, 0.12956754863262177, 0.09958497434854507, 0.27859824895858765, 0.460109144449234, 0.2815840542316437, 0.2815840542316437, 0.340183824300766, 0.207253560423851, 0.207253560423851, 0.207253560423851, 0.12265858054161072, 0.0981268659234047, 0.09403824061155319, 0.10425978899002075, 0.08586100488901138, 0.06541790813207626, 0.11652565002441406, 0.09403824061155319, 0.07768376916646957, 0.14105737209320068, 0.12166110426187515, 0.09124583005905151, 0.10645346343517303, 0.0760381892323494, 0.0760381892323494, 0.10645346343517303, 0.12166110426187515, 0.1672840118408203, 0.060830552130937576, 0.0760381892323494, 0.18558445572853088, 0.08435656875371933, 0.08435656875371933, 0.10122788697481155, 0.10122788697481155, 0.08435656875371933, 0.08435656875371933, 0.08435656875371933, 0.08435656875371933, 0.08435656875371933, 0.3422239124774933, 0.3422239124774933, 0.34241706132888794, 0.34241706132888794, 0.17880484461784363, 0.11098231375217438, 0.08015389740467072, 0.08631958067417145, 0.10481663048267365, 0.09865094721317291, 0.08015389740467072, 0.08631958067417145, 0.11098231375217438, 0.06165684014558792, 0.3412836790084839, 0.3412836790084839, 0.12932223081588745, 0.08551954478025436, 0.12410762906074524, 0.11159257590770721, 0.1032492071390152, 0.08030493557453156, 0.10950673371553421, 0.07404740899801254, 0.08656246215105057, 0.09594875574111938, 0.34270545840263367, 0.13215968012809753, 0.10698641091585159, 0.08181314170360565, 0.09439977258443832, 0.15733295679092407, 0.08810646086931229, 0.13215968012809753, 0.07551982253789902, 0.06293318420648575, 0.06922650337219238, 0.23811843991279602, 0.23811843991279602, 0.279318243265152, 0.279318243265152, 0.3416615128517151, 0.3416615128517151, 0.08840766549110413, 0.09634168446063995, 0.09860855340957642, 0.09860855340957642, 0.1224106177687645, 0.10767600685358047, 0.06120530888438225, 0.12014374881982803, 0.11447659134864807, 0.09294139593839645, 0.3419993221759796, 0.12644468247890472, 0.14702869951725006, 0.09703893959522247, 0.1088012307882309, 0.07645492255687714, 0.09997951239347458, 0.10292008519172668, 0.08233606815338135, 0.09115779399871826, 0.07057377696037292, 0.34169694781303406, 0.34169694781303406, 0.3429524302482605, 0.3429524302482605, 0.3432801067829132, 0.11087851226329803, 0.08711882680654526, 0.11087851226329803, 0.08711882680654526, 0.08315888047218323, 0.10955853015184402, 0.16103783249855042, 0.06731909513473511, 0.07127904146909714, 0.11087851226329803, 0.3404499292373657, 0.2817045748233795, 0.2817045748233795, 0.3387042284011841, 0.3415006697177887, 0.34285619854927063, 0.34285619854927063, 0.3434789478778839, 0.3434789478778839, 0.12804244458675385, 0.12092897295951843, 0.08536162972450256, 0.09552372992038727, 0.12804244458675385, 0.08434541523456573, 0.10771824419498444, 0.09552372992038727, 0.07824815809726715, 0.07621573656797409, 0.11884502321481705, 0.14665982127189636, 0.08850160986185074, 0.08344437927007675, 0.10367331653833389, 0.12390225380659103, 0.07080128788948059, 0.07332991063594818, 0.11378778517246246, 0.07585852593183517, 0.33985114097595215, 0.16829124093055725, 0.09645961225032806, 0.10056427866220474, 0.0985119491815567, 0.10672127455472946, 0.08414562046527863, 0.07593629509210587, 0.08209329098463058, 0.1087736040353775, 0.08004095405340195, 0.34214937686920166, 0.33970314264297485, 0.33970314264297485, 0.3417113721370697, 0.3417113721370697, 0.1328534632921219, 0.07756928354501724, 0.16456687450408936, 0.05785553902387619, 0.09599734097719193, 0.10928268730640411, 0.07114088535308838, 0.09685446321964264, 0.1255679577589035, 0.06856952607631683, 0.3396758735179901, 0.3396465480327606, 0.3396465480327606, 0.28176137804985046, 0.34075728058815, 0.34208840131759644, 0.6587120890617371, 0.659574031829834, 0.08268622308969498, 0.10147853940725327, 0.11275393515825272, 0.07516928762197495, 0.09772007912397385, 0.15785551071166992, 0.09020315110683441, 0.1089954674243927, 0.10147853940725327, 0.07516928762197495, 0.07298533618450165, 0.08514955639839172, 0.13380643725395203, 0.12772433459758759, 0.07906744629144669, 0.07906744629144669, 0.15205277502536774, 0.10947799682617188, 0.09123166650533676, 0.06690321862697601, 0.07381705194711685, 0.1189274713397026, 0.10662462562322617, 0.09432178735733032, 0.11072557419538498, 0.06151420995593071, 0.08201894909143448, 0.16403789818286896, 0.10252368450164795, 0.0861198902130127, 0.18395908176898956, 0.18395908176898956, 0.18395908176898956, 0.18395908176898956, 0.3447282016277313, 0.08088426291942596, 0.16799038648605347, 0.10577172785997391, 0.0871061310172081, 0.10577172785997391, 0.0871061310172081, 0.10577172785997391, 0.10577172785997391, 0.0684405267238617, 0.08088426291942596, 0.1304621398448944, 0.06603638827800751, 0.1207982748746872, 0.13529406487941742, 0.08858539909124374, 0.124019555747509, 0.08858539909124374, 0.09985990077257156, 0.0644257441163063, 0.08214282244443893, 0.12635070085525513, 0.1295904666185379, 0.10691213607788086, 0.13930974900722504, 0.0712747573852539, 0.087473563849926, 0.09719285368919373, 0.06155547499656677, 0.07451452314853668, 0.11015190184116364, 0.09155450016260147, 0.17514774203300476, 0.09951575845479965, 0.09553512930870056, 0.10747701674699783, 0.09553512930870056, 0.08359323441982269, 0.09951575845479965, 0.06369008868932724, 0.09155450016260147, 0.33889952301979065, 0.2781515419483185, 0.2781515419483185, 0.33941650390625, 0.33941650390625, 0.3389984965324402, 0.3389984965324402, 0.0924372747540474, 0.08803550153970718, 0.10652295500040054, 0.13997644186019897, 0.11092472821474075, 0.11180508881807327, 0.08363372832536697, 0.0968390479683876, 0.08539443463087082, 0.08275336772203445, 0.2814173102378845, 0.2814173102378845, 0.09273884445428848, 0.10433120280504227, 0.0772823691368103, 0.14297239482402802, 0.11592356115579605, 0.08501061052083969, 0.09273884445428848, 0.09660296142101288, 0.09660296142101288, 0.09660296142101288, 0.34213390946388245, 0.07684589922428131, 0.11025715619325638, 0.11025715619325638, 0.08686927706003189, 0.08018702268600464, 0.14700955152511597, 0.13364504277706146, 0.08686927706003189, 0.07684589922428131, 0.09021040052175522, 0.10358517616987228, 0.09908147156238556, 0.09908147156238556, 0.10358517616987228, 0.09457777440547943, 0.06305184960365295, 0.15312591195106506, 0.10808888077735901, 0.11259258538484573, 0.06305184960365295, 0.11193177103996277, 0.08223558217287064, 0.13020634651184082, 0.09822583943605423, 0.09594151377677917, 0.09137286990880966, 0.08223558217287064, 0.07995126396417618, 0.13249066472053528, 0.09594151377677917, 0.07925200462341309, 0.07925200462341309, 0.07925200462341309, 0.07925200462341309, 0.15850400924682617, 0.23775601387023926, 0.07925200462341309, 0.07925200462341309, 0.07925200462341309, 0.07925200462341309, 0.3417453169822693, 0.2825087308883667, 0.2825087308883667, 0.34138181805610657, 0.12632106244564056, 0.14316387474536896, 0.08252976089715958, 0.10442540794610977, 0.07579264044761658, 0.09937256574630737, 0.12126822024583817, 0.07747691869735718, 0.06231839209794998, 0.10779397189617157, 0.08328407257795334, 0.12358281761407852, 0.1155230700969696, 0.09537369757890701, 0.08865723758935928, 0.11014990508556366, 0.08328407257795334, 0.11417977511882782, 0.09537369757890701, 0.09134382009506226, 0.10949759930372238, 0.13279496133327484, 0.1188165470957756, 0.10250838845968246, 0.07455155998468399, 0.06523261219263077, 0.08387050032615662, 0.10716786235570908, 0.08620023727416992, 0.1164868101477623, 0.34344831109046936, 0.34344831109046936, 0.4619515538215637, 0.145371213555336, 0.07551751285791397, 0.10006070137023926, 0.12460389733314514, 0.10761245340108871, 0.11138833314180374, 0.1057245135307312, 0.08684513717889786, 0.06985370069742203, 0.07551751285791397, 0.08968973904848099, 0.11104443669319153, 0.08968973904848099, 0.09823161363601685, 0.14521194994449615, 0.06406410038471222, 0.11958631873130798, 0.10250255465507507, 0.08114785701036453, 0.09823161363601685, 0.10674948245286942, 0.12130622565746307, 0.08734048157930374, 0.14071522653102875, 0.09704498201608658, 0.09704498201608658, 0.08734048157930374, 0.09704498201608658, 0.06793148815631866, 0.09704498201608658, 0.3378186523914337, 0.3423641324043274, 0.08962757140398026, 0.10531239956617355, 0.06497999280691147, 0.12323791533708572, 0.09186826646327972, 0.08962757140398026, 0.09859032928943634, 0.09859032928943634, 0.10755308717489243, 0.12771929800510406, 0.08873677998781204, 0.10352624207735062, 0.09859641641378403, 0.13803498446941376, 0.07394731789827347, 0.08380695432424545, 0.10352624207735062, 0.15775427222251892, 0.07394731789827347, 0.07887713611125946, 0.20807984471321106, 0.20807984471321106, 0.20807984471321106, 0.20807984471321106, 0.14611630141735077, 0.14611630141735077, 0.14611630141735077, 0.14611630141735077, 0.14611630141735077, 0.29223260283470154, 0.14611630141735077, 0.14611630141735077, 0.14611630141735077, 0.062363769859075546, 0.10503371804952621, 0.10503371804952621, 0.08533989638090134, 0.11159832775592804, 0.07877529412508011, 0.14442136883735657, 0.10831602662801743, 0.09846911579370499, 0.10503371804952621, 0.18346229195594788, 0.10701966285705566, 0.10396195948123932, 0.088673435151577, 0.10701966285705566, 0.088673435151577, 0.09173114597797394, 0.07644262164831161, 0.07032720744609833, 0.0825580283999443, 0.3451099097728729, 0.10880012810230255, 0.1349121630191803, 0.09574411064386368, 0.08704010397195816, 0.07833608984947205, 0.09139210730791092, 0.07398408651351929, 0.09574411064386368, 0.08704010397195816, 0.14361616969108582, 0.11484282463788986, 0.08506876230239868, 0.12122298777103424, 0.08081532269716263, 0.09357564151287079, 0.1020825132727623, 0.08506876230239868, 0.11696954816579819, 0.12334970384836197, 0.07656188309192657, 0.11321917176246643, 0.08328767120838165, 0.10020547360181808, 0.09239725768566132, 0.13273972272872925, 0.10801369696855545, 0.09109588712453842, 0.08719177544116974, 0.08198630064725876, 0.10801369696855545, 0.11297718435525894, 0.1529899388551712, 0.08237919956445694, 0.07296443730592728, 0.07767181843519211, 0.12003826349973679, 0.11533088237047195, 0.08944027125835419, 0.08708658069372177, 0.0917939618229866, 0.34204578399658203, 0.13696423172950745, 0.0992879867553711, 0.11302873492240906, 0.10150423645973206, 0.07801198959350586, 0.10549348592758179, 0.11879098415374756, 0.07712548971176147, 0.08067148923873901, 0.08953648805618286, 0.33933255076408386, 0.10076835751533508, 0.1803223341703415, 0.10076835751533508, 0.0972326248884201, 0.08308970183134079, 0.07071463763713837, 0.11667915433645248, 0.08308970183134079, 0.10253622382879257, 0.06364317238330841, 0.09243669360876083, 0.10745766013860703, 0.10168036818504333, 0.06817205995321274, 0.09821399301290512, 0.12363407760858536, 0.10283582657575607, 0.1282559186220169, 0.08319302648305893, 0.09359215199947357, 0.28055134415626526, 0.09236272424459457, 0.11035546660423279, 0.08756466209888458, 0.14514142274856567, 0.12235062569379807, 0.12474966049194336, 0.09716079384088516, 0.06717289239168167, 0.0755695030093193, 0.07676902413368225, 0.23860140144824982, 0.23860140144824982, 0.09229280054569244, 0.09229280054569244, 0.09229280054569244, 0.09229280054569244, 0.09229280054569244, 0.09229280054569244, 0.09229280054569244, 0.09229280054569244, 0.1845856010913849, 0.09229280054569244, 0.09890059381723404, 0.12587347626686096, 0.09890059381723404, 0.089909628033638, 0.08091866225004196, 0.16183732450008392, 0.08091866225004196, 0.1348644495010376, 0.089909628033638, 0.05394577607512474, 0.11012326180934906, 0.12522080540657043, 0.10923516750335693, 0.10390662401914597, 0.08614480495452881, 0.09413762390613556, 0.06927108019590378, 0.10568280518054962, 0.10923516750335693, 0.08614480495452881, 0.2791762351989746, 0.12171654403209686, 0.08327973634004593, 0.1110396534204483, 0.09395662695169449, 0.057655204087495804, 0.10463351756334305, 0.08968587219715118, 0.13879956305027008, 0.07900898158550262, 0.11958116292953491, 0.28158512711524963, 0.1043367087841034, 0.1043367087841034, 0.10151679813861847, 0.09587696939706802, 0.1043367087841034, 0.13535572588443756, 0.08459732681512833, 0.10151679813861847, 0.0817774161696434, 0.08741723746061325, 0.141610786318779, 0.12023556977510452, 0.13225913047790527, 0.10153225809335709, 0.10554011166095734, 0.062789686024189, 0.10153225809335709, 0.0788210928440094, 0.10554011166095734, 0.05076612904667854, 0.09273498505353928, 0.1506943553686142, 0.0753471776843071, 0.13910247385501862, 0.08404108136892319, 0.078245148062706, 0.11012279242277145, 0.10142888873815536, 0.0753471776843071, 0.09273498505353928, 0.3364889323711395, 0.3364889323711395, 0.34419751167297363, 0.34419751167297363, 0.3398130238056183, 0.3398130238056183, 0.09842327982187271, 0.08597896248102188, 0.10860499739646912, 0.13236235082149506, 0.10294849425554276, 0.09389807283878326, 0.10294849425554276, 0.10068588703870773, 0.07579723745584488, 0.0972919836640358, 0.09992009401321411, 0.10732158273458481, 0.08511711657047272, 0.10547121614217758, 0.14988014101982117, 0.08511711657047272, 0.09436897933483124, 0.09806972742080688, 0.09251860529184341, 0.08141637593507767, 0.35823193192481995, 0.10759597271680832, 0.12741628289222717, 0.13449496030807495, 0.1033487617969513, 0.08352845162153244, 0.07928124070167542, 0.09485434740781784, 0.10618023574352264, 0.08919139951467514, 0.07361830025911331, 0.11303295195102692, 0.10197538137435913, 0.11057571321725845, 0.06511680781841278, 0.1204046681523323, 0.1351480931043625, 0.1204046681523323, 0.08231747895479202, 0.06880266964435577, 0.08354609459638596, 0.0851394385099411, 0.0851394385099411, 0.12770916521549225, 0.0851394385099411, 0.06811155378818512, 0.11068127304315567, 0.10216733068227768, 0.0851394385099411, 0.1617649346590042, 0.0851394385099411, 0.10615505278110504, 0.10004541277885437, 0.10768246650695801, 0.06720607727766037, 0.11226470023393631, 0.09699058532714844, 0.0985179990530014, 0.13899438083171844, 0.08248018473386765, 0.0893535315990448, 0.16284209489822388, 0.16284209489822388, 0.16284209489822388, 0.16284209489822388, 0.16284209489822388, 0.16284209489822388, 0.339760422706604, 0.339760422706604, 0.10995670408010483, 0.08063491433858871, 0.128282830119133, 0.06963925063610077, 0.16860027611255646, 0.08796536177396774, 0.08796536177396774, 0.08430013805627823, 0.09163058549165726, 0.08796536177396774, 0.09242715686559677, 0.10757914930582047, 0.11212474852800369, 0.11212474852800369, 0.1136399507522583, 0.0818207636475563, 0.07424476742744446, 0.09848795086145401, 0.11667034775018692, 0.09091195464134216, 0.11375394463539124, 0.08050279319286346, 0.09625333547592163, 0.11550400406122208, 0.13300460577011108, 0.10150352120399475, 0.10675369948148727, 0.11550400406122208, 0.05775200203061104, 0.08050279319286346, 0.3427146077156067, 0.3427146077156067, 0.6535178422927856, 0.10787348449230194, 0.11768016219139099, 0.13239018619060516, 0.1372935175895691, 0.1103251501917839, 0.0784534439444542, 0.08826012164354324, 0.09316346049308777, 0.08090510964393616, 0.05393674224615097, 0.0850762352347374, 0.1215374767780304, 0.13195496797561646, 0.1215374767780304, 0.11459247767925262, 0.07639498263597488, 0.09896623343229294, 0.10591122508049011, 0.06597748398780823, 0.07986748218536377, 0.17081888020038605, 0.12811416387557983, 0.17081888020038605, 0.04270472005009651, 0.08540944010019302, 0.04270472005009651, 0.04270472005009651, 0.2989330589771271, 0.04270472005009651, 0.18949422240257263, 0.18949422240257263, 0.18949422240257263, 0.6556868553161621], \"Term\": [\"\\n\", \"\\n\", \"\\n\", \"\\n\", \"\\n\", \"\\n\", \"\\n\", \"\\n\", \"\\n\", \"\\n\", \"\\n\\n\", \"\\n\\n\", \"\\n\\n\", \"\\n\\n\", \"\\n\\n\", \"\\n\\n\", \"\\n\\n\", \"\\n\\n\", \"\\n\\n\", \"\\n\\n\", \"  \", \"  \", \"  \", \"  \", \"  \", \"  \", \"  \", \"  \", \"  \", \"  \", \"\\\"at\", \"\\\"at\", \"\\\"at\", \"\\\"bobbie\\\"\", \"\\\"bobbie\\\"\", \"\\\"good\\\",\", \"\\\"inspections\\\"\", \"\\\"inspections\\\"\", \"&\", \"&\", \"&\", \"&\", \"&\", \"&\", \"&\", \"&\", \"&\", \"&\", \"(belly\", \"(delish!);\", \"(delish!);\", \"(veggie\", \",who\", \"2\", \"2\", \"2\", \"2\", \"2\", \"2\", \"2\", \"2\", \"2\", \"2\", \"2...\", \"2...\", \"2...\", \"3\", \"3\", \"3\", \"3\", \"3\", \"3\", \"3\", \"3\", \"3\", \"3\", \"6\", \"6\", \"6\", \"6\", \"6\", \"6\", \"6\", \"6\", \"6\", \"6\", \"7-eleven\", \"absolutely\", \"absolutely\", \"absolutely\", \"absolutely\", \"absolutely\", \"absolutely\", \"absolutely\", \"absolutely\", \"absolutely\", \"absolutely\", \"accepting\", \"accepting\", \"accepting\", \"accepting\", \"accepting\", \"accepting\", \"aged.\", \"aged.\", \"almond\", \"almond\", \"almond\", \"almond\", \"almond\", \"almond\", \"almond\", \"almond\", \"almond\", \"almond\", \"amazing\", \"amazing\", \"amazing\", \"amazing\", \"amazing\", \"amazing\", \"amazing\", \"amazing\", \"amazing\", \"amazing\", \"amazinggg\", \"appetizer!!!\", \"appetizer!!!\", \"area\", \"area\", \"area\", \"area\", \"area\", \"area\", \"area\", \"area\", \"area\", \"area\", \"arrived\", \"arrived\", \"arrived\", \"arrived\", \"arrived\", \"arrived\", \"arrived\", \"arrived\", \"arrived\", \"arrived\", \"arrowhead.\", \"asked\", \"asked\", \"asked\", \"asked\", \"asked\", \"asked\", \"asked\", \"asked\", \"asked\", \"asked\", \"authentic\", \"authentic\", \"authentic\", \"authentic\", \"authentic\", \"authentic\", \"authentic\", \"authentic\", \"authentic\", \"authentic\", \"awesome\", \"awesome\", \"awesome\", \"awesome\", \"awesome\", \"awesome\", \"awesome\", \"awesome\", \"awesome\", \"awesome\", \"baby's\", \"baby's\", \"baby's\", \"back.\", \"back.\", \"back.\", \"back.\", \"back.\", \"back.\", \"back.\", \"back.\", \"back.\", \"back.\", \"bad\", \"bad\", \"bad\", \"bad\", \"bad\", \"bad\", \"bad\", \"bad\", \"bad\", \"bad\", \"badder\", \"banking\", \"bar\", \"bar\", \"bar\", \"bar\", \"bar\", \"bar\", \"bar\", \"bar\", \"bar\", \"bar\", \"barhopping\", \"based\", \"based\", \"based\", \"based\", \"based\", \"based\", \"based\", \"based\", \"based\", \"based\", \"bathing\", \"bb's\", \"bb's\", \"bb's\", \"beaten\", \"beaten\", \"beaten\", \"beaten\", \"beef\", \"beef\", \"beef\", \"beef\", \"beef\", \"beef\", \"beef\", \"beef\", \"beef\", \"beef\", \"best\", \"best\", \"best\", \"best\", \"best\", \"best\", \"best\", \"best\", \"best\", \"best\", \"better\", \"better\", \"better\", \"better\", \"better\", \"better\", \"better\", \"better\", \"better\", \"better\", \"big\", \"big\", \"big\", \"big\", \"big\", \"big\", \"big\", \"big\", \"big\", \"big\", \"birthday,thank\", \"birthday,thank\", \"bit\", \"bit\", \"bit\", \"bit\", \"bit\", \"bit\", \"bit\", \"bit\", \"bit\", \"bit\", \"bomb,\", \"bomb,\", \"bomb,\", \"bomb,\", \"bomb,\", \"bomb,\", \"bomb,\", \"bomb,\", \"boneless\", \"boneless\", \"boneless\", \"boneless\", \"boneless\", \"boneless\", \"boneless\", \"boneless\", \"boneless\", \"boneless\", \"brad\", \"brake\", \"brake\", \"brake\", \"brake\", \"brake\", \"brake\", \"brake\", \"brake\", \"brake\", \"brake\", \"breakfast...wtf???\", \"breakfast...wtf???\", \"breakfast...wtf???\", \"bri\", \"bri\", \"brookline\", \"brookline\", \"brows.\", \"brows.\", \"brows.\", \"brows.\", \"brows.\", \"brows.\", \"brows.\", \"brows.\", \"bruschettas\", \"bruschettas\", \"buds,\", \"burger-\", \"butterflies\", \"butterflies\", \"calabash\", \"called\", \"called\", \"called\", \"called\", \"called\", \"called\", \"called\", \"called\", \"called\", \"called\", \"came\", \"came\", \"came\", \"came\", \"came\", \"came\", \"came\", \"came\", \"came\", \"came\", \"can't\", \"can't\", \"can't\", \"can't\", \"can't\", \"can't\", \"can't\", \"can't\", \"can't\", \"can't\", \"car\", \"car\", \"car\", \"car\", \"car\", \"car\", \"car\", \"car\", \"car\", \"car\", \"care\", \"care\", \"care\", \"care\", \"care\", \"care\", \"care\", \"care\", \"care\", \"care\", \"carina.\", \"carina.\", \"cary\", \"cary\", \"catching\", \"catching\", \"catching\", \"catching\", \"catching\", \"catching\", \"catching\", \"catching\", \"catching\", \"catching\", \"certificates\", \"chauffeured\", \"check\", \"check\", \"check\", \"check\", \"check\", \"check\", \"check\", \"check\", \"check\", \"check\", \"cheese\", \"cheese\", \"cheese\", \"cheese\", \"cheese\", \"cheese\", \"cheese\", \"cheese\", \"cheese\", \"cheese\", \"chicken\", \"chicken\", \"chicken\", \"chicken\", \"chicken\", \"chicken\", \"chicken\", \"chicken\", \"chicken\", \"chicken\", \"chitchatting\", \"choices\", \"choices\", \"choices\", \"choices\", \"choices\", \"choices\", \"choices\", \"choices\", \"choices\", \"choices\", \"chop!\", \"clean\", \"clean\", \"clean\", \"clean\", \"clean\", \"clean\", \"clean\", \"clean\", \"clean\", \"clean\", \"cleveland!!!!\", \"cleveland!!!!\", \"coats\", \"coats\", \"coats\", \"coats\", \"coats\", \"coats\", \"coats\", \"coats\", \"coats\", \"coats\", \"coffee\", \"coffee\", \"coffee\", \"coffee\", \"coffee\", \"coffee\", \"coffee\", \"coffee\", \"coffee\", \"coffee\", \"coffee--specifically\", \"coffee--specifically\", \"cold\", \"cold\", \"cold\", \"cold\", \"cold\", \"cold\", \"cold\", \"cold\", \"cold\", \"cold\", \"coldest\", \"come\", \"come\", \"come\", \"come\", \"come\", \"come\", \"come\", \"come\", \"come\", \"come\", \"coming\", \"coming\", \"coming\", \"coming\", \"coming\", \"coming\", \"coming\", \"coming\", \"coming\", \"coming\", \"company!!!\", \"company!!!\", \"company!!!\", \"company!!!\", \"complained\", \"complained\", \"complained\", \"complained\", \"complained\", \"complained\", \"complained\", \"complained\", \"complained\", \"complained\", \"concentrated\", \"conchas!\", \"cookie!\", \"cooks.\", \"costumers\", \"customer\", \"customer\", \"customer\", \"customer\", \"customer\", \"customer\", \"customer\", \"customer\", \"customer\", \"customer\", \"cwru\", \"daaayyuuummm..\", \"dancing)\", \"dawn\", \"dawn\", \"dawn\", \"dawn\", \"dawn\", \"dawn\", \"dawn\", \"dawn\", \"day\", \"day\", \"day\", \"day\", \"day\", \"day\", \"day\", \"day\", \"day\", \"day\", \"de\", \"de\", \"de\", \"de\", \"de\", \"de\", \"de\", \"de\", \"de\", \"de\", \"deal\", \"deal\", \"deal\", \"deal\", \"deal\", \"deal\", \"deal\", \"deal\", \"deal\", \"deal\", \"decent!!\", \"definitely\", \"definitely\", \"definitely\", \"definitely\", \"definitely\", \"definitely\", \"definitely\", \"definitely\", \"definitely\", \"definitely\", \"delicious\", \"delicious\", \"delicious\", \"delicious\", \"delicious\", \"delicious\", \"delicious\", \"delicious\", \"delicious\", \"delicious\", \"delicious.\", \"delicious.\", \"delicious.\", \"delicious.\", \"delicious.\", \"delicious.\", \"delicious.\", \"delicious.\", \"delicious.\", \"delicious.\", \"delivary\", \"dentists\", \"dentists\", \"dentists\", \"dentists\", \"dentists\", \"dentists\", \"dentists\", \"dentists\", \"dentists\", \"dentists\", \"dessert\", \"dessert\", \"dessert\", \"dessert\", \"dessert\", \"dessert\", \"dessert\", \"dessert\", \"dessert\", \"dessert\", \"didn't\", \"didn't\", \"didn't\", \"didn't\", \"didn't\", \"didn't\", \"didn't\", \"didn't\", \"didn't\", \"didn't\", \"diesel\", \"diesel\", \"dilly\", \"dine\", \"dine\", \"dine\", \"dine\", \"dine\", \"dine\", \"dine\", \"dine\", \"dine\", \"dine\", \"diner\", \"diner\", \"diner\", \"diner\", \"diner\", \"diner\", \"diner\", \"diner\", \"diner\", \"diner\", \"dinner\", \"dinner\", \"dinner\", \"dinner\", \"dinner\", \"dinner\", \"dinner\", \"dinner\", \"dinner\", \"dinner\", \"disgusting...\", \"don't\", \"don't\", \"don't\", \"don't\", \"don't\", \"don't\", \"don't\", \"don't\", \"don't\", \"don't\", \"dots.\", \"drink\", \"drink\", \"drink\", \"drink\", \"drink\", \"drink\", \"drink\", \"drink\", \"drink\", \"drink\", \"drink,\", \"drink,\", \"drink,\", \"drink,\", \"drink,\", \"drink,\", \"drink,\", \"drink,\", \"drink,\", \"drink,\", \"dulce.\", \"eat\", \"eat\", \"eat\", \"eat\", \"eat\", \"eat\", \"eat\", \"eat\", \"eat\", \"eat\", \"eat!!!\", \"effected\", \"elisha.\", \"enjoy\", \"enjoy\", \"enjoy\", \"enjoy\", \"enjoy\", \"enjoy\", \"enjoy\", \"enjoy\", \"enjoy\", \"enjoy\", \"enjoyed\", \"enjoyed\", \"enjoyed\", \"enjoyed\", \"enjoyed\", \"enjoyed\", \"enjoyed\", \"enjoyed\", \"enjoyed\", \"enjoyed\", \"erika\", \"erika\", \"everyday!\", \"everyday!\", \"excellent\", \"excellent\", \"excellent\", \"excellent\", \"excellent\", \"excellent\", \"excellent\", \"excellent\", \"excellent\", \"excellent\", \"excellent!\", \"excellent!\", \"excellent!\", \"excellent!\", \"excellent!\", \"excellent!\", \"excellent!\", \"excellent!\", \"excellent!\", \"excellent!\", \"experience\", \"experience\", \"experience\", \"experience\", \"experience\", \"experience\", \"experience\", \"experience\", \"experience\", \"experience\", \"experience.!\", \"extra\", \"extra\", \"extra\", \"extra\", \"extra\", \"extra\", \"extra\", \"extra\", \"extra\", \"extra\", \"extremely\", \"extremely\", \"extremely\", \"extremely\", \"extremely\", \"extremely\", \"extremely\", \"extremely\", \"extremely\", \"extremely\", \"family\", \"family\", \"family\", \"family\", \"family\", \"family\", \"family\", \"family\", \"family\", \"family\", \"fans.\", \"fans.\", \"fans.\", \"fans.\", \"fans.\", \"fans.\", \"fans.\", \"fans.\", \"finally\", \"finally\", \"finally\", \"finally\", \"finally\", \"finally\", \"finally\", \"finally\", \"finally\", \"finally\", \"finally!\", \"find\", \"find\", \"find\", \"find\", \"find\", \"find\", \"find\", \"find\", \"find\", \"find\", \"fingernail.\", \"fingernail.\", \"fit\", \"fit\", \"fit\", \"fit\", \"fit\", \"fit\", \"fit\", \"fit\", \"fit\", \"fit\", \"fluffy!\", \"fluid\", \"fluid\", \"fluid\", \"fluid\", \"fluid\", \"fluid\", \"fluid\", \"fluid\", \"fluid\", \"fluid\", \"food\", \"food\", \"food\", \"food\", \"food\", \"food\", \"food\", \"food\", \"food\", \"food\", \"food.\", \"food.\", \"food.\", \"food.\", \"food.\", \"food.\", \"food.\", \"food.\", \"food.\", \"food.\", \"found\", \"found\", \"found\", \"found\", \"found\", \"found\", \"found\", \"found\", \"found\", \"found\", \"free\", \"free\", \"free\", \"free\", \"free\", \"free\", \"free\", \"free\", \"free\", \"free\", \"fresh\", \"fresh\", \"fresh\", \"fresh\", \"fresh\", \"fresh\", \"fresh\", \"fresh\", \"fresh\", \"fresh\", \"fresh....\", \"fridendly.\", \"friendly\", \"friendly\", \"friendly\", \"friendly\", \"friendly\", \"friendly\", \"friendly\", \"friendly\", \"friendly\", \"friendly\", \"fun\", \"fun\", \"fun\", \"fun\", \"fun\", \"fun\", \"fun\", \"fun\", \"fun\", \"fun\", \"fungus\", \"fungus\", \"fungus\", \"fungus\", \"gave\", \"gave\", \"gave\", \"gave\", \"gave\", \"gave\", \"gave\", \"gave\", \"gave\", \"gave\", \"genuine!(:\", \"genuine!(:\", \"getting\", \"getting\", \"getting\", \"getting\", \"getting\", \"getting\", \"getting\", \"getting\", \"getting\", \"getting\", \"going\", \"going\", \"going\", \"going\", \"going\", \"going\", \"going\", \"going\", \"going\", \"going\", \"golfweek.com!\", \"golfweek.com!\", \"good\", \"good\", \"good\", \"good\", \"good\", \"good\", \"good\", \"good\", \"good\", \"good\", \"good,,\", \"good,,\", \"good,decent\", \"good,decent\", \"good.\", \"good.\", \"good.\", \"good.\", \"good.\", \"good.\", \"good.\", \"good.\", \"good.\", \"good.\", \"got\", \"got\", \"got\", \"got\", \"got\", \"got\", \"got\", \"got\", \"got\", \"got\", \"gourmet,\", \"gps\", \"gps\", \"gps\", \"gps\", \"gps\", \"great\", \"great\", \"great\", \"great\", \"great\", \"great\", \"great\", \"great\", \"great\", \"great\", \"great,\", \"great,\", \"great,\", \"great,\", \"great,\", \"great,\", \"great,\", \"great,\", \"great,\", \"great,\", \"greenhouse\", \"greenhouse\", \"greenway.\", \"groupon!!\", \"guns.\", \"guns.\", \"guys?\", \"guys?\", \"hair\", \"hair\", \"hair\", \"hair\", \"hair\", \"hair\", \"hair\", \"hair\", \"hair\", \"hair\", \"handle.\", \"handle.\", \"happy\", \"happy\", \"happy\", \"happy\", \"happy\", \"happy\", \"happy\", \"happy\", \"happy\", \"happy\", \"haven't\", \"haven't\", \"haven't\", \"haven't\", \"haven't\", \"haven't\", \"haven't\", \"haven't\", \"haven't\", \"haven't\", \"heal\", \"heap\", \"here!!!!!\", \"here!!!!!\", \"here.\", \"here.\", \"here.\", \"here.\", \"here.\", \"here.\", \"here.\", \"here.\", \"here.\", \"here.\", \"here...excellent\", \"here...excellent\", \"highly\", \"highly\", \"highly\", \"highly\", \"highly\", \"highly\", \"highly\", \"highly\", \"highly\", \"highly\", \"home\", \"home\", \"home\", \"home\", \"home\", \"home\", \"home\", \"home\", \"home\", \"home\", \"hope\", \"hope\", \"hope\", \"hope\", \"hope\", \"hope\", \"hope\", \"hope\", \"hope\", \"hope\", \"hot\", \"hot\", \"hot\", \"hot\", \"hot\", \"hot\", \"hot\", \"hot\", \"hot\", \"hot\", \"however,\", \"however,\", \"however,\", \"however,\", \"however,\", \"however,\", \"however,\", \"however,\", \"however,\", \"however,\", \"hummus).\", \"i'd\", \"i'd\", \"i'd\", \"i'd\", \"i'd\", \"i'd\", \"i'd\", \"i'd\", \"i'd\", \"i'd\", \"i'll\", \"i'll\", \"i'll\", \"i'll\", \"i'll\", \"i'll\", \"i'll\", \"i'll\", \"i'll\", \"i'll\", \"ian!\", \"ian!\", \"ian!\", \"ice\", \"ice\", \"ice\", \"ice\", \"ice\", \"ice\", \"ice\", \"ice\", \"ice\", \"ice\", \"imcomplete.\", \"impress,\", \"incredibleee..we\", \"inexpensive.\", \"inexpensive.\", \"inexpensive.\", \"inexpensive.\", \"inexpensive.\", \"inexpensive.\", \"inexpensive.\", \"injections\", \"injector\", \"intelligent,\", \"intelligent,\", \"ipa.\", \"ipa.\", \"ipa.\", \"ipa.\", \"ipa.\", \"isn't\", \"isn't\", \"isn't\", \"isn't\", \"isn't\", \"isn't\", \"isn't\", \"isn't\", \"isn't\", \"isn't\", \"it.\", \"it.\", \"it.\", \"it.\", \"it.\", \"it.\", \"it.\", \"it.\", \"it.\", \"it.\", \"jackpot.\", \"jackpot.\", \"jungle...\", \"jungle...\", \"juvaderm.\", \"kamper\", \"kang\", \"kang\", \"kang\", \"kelsea\", \"kids\", \"kids\", \"kids\", \"kids\", \"kids\", \"kids\", \"kids\", \"kids\", \"kids\", \"kids\", \"know\", \"know\", \"know\", \"know\", \"know\", \"know\", \"know\", \"know\", \"know\", \"know\", \"kouign\", \"krung\", \"krung\", \"l'auto\", \"l'auto\", \"lemonade!\", \"liberte\", \"liberte\", \"like\", \"like\", \"like\", \"like\", \"like\", \"like\", \"like\", \"like\", \"like\", \"like\", \"linda\", \"linda\", \"linda.\", \"little\", \"little\", \"little\", \"little\", \"little\", \"little\", \"little\", \"little\", \"little\", \"little\", \"livermush\", \"livermush\", \"location\", \"location\", \"location\", \"location\", \"location\", \"location\", \"location\", \"location\", \"location\", \"location\", \"long\", \"long\", \"long\", \"long\", \"long\", \"long\", \"long\", \"long\", \"long\", \"long\", \"look\", \"look\", \"look\", \"look\", \"look\", \"look\", \"look\", \"look\", \"look\", \"look\", \"looking\", \"looking\", \"looking\", \"looking\", \"looking\", \"looking\", \"looking\", \"looking\", \"looking\", \"looking\", \"lord,\", \"losses!\", \"lost\", \"lost\", \"lost\", \"lost\", \"lost\", \"lost\", \"lost\", \"lost\", \"lost\", \"lost\", \"lot\", \"lot\", \"lot\", \"lot\", \"lot\", \"lot\", \"lot\", \"lot\", \"lot\", \"lot\", \"love\", \"love\", \"love\", \"love\", \"love\", \"love\", \"love\", \"love\", \"love\", \"love\", \"loved\", \"loved\", \"loved\", \"loved\", \"loved\", \"loved\", \"loved\", \"loved\", \"loved\", \"loved\", \"lunch\", \"lunch\", \"lunch\", \"lunch\", \"lunch\", \"lunch\", \"lunch\", \"lunch\", \"lunch\", \"lunch\", \"manager/owner?\", \"marketing.\", \"masterpiece.\", \"masterpiece.\", \"match,\", \"matcha,\", \"matthew\", \"matthew\", \"matthew\", \"mattress\", \"mattress\", \"mattress\", \"mattress\", \"mattress\", \"mattress\", \"mattress\", \"mattress\", \"me.\", \"me.\", \"me.\", \"me.\", \"me.\", \"me.\", \"me.\", \"me.\", \"me.\", \"me.\", \"megaphone.\", \"melinda\", \"menu\", \"menu\", \"menu\", \"menu\", \"menu\", \"menu\", \"menu\", \"menu\", \"menu\", \"menu\", \"menudo\", \"menudo\", \"menudo\", \"minutes\", \"minutes\", \"minutes\", \"minutes\", \"minutes\", \"minutes\", \"minutes\", \"minutes\", \"minutes\", \"minutes\", \"misters.\", \"misters.\", \"momma\", \"money\", \"money\", \"money\", \"money\", \"money\", \"money\", \"money\", \"money\", \"money\", \"money\", \"musubi\", \"n'ai\", \"n'ai\", \"nail\", \"nail\", \"nail\", \"nail\", \"nail\", \"nail\", \"nail\", \"nail\", \"nail\", \"nail\", \"nationwide,\", \"need\", \"need\", \"need\", \"need\", \"need\", \"need\", \"need\", \"need\", \"need\", \"need\", \"new\", \"new\", \"new\", \"new\", \"new\", \"new\", \"new\", \"new\", \"new\", \"new\", \"nice\", \"nice\", \"nice\", \"nice\", \"nice\", \"nice\", \"nice\", \"nice\", \"nice\", \"nice\", \"night\", \"night\", \"night\", \"night\", \"night\", \"night\", \"night\", \"night\", \"night\", \"night\", \"noisy,\", \"noisy,\", \"noisy,\", \"noisy,\", \"obsessed.\", \"obsessed.\", \"obsessed.\", \"old\", \"old\", \"old\", \"old\", \"old\", \"old\", \"old\", \"old\", \"old\", \"old\", \"only!!!\", \"open\", \"open\", \"open\", \"open\", \"open\", \"open\", \"open\", \"open\", \"open\", \"open\", \"order\", \"order\", \"order\", \"order\", \"order\", \"order\", \"order\", \"order\", \"order\", \"order\", \"order!!!!!\", \"ordered\", \"ordered\", \"ordered\", \"ordered\", \"ordered\", \"ordered\", \"ordered\", \"ordered\", \"ordered\", \"ordered\", \"outlets.\", \"owner\", \"owner\", \"owner\", \"owner\", \"owner\", \"owner\", \"owner\", \"owner\", \"owner\", \"owner\", \"paced\", \"paid\", \"paid\", \"paid\", \"paid\", \"paid\", \"paid\", \"paid\", \"paid\", \"paid\", \"paid\", \"pancakes!!\", \"pancakes!!\", \"pay\", \"pay\", \"pay\", \"pay\", \"pay\", \"pay\", \"pay\", \"pay\", \"pay\", \"pay\", \"pediatric\", \"pediatric\", \"pedicure!\", \"pedicure!\", \"pedicure!\", \"pedicure!\", \"people\", \"people\", \"people\", \"people\", \"people\", \"people\", \"people\", \"people\", \"people\", \"people\", \"people..we\", \"phx.\", \"phx.\", \"phx.\", \"picante!\", \"picante!\", \"pizza\", \"pizza\", \"pizza\", \"pizza\", \"pizza\", \"pizza\", \"pizza\", \"pizza\", \"pizza\", \"pizza\", \"place\", \"place\", \"place\", \"place\", \"place\", \"place\", \"place\", \"place\", \"place\", \"place\", \"place.\", \"place.\", \"place.\", \"place.\", \"place.\", \"place.\", \"place.\", \"place.\", \"place.\", \"place.\", \"place...the\", \"place...the\", \"pleasant/quiet\", \"poisoning?\", \"poisoning?\", \"polite\", \"polite\", \"polite\", \"polite\", \"polite\", \"polite\", \"polite\", \"polite\", \"polite\", \"polite\", \"poms,\", \"pool\", \"pool\", \"pool\", \"pool\", \"pool\", \"pool\", \"pool\", \"pool\", \"pool\", \"pool\", \"poppy\", \"poppy\", \"poppy\", \"poppy\", \"poppy\", \"poppy\", \"poppy\", \"poppy\", \"poppy\", \"poppy\", \"potatoes\", \"potatoes\", \"potatoes\", \"potatoes\", \"potatoes\", \"potatoes\", \"potatoes\", \"potatoes\", \"potatoes\", \"potatoes\", \"pretty\", \"pretty\", \"pretty\", \"pretty\", \"pretty\", \"pretty\", \"pretty\", \"pretty\", \"pretty\", \"pretty\", \"price!!!\", \"provolone.\", \"purolator,\", \"purolator,\", \"puzzlemaster\", \"puzzles\", \"puzzles\", \"puzzles\", \"quality\", \"quality\", \"quality\", \"quality\", \"quality\", \"quality\", \"quality\", \"quality\", \"quality\", \"quality\", \"quality.\", \"quality.\", \"quality.\", \"quality.\", \"quality.\", \"quality.\", \"quality.\", \"quality.\", \"quality.\", \"quality.\", \"quickly.\", \"quickly.\", \"quickly.\", \"quickly.\", \"quickly.\", \"quickly.\", \"quickly.\", \"quickly.\", \"quickly.\", \"quickly.\", \"rania's.\", \"rania's.\", \"rating:\", \"rating:\", \"reasonable\", \"reasonable\", \"reasonable\", \"reasonable\", \"reasonable\", \"reasonable\", \"reasonable\", \"reasonable\", \"reasonable\", \"reasonable\", \"reccomend.\", \"reccomend.\", \"recommend\", \"recommend\", \"recommend\", \"recommend\", \"recommend\", \"recommend\", \"recommend\", \"recommend\", \"recommend\", \"recommend\", \"regrets\\\"\", \"remember\", \"remember\", \"remember\", \"remember\", \"remember\", \"remember\", \"remember\", \"remember\", \"remember\", \"remember\", \"repair!!\", \"repair!!\", \"resource.\", \"resource.\", \"respond),\", \"respond),\", \"restaurant\", \"restaurant\", \"restaurant\", \"restaurant\", \"restaurant\", \"restaurant\", \"restaurant\", \"restaurant\", \"restaurant\", \"restaurant\", \"ribs..that\", \"rice\", \"rice\", \"rice\", \"rice\", \"rice\", \"rice\", \"rice\", \"rice\", \"rice\", \"rice\", \"ricketts\", \"ricketts\", \"rico,\", \"rico,\", \"ridgeville.\", \"right\", \"right\", \"right\", \"right\", \"right\", \"right\", \"right\", \"right\", \"right\", \"right\", \"ripple.\", \"rock...\", \"rock...\", \"romper!\", \"room...\", \"roomtastic\", \"roomtastic\", \"saddest\", \"saddest\", \"said\", \"said\", \"said\", \"said\", \"said\", \"said\", \"said\", \"said\", \"said\", \"said\", \"salad\", \"salad\", \"salad\", \"salad\", \"salad\", \"salad\", \"salad\", \"salad\", \"salad\", \"salad\", \"sammies.\", \"sauce\", \"sauce\", \"sauce\", \"sauce\", \"sauce\", \"sauce\", \"sauce\", \"sauce\", \"sauce\", \"sauce\", \"say...basic\", \"screwed!\", \"screwed!\", \"server!!\", \"server!!\", \"service\", \"service\", \"service\", \"service\", \"service\", \"service\", \"service\", \"service\", \"service\", \"service\", \"service.don't\", \"service.maybe\", \"service.maybe\", \"severs\", \"shimp\", \"shipper\", \"shoooz.\", \"shoot....really??all\", \"shop\", \"shop\", \"shop\", \"shop\", \"shop\", \"shop\", \"shop\", \"shop\", \"shop\", \"shop\", \"showed\", \"showed\", \"showed\", \"showed\", \"showed\", \"showed\", \"showed\", \"showed\", \"showed\", \"showed\", \"shrimp\", \"shrimp\", \"shrimp\", \"shrimp\", \"shrimp\", \"shrimp\", \"shrimp\", \"shrimp\", \"shrimp\", \"shrimp\", \"siam\", \"siam\", \"siam\", \"siam\", \"sights.\", \"simple\", \"simple\", \"simple\", \"simple\", \"simple\", \"simple\", \"simple\", \"simple\", \"simple\", \"simple\", \"small\", \"small\", \"small\", \"small\", \"small\", \"small\", \"small\", \"small\", \"small\", \"small\", \"special\", \"special\", \"special\", \"special\", \"special\", \"special\", \"special\", \"special\", \"special\", \"special\", \"spot\", \"spot\", \"spot\", \"spot\", \"spot\", \"spot\", \"spot\", \"spot\", \"spot\", \"spot\", \"spot...my\", \"squished.\", \"squished.\", \"squishies\", \"squishies\", \"squishies.\", \"squishies.\", \"staff\", \"staff\", \"staff\", \"staff\", \"staff\", \"staff\", \"staff\", \"staff\", \"staff\", \"staff\", \"staff...\", \"staff...\", \"star\", \"star\", \"star\", \"star\", \"star\", \"star\", \"star\", \"star\", \"star\", \"star\", \"start-up.\", \"started\", \"started\", \"started\", \"started\", \"started\", \"started\", \"started\", \"started\", \"started\", \"started\", \"stopped\", \"stopped\", \"stopped\", \"stopped\", \"stopped\", \"stopped\", \"stopped\", \"stopped\", \"stopped\", \"stopped\", \"store\", \"store\", \"store\", \"store\", \"store\", \"store\", \"store\", \"store\", \"store\", \"store\", \"styles\", \"styles\", \"styles\", \"styles\", \"styles\", \"styles\", \"styles\", \"styles\", \"styles\", \"styles\", \"stylist/barber,\", \"sunday!\", \"sunday!\", \"sunglass\", \"super\", \"super\", \"super\", \"super\", \"super\", \"super\", \"super\", \"super\", \"super\", \"super\", \"sure\", \"sure\", \"sure\", \"sure\", \"sure\", \"sure\", \"sure\", \"sure\", \"sure\", \"sure\", \"sweet\", \"sweet\", \"sweet\", \"sweet\", \"sweet\", \"sweet\", \"sweet\", \"sweet\", \"sweet\", \"sweet\", \"sweet-tooth\", \"sweet-tooth\", \"swordfish\", \"table\", \"table\", \"table\", \"table\", \"table\", \"table\", \"table\", \"table\", \"table\", \"table\", \"tables\", \"tables\", \"tables\", \"tables\", \"tables\", \"tables\", \"tables\", \"tables\", \"tables\", \"tables\", \"tacos\", \"tacos\", \"tacos\", \"tacos\", \"tacos\", \"tacos\", \"tacos\", \"tacos\", \"tacos\", \"tacos\", \"talia\", \"tapioca.\", \"taste\", \"taste\", \"taste\", \"taste\", \"taste\", \"taste\", \"taste\", \"taste\", \"taste\", \"taste\", \"tasty\", \"tasty\", \"tasty\", \"tasty\", \"tasty\", \"tasty\", \"tasty\", \"tasty\", \"tasty\", \"tasty\", \"tattoos\", \"tattoos\", \"tattoos\", \"tattoos\", \"taxi\", \"taxi\", \"taxi\", \"taxi\", \"taxi\", \"taxi\", \"taxi\", \"taxi\", \"taxi\", \"them.\", \"them.\", \"them.\", \"them.\", \"them.\", \"them.\", \"them.\", \"them.\", \"them.\", \"them.\", \"there's\", \"there's\", \"there's\", \"there's\", \"there's\", \"there's\", \"there's\", \"there's\", \"there's\", \"there's\", \"there;)\", \"they're\", \"they're\", \"they're\", \"they're\", \"they're\", \"they're\", \"they're\", \"they're\", \"they're\", \"they're\", \"thing\", \"thing\", \"thing\", \"thing\", \"thing\", \"thing\", \"thing\", \"thing\", \"thing\", \"thing\", \"think\", \"think\", \"think\", \"think\", \"think\", \"think\", \"think\", \"think\", \"think\", \"think\", \"thought\", \"thought\", \"thought\", \"thought\", \"thought\", \"thought\", \"thought\", \"thought\", \"thought\", \"thought\", \"tiger?\", \"time\", \"time\", \"time\", \"time\", \"time\", \"time\", \"time\", \"time\", \"time\", \"time\", \"timed.\", \"times\", \"times\", \"times\", \"times\", \"times\", \"times\", \"times\", \"times\", \"times\", \"times\", \"told\", \"told\", \"told\", \"told\", \"told\", \"told\", \"told\", \"told\", \"told\", \"told\", \"too..\", \"took\", \"took\", \"took\", \"took\", \"took\", \"took\", \"took\", \"took\", \"took\", \"took\", \"town!!\", \"town!!\", \"traveled\", \"traveled\", \"traveled\", \"traveled\", \"traveled\", \"traveled\", \"traveled\", \"traveled\", \"traveled\", \"traveled\", \"treated\", \"treated\", \"treated\", \"treated\", \"treated\", \"treated\", \"treated\", \"treated\", \"treated\", \"treated\", \"try\", \"try\", \"try\", \"try\", \"try\", \"try\", \"try\", \"try\", \"try\", \"try\", \"unit!\", \"vegas\", \"vegas\", \"vegas\", \"vegas\", \"vegas\", \"vegas\", \"vegas\", \"vegas\", \"vegas\", \"vegas\", \"vig,\", \"visit\", \"visit\", \"visit\", \"visit\", \"visit\", \"visit\", \"visit\", \"visit\", \"visit\", \"visit\", \"wait\", \"wait\", \"wait\", \"wait\", \"wait\", \"wait\", \"wait\", \"wait\", \"wait\", \"wait\", \"waitress\", \"waitress\", \"waitress\", \"waitress\", \"waitress\", \"waitress\", \"waitress\", \"waitress\", \"waitress\", \"waitress\", \"waitress/cashier\", \"waitress/cashier\", \"walk-ins\\\".\", \"walk-ins\\\".\", \"walkthrough\", \"walkthrough\", \"want\", \"want\", \"want\", \"want\", \"want\", \"want\", \"want\", \"want\", \"want\", \"want\", \"wanted\", \"wanted\", \"wanted\", \"wanted\", \"wanted\", \"wanted\", \"wanted\", \"wanted\", \"wanted\", \"wanted\", \"washes\", \"wasn't\", \"wasn't\", \"wasn't\", \"wasn't\", \"wasn't\", \"wasn't\", \"wasn't\", \"wasn't\", \"wasn't\", \"wasn't\", \"way\", \"way\", \"way\", \"way\", \"way\", \"way\", \"way\", \"way\", \"way\", \"way\", \"we've\", \"we've\", \"we've\", \"we've\", \"we've\", \"we've\", \"we've\", \"we've\", \"we've\", \"we've\", \"went\", \"went\", \"went\", \"went\", \"went\", \"went\", \"went\", \"went\", \"went\", \"went\", \"wheelchair\", \"wheelchair\", \"wheelchair\", \"wheelchair\", \"wheelchair\", \"wheelchair\", \"whimsical,\", \"whimsical,\", \"wine\", \"wine\", \"wine\", \"wine\", \"wine\", \"wine\", \"wine\", \"wine\", \"wine\", \"wine\", \"work\", \"work\", \"work\", \"work\", \"work\", \"work\", \"work\", \"work\", \"work\", \"work\", \"worth\", \"worth\", \"worth\", \"worth\", \"worth\", \"worth\", \"worth\", \"worth\", \"worth\", \"worth\", \"yasmin!\", \"yasmin!\", \"yc's!\", \"years\", \"years\", \"years\", \"years\", \"years\", \"years\", \"years\", \"years\", \"years\", \"years\", \"you're\", \"you're\", \"you're\", \"you're\", \"you're\", \"you're\", \"you're\", \"you're\", \"you're\", \"you're\", \"yuk\", \"yuk\", \"yuk\", \"yuk\", \"yuk\", \"yuk\", \"yuk\", \"yuk\", \"yuk\", \"yuk!\", \"yuk!\", \"yuk!\", \"\\u5929\\u6c23\\u5f88\\u71b1\\u5403\\u4e0d\\u4e0b\\u6771\\u897f\\uff0c\\u4eca\\u5929\\u6211\\u9ede\\u4e86\\u4e00\\u500b\\u97d3\\u570b\\u51b7\\u9762\\u6e6f\\u3001\\u9910\\u5f8c\\u9ede\\u4e86\\u751c\\u9ede\\uff0c\\u51b0\\u6c99\\u7cfb\\u5217\\u4e0d\\u6703\\u592a\\u751c\\u81a9\\uff0c\\u89ba\\u5f97\\u5e97\\u5bb6\\u5f88\\u7528\\u5fc3\\u88fd\\u4f5c\\uff0c\\u5305\\u542b\\u64fa\\u76e4\\u7cbe\\u7dfb\\u3001\\u4f50\\u6599\\u885b\\u751f\\uff0c\\u590f\\u65e5\\u60f3\\u958b\\u80c3\\uff0c\\u9019\\u662f\\u4e00\\u500b\\u4e0d\\u932f\\u7684\\u9078\\u64c7\\uff0c\\u670d\\u52d9\\u4eba\\u54e1\\u4e5f\\u5f88\\u656c\\u696d\\uff0c\\u4ee5\\u5f8c\\u6703\\u5e38\\u5e38\\u4f86\"]}, \"R\": 30, \"lambda.step\": 0.01, \"plot.opts\": {\"xlab\": \"PC1\", \"ylab\": \"PC2\"}, \"topic.order\": [1, 4, 9, 5, 8, 10, 7, 2, 3, 6]};\n",
       "\n",
       "function LDAvis_load_lib(url, callback){\n",
       "  var s = document.createElement('script');\n",
       "  s.src = url;\n",
       "  s.async = true;\n",
       "  s.onreadystatechange = s.onload = callback;\n",
       "  s.onerror = function(){console.warn(\"failed to load library \" + url);};\n",
       "  document.getElementsByTagName(\"head\")[0].appendChild(s);\n",
       "}\n",
       "\n",
       "if(typeof(LDAvis) !== \"undefined\"){\n",
       "   // already loaded: just create the visualization\n",
       "   !function(LDAvis){\n",
       "       new LDAvis(\"#\" + \"ldavis_el862819736304185205453734993\", ldavis_el862819736304185205453734993_data);\n",
       "   }(LDAvis);\n",
       "}else if(typeof define === \"function\" && define.amd){\n",
       "   // require.js is available: use it to load d3/LDAvis\n",
       "   require.config({paths: {d3: \"https://cdnjs.cloudflare.com/ajax/libs/d3/3.5.5/d3.min\"}});\n",
       "   require([\"d3\"], function(d3){\n",
       "      window.d3 = d3;\n",
       "      LDAvis_load_lib(\"https://cdn.rawgit.com/bmabey/pyLDAvis/files/ldavis.v1.0.0.js\", function(){\n",
       "        new LDAvis(\"#\" + \"ldavis_el862819736304185205453734993\", ldavis_el862819736304185205453734993_data);\n",
       "      });\n",
       "    });\n",
       "}else{\n",
       "    // require.js not available: dynamically load d3 & LDAvis\n",
       "    LDAvis_load_lib(\"https://cdnjs.cloudflare.com/ajax/libs/d3/3.5.5/d3.min.js\", function(){\n",
       "         LDAvis_load_lib(\"https://cdn.rawgit.com/bmabey/pyLDAvis/files/ldavis.v1.0.0.js\", function(){\n",
       "                 new LDAvis(\"#\" + \"ldavis_el862819736304185205453734993\", ldavis_el862819736304185205453734993_data);\n",
       "            })\n",
       "         });\n",
       "}\n",
       "</script>"
      ],
      "text/plain": [
       "PreparedData(topic_coordinates=              x         y  topics  cluster       Freq\n",
       "topic                                                \n",
       "0      0.001044  0.000240       1        1  10.946309\n",
       "3      0.002063 -0.003574       2        1  10.597708\n",
       "8      0.003077 -0.000955       3        1  10.565511\n",
       "4     -0.002491 -0.001430       4        1   9.949989\n",
       "7     -0.002443  0.003218       5        1   9.930999\n",
       "9      0.000979  0.003432       6        1   9.850300\n",
       "6     -0.003118 -0.001757       7        1   9.849172\n",
       "1      0.002359 -0.000738       8        1   9.839518\n",
       "2      0.001651  0.002545       9        1   9.289858\n",
       "5     -0.003121 -0.000981      10        1   9.180647, topic_info=     Category         Freq     Term        Total  loglift  logprob\n",
       "53    Default  2333.000000  service  2333.000000  30.0000  30.0000\n",
       "59    Default  7719.000000     \\n\\n  7719.000000  29.0000  29.0000\n",
       "24    Default  2975.000000     like  2975.000000  28.0000  28.0000\n",
       "248   Default  3104.000000    great  3104.000000  27.0000  27.0000\n",
       "443   Default  3275.000000     food  3275.000000  26.0000  26.0000\n",
       "...       ...          ...      ...          ...      ...      ...\n",
       "421   Topic10   103.537712     come  1296.105835  -0.1391  -6.1713\n",
       "107   Topic10    96.406586     nice  1236.059692  -0.1630  -6.2427\n",
       "55    Topic10    93.709183    staff  1135.905396  -0.1069  -6.2711\n",
       "142   Topic10    97.360962     best  1476.136841  -0.3307  -6.2328\n",
       "1381  Topic10    87.828804      new   980.166321  -0.0243  -6.3359\n",
       "\n",
       "[838 rows x 6 columns], token_table=       Topic      Freq                                               Term\n",
       "term                                                                     \n",
       "400        1  0.122092                                                 \\n\n",
       "400        2  0.105193                                                 \\n\n",
       "400        3  0.140717                                                 \\n\n",
       "400        4  0.082085                                                 \\n\n",
       "400        5  0.119333                                                 \\n\n",
       "...      ...       ...                                                ...\n",
       "24998     10  0.042705                                                yuk\n",
       "49264      1  0.189494                                               yuk!\n",
       "49264      3  0.189494                                               yuk!\n",
       "49264      9  0.189494                                               yuk!\n",
       "46264      6  0.655687  天氣很熱吃不下東西，今天我點了一個韓國冷面湯、餐後點了甜點，冰沙系列不會太甜膩，覺得店家很用...\n",
       "\n",
       "[2417 rows x 3 columns], R=30, lambda_step=0.01, plot_opts={'xlab': 'PC1', 'ylab': 'PC2'}, topic_order=[1, 4, 9, 5, 8, 10, 7, 2, 3, 6])"
      ]
     },
     "execution_count": 15,
     "metadata": {},
     "output_type": "execute_result"
    }
   ],
   "source": [
    "pyLDAvis.gensim.prepare(lda, corpus, id2word)"
   ]
  },
  {
   "cell_type": "markdown",
   "metadata": {},
   "source": [
    "Create 1-2 visualizations of the results"
   ]
  },
  {
   "cell_type": "markdown",
   "metadata": {},
   "source": [
    "## Stretch Goals\n",
    "\n",
    "Complete one of more of these to push your score towards a three: \n",
    "* Incorporate named entity recognition into your analysis\n",
    "* Compare vectorization methods in the classification section\n",
    "* Analyze more (or all) of the yelp dataset - this one is v. hard. \n",
    "* Use a generator object on the reviews file - this would help you with the analyzing the whole dataset.\n",
    "* Incorporate any of the other yelp dataset entities in your analysis (business, users, etc.)"
   ]
  }
 ],
 "metadata": {
  "kernel_info": {
   "name": "u4-s1-nlp"
  },
  "kernelspec": {
   "display_name": "U4-S1-NLP(Python3)",
   "language": "python",
   "name": "u4-s1-nlp"
  },
  "language_info": {
   "codemirror_mode": {
    "name": "ipython",
    "version": 3
   },
   "file_extension": ".py",
   "mimetype": "text/x-python",
   "name": "python",
   "nbconvert_exporter": "python",
   "pygments_lexer": "ipython3",
   "version": "3.7.0"
  },
  "nteract": {
   "version": "0.14.5"
  },
  "toc-autonumbering": false
 },
 "nbformat": 4,
 "nbformat_minor": 4
}
